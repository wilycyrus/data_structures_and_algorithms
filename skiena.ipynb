{
 "cells": [
  {
   "cell_type": "markdown",
   "metadata": {},
   "source": [
    "# Linked Lists"
   ]
  },
  {
   "cell_type": "code",
   "execution_count": 1,
   "metadata": {
    "collapsed": false
   },
   "outputs": [],
   "source": [
    "class LinkedList(object):\n",
    "    def __init__(self, data):\n",
    "        self.data = data\n",
    "        self.next_ = None\n",
    "        \n",
    "    def __str__(self):\n",
    "        return str(self.data)"
   ]
  },
  {
   "cell_type": "code",
   "execution_count": 2,
   "metadata": {
    "collapsed": false
   },
   "outputs": [],
   "source": [
    "def search_list_rec(list_, data):\n",
    "    if not list_:\n",
    "        return None\n",
    "    if list_.data == data:\n",
    "        return list_\n",
    "    else:\n",
    "        return search_list_rec(list_.next_, data)\n",
    "\n",
    "def search_list_iter(list_, data):\n",
    "    while list_:\n",
    "        if list_.data == data:\n",
    "            return list_\n",
    "        else:\n",
    "            list_ = list_.next_\n",
    "    if not list_:\n",
    "        return None"
   ]
  },
  {
   "cell_type": "code",
   "execution_count": 3,
   "metadata": {
    "collapsed": false
   },
   "outputs": [],
   "source": [
    "def insert_list(list_, data):\n",
    "    new_list = LinkedList(data)\n",
    "    new_list.next_ = list_\n",
    "    return new_list"
   ]
  },
  {
   "cell_type": "code",
   "execution_count": 4,
   "metadata": {
    "collapsed": false
   },
   "outputs": [],
   "source": [
    "def delete_list(list_, data):\n",
    "    head = list_\n",
    "    if list_ == None:\n",
    "        return None\n",
    "    if list_.data == data:\n",
    "        return list_.next_\n",
    "    pred = list_\n",
    "    list_ = list_.next_\n",
    "    while list_:\n",
    "        if list_.data == data:\n",
    "            pred.next_ = list_.next_\n",
    "            return head\n",
    "        pred = list_\n",
    "        list_ = list_.next_\n",
    "    return None"
   ]
  },
  {
   "cell_type": "code",
   "execution_count": 8,
   "metadata": {
    "collapsed": true
   },
   "outputs": [],
   "source": [
    "def predecessor_list(list_, data):\n",
    "    if not list_ or not list_.next_:\n",
    "        return None\n",
    "    if list_.next_.data == data:\n",
    "        return list_\n",
    "    else:\n",
    "        predecessor_list(list_.next_, data)"
   ]
  },
  {
   "cell_type": "code",
   "execution_count": 5,
   "metadata": {
    "collapsed": true
   },
   "outputs": [],
   "source": [
    "def print_list(list_):\n",
    "    data = []\n",
    "    while list_:\n",
    "        data.append(list_.data)\n",
    "        list_ = list_.next_\n",
    "    print ', '.join(data)"
   ]
  },
  {
   "cell_type": "code",
   "execution_count": 12,
   "metadata": {
    "collapsed": false
   },
   "outputs": [
    {
     "name": "stdout",
     "output_type": "stream",
     "text": [
      "b\n",
      "b\n",
      "z, a, b, c\n",
      "z, b, c\n",
      "b, c\n",
      "b\n"
     ]
    }
   ],
   "source": [
    "a = LinkedList('a')\n",
    "b = LinkedList('b')\n",
    "c = LinkedList('c')\n",
    "a.next_ = b\n",
    "b.next_ = c\n",
    "head = a\n",
    "\n",
    "print search_list_rec(head, 'b')\n",
    "print search_list_iter(head, 'b')\n",
    "\n",
    "head = insert_list(head, 'z')\n",
    "print_list(head)\n",
    "\n",
    "head = delete_list(head, 'a')\n",
    "print_list(head)\n",
    "\n",
    "head = delete_list(head, 'z')\n",
    "print_list(head)\n",
    "\n",
    "print predecessor_list(head, 'c')"
   ]
  },
  {
   "cell_type": "markdown",
   "metadata": {},
   "source": [
    "# Binary Search Trees"
   ]
  },
  {
   "cell_type": "code",
   "execution_count": null,
   "metadata": {
    "collapsed": true
   },
   "outputs": [],
   "source": []
  }
 ],
 "metadata": {
  "kernelspec": {
   "display_name": "Python 2",
   "language": "python",
   "name": "python2"
  },
  "language_info": {
   "codemirror_mode": {
    "name": "ipython",
    "version": 2
   },
   "file_extension": ".py",
   "mimetype": "text/x-python",
   "name": "python",
   "nbconvert_exporter": "python",
   "pygments_lexer": "ipython2",
   "version": "2.7.3"
  }
 },
 "nbformat": 4,
 "nbformat_minor": 0
}
