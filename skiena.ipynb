{
 "cells": [
  {
   "cell_type": "markdown",
   "metadata": {},
   "source": [
    "# Linked Lists"
   ]
  },
  {
   "cell_type": "code",
   "execution_count": 3,
   "metadata": {
    "collapsed": false
   },
   "outputs": [],
   "source": [
    "class LinkedList(object):\n",
    "    def __init__(self, data):\n",
    "        self.data = data\n",
    "        self.next_ = None\n",
    "        \n",
    "    def __str__(self):\n",
    "        return str(self.data)"
   ]
  },
  {
   "cell_type": "code",
   "execution_count": 4,
   "metadata": {
    "collapsed": false
   },
   "outputs": [],
   "source": [
    "def search_list_rec(list_, data):\n",
    "    if not list_:\n",
    "        return None\n",
    "    if list_.data == data:\n",
    "        return list_\n",
    "    else:\n",
    "        return search_list_rec(list_.next_, data)\n",
    "\n",
    "def search_list_iter(list_, data):\n",
    "    while list_:\n",
    "        if list_.data == data:\n",
    "            return list_\n",
    "        else:\n",
    "            list_ = list_.next_\n",
    "    if not list_:\n",
    "        return None"
   ]
  },
  {
   "cell_type": "code",
   "execution_count": 5,
   "metadata": {
    "collapsed": false
   },
   "outputs": [],
   "source": [
    "def insert_list(list_, data):\n",
    "    new_list = LinkedList(data)\n",
    "    new_list.next_ = list_\n",
    "    return new_list"
   ]
  },
  {
   "cell_type": "code",
   "execution_count": 6,
   "metadata": {
    "collapsed": false
   },
   "outputs": [],
   "source": [
    "def delete_list(list_, data):\n",
    "    if list_ == None:\n",
    "        return None\n",
    "    if list_.data == data:\n",
    "        return list_.next_\n",
    "    pred = list_\n",
    "    node = list_.next_\n",
    "    while node:\n",
    "        if node.data == data:\n",
    "            pred.next_ = node.next_\n",
    "            return list_\n",
    "        pred = node\n",
    "        node = node.next_\n",
    "    return None"
   ]
  },
  {
   "cell_type": "code",
   "execution_count": 7,
   "metadata": {
    "collapsed": true
   },
   "outputs": [],
   "source": [
    "def predecessor_list(list_, data):\n",
    "    if not list_ or not list_.next_:\n",
    "        return None\n",
    "    if list_.next_.data == data:\n",
    "        return list_\n",
    "    else:\n",
    "        predecessor_list(list_.next_, data)"
   ]
  },
  {
   "cell_type": "code",
   "execution_count": 8,
   "metadata": {
    "collapsed": true
   },
   "outputs": [],
   "source": [
    "def print_list(list_):\n",
    "    data = []\n",
    "    while list_:\n",
    "        data.append(list_.data)\n",
    "        list_ = list_.next_\n",
    "    print ', '.join(data)"
   ]
  },
  {
   "cell_type": "code",
   "execution_count": 9,
   "metadata": {
    "collapsed": false
   },
   "outputs": [
    {
     "name": "stdout",
     "output_type": "stream",
     "text": [
      "b\n",
      "b\n",
      "z, a, b, c\n",
      "z, b, c\n",
      "b, c\n",
      "b\n"
     ]
    }
   ],
   "source": [
    "a = LinkedList('a')\n",
    "b = LinkedList('b')\n",
    "c = LinkedList('c')\n",
    "a.next_ = b\n",
    "b.next_ = c\n",
    "head = a\n",
    "\n",
    "print search_list_rec(head, 'b')\n",
    "print search_list_iter(head, 'b')\n",
    "\n",
    "head = insert_list(head, 'z')\n",
    "print_list(head)\n",
    "\n",
    "head = delete_list(head, 'a')\n",
    "print_list(head)\n",
    "\n",
    "head = delete_list(head, 'z')\n",
    "print_list(head)\n",
    "\n",
    "print predecessor_list(head, 'c')"
   ]
  },
  {
   "cell_type": "markdown",
   "metadata": {},
   "source": [
    "# Binary Search Trees"
   ]
  },
  {
   "cell_type": "code",
   "execution_count": 10,
   "metadata": {
    "collapsed": true
   },
   "outputs": [],
   "source": [
    "class BST(object):\n",
    "    def __init__(self, item):\n",
    "        self.item = item\n",
    "        self.left = None\n",
    "        self.right = None\n",
    "        self.parent = None\n",
    "    \n",
    "    def __str__(self):\n",
    "        return str(self.item)"
   ]
  },
  {
   "cell_type": "code",
   "execution_count": 11,
   "metadata": {
    "collapsed": true
   },
   "outputs": [],
   "source": [
    "def search_tree(tree, item):\n",
    "    if not tree:\n",
    "        return None\n",
    "    if tree.item == item:\n",
    "        return tree\n",
    "    if item < tree.item:\n",
    "        return search_tree(tree.left, item)\n",
    "    else:\n",
    "        return search_tree(tree.right, item)"
   ]
  },
  {
   "cell_type": "code",
   "execution_count": 12,
   "metadata": {
    "collapsed": true
   },
   "outputs": [],
   "source": [
    "def find_minimum(tree):\n",
    "    if not tree:\n",
    "        return None\n",
    "    if not tree.left:\n",
    "        return tree\n",
    "    else:\n",
    "        return find_minimum(tree.left)\n",
    "    \n",
    "def find_maximum(tree):\n",
    "    if not tree:\n",
    "        return None\n",
    "    if not tree.right:\n",
    "        return tree\n",
    "    else:\n",
    "        return find_maximum(tree.right)"
   ]
  },
  {
   "cell_type": "code",
   "execution_count": 13,
   "metadata": {
    "collapsed": true
   },
   "outputs": [],
   "source": [
    "def insert_tree(tree, item, parent = None):\n",
    "    if not tree:\n",
    "        tree = BST(item)\n",
    "        tree.parent = parent\n",
    "        if parent:\n",
    "            if item < parent.item:\n",
    "                parent.left = tree\n",
    "            else:\n",
    "                parent.right = tree\n",
    "        return\n",
    "\n",
    "    if item < tree.item:\n",
    "        insert_tree(tree.left, item, tree)\n",
    "    else:\n",
    "        insert_tree(tree.right, item, tree)"
   ]
  },
  {
   "cell_type": "code",
   "execution_count": 14,
   "metadata": {
    "collapsed": true
   },
   "outputs": [],
   "source": [
    "def process_item(item):\n",
    "    print item"
   ]
  },
  {
   "cell_type": "code",
   "execution_count": 15,
   "metadata": {
    "collapsed": true
   },
   "outputs": [],
   "source": [
    "def in_order_traverse_tree(tree):\n",
    "    if tree:\n",
    "        in_order_traverse_tree(tree.left)\n",
    "        process_item(tree.item)\n",
    "        in_order_traverse_tree(tree.right)"
   ]
  },
  {
   "cell_type": "code",
   "execution_count": 16,
   "metadata": {
    "collapsed": true
   },
   "outputs": [],
   "source": [
    "def pre_order_traverse_tree(tree):\n",
    "    if tree:\n",
    "        process_item(tree.item)\n",
    "        pre_order_traverse_tree(tree.left)\n",
    "        pre_order_traverse_tree(tree.right)"
   ]
  },
  {
   "cell_type": "code",
   "execution_count": 17,
   "metadata": {
    "collapsed": true
   },
   "outputs": [],
   "source": [
    "def post_order_traverse_tree(tree):\n",
    "    if tree:\n",
    "        post_order_traverse_tree(tree.left)\n",
    "        post_order_traverse_tree(tree.right)\n",
    "        process_item(tree.item)"
   ]
  },
  {
   "cell_type": "code",
   "execution_count": 18,
   "metadata": {
    "collapsed": true
   },
   "outputs": [],
   "source": [
    "def delete_tree(tree, item):\n",
    "    if tree:\n",
    "        node = search_tree(tree, item)\n",
    "        if num_children(node) == 0:\n",
    "            delete_leaf(node)\n",
    "        elif num_children(node) == 1:\n",
    "            delete_node_one_child(node)\n",
    "            \n",
    "def delete_leaf(tree):\n",
    "    if tree:\n",
    "        parent = tree.parent\n",
    "        if tree.item < parent.item:\n",
    "            parent.left = None\n",
    "        else:\n",
    "            parent.right = None\n",
    "\n",
    "def delete_tree_one_child(tree):\n",
    "    if tree:\n",
    "        parent = tree.parent\n",
    "        if tree.item < parent.item:\n",
    "            if tree.left:\n",
    "                parent.left = tree.left\n",
    "            else:\n",
    "                parent.left = tree.right\n",
    "        else:\n",
    "            if tree.left:\n",
    "                parent.right = tree.left\n",
    "            else:\n",
    "                parent.right = tree.right\n",
    "            \n",
    "def delete_tree_two_child(tree):\n",
    "    if tree:\n",
    "        min_node = find_minimum(tree.right)\n",
    "        \n",
    "def num_children(node):\n",
    "    if not node.left and not node.right:\n",
    "        return 0\n",
    "    elif not node.left or not node.right:\n",
    "        return 1\n",
    "    else:\n",
    "        return 2"
   ]
  },
  {
   "cell_type": "code",
   "execution_count": 19,
   "metadata": {
    "collapsed": false
   },
   "outputs": [
    {
     "name": "stdout",
     "output_type": "stream",
     "text": [
      "a\n",
      "b\n",
      "c\n",
      "None\n",
      "minimum a\n",
      "maximum e\n",
      "In-order traverse\n",
      "a\n",
      "b\n",
      "c\n",
      "d\n",
      "e\n",
      "Pre-order traverse\n",
      "b\n",
      "a\n",
      "c\n",
      "d\n",
      "e\n",
      "Post-order traverse\n",
      "a\n",
      "e\n",
      "d\n",
      "c\n",
      "b\n"
     ]
    }
   ],
   "source": [
    "a = BST('a')\n",
    "b = BST('b')\n",
    "c = BST('c')\n",
    "d = BST('d')\n",
    "e = BST('e')\n",
    "\n",
    "root = b\n",
    "insert_tree(root, 'a')\n",
    "insert_tree(root, 'c')\n",
    "insert_tree(root, 'd')\n",
    "insert_tree(root, 'e')\n",
    "\n",
    "# search\n",
    "print search_tree(root, 'a')\n",
    "print search_tree(root, 'b')\n",
    "print search_tree(root, 'c')\n",
    "print search_tree(a, 'b')\n",
    "\n",
    "# find minimum and maximum\n",
    "print 'minimum', find_minimum(root)\n",
    "print 'maximum', find_maximum(root)\n",
    "\n",
    "print 'In-order traverse'\n",
    "in_order_traverse_tree(root)\n",
    "\n",
    "print 'Pre-order traverse'\n",
    "pre_order_traverse_tree(root)\n",
    "\n",
    "print 'Post-order traverse'\n",
    "post_order_traverse_tree(root)"
   ]
  }
 ],
 "metadata": {
  "kernelspec": {
   "display_name": "Python 2",
   "language": "python",
   "name": "python2"
  },
  "language_info": {
   "codemirror_mode": {
    "name": "ipython",
    "version": 2
   },
   "file_extension": ".py",
   "mimetype": "text/x-python",
   "name": "python",
   "nbconvert_exporter": "python",
   "pygments_lexer": "ipython2",
   "version": "2.7.3"
  }
 },
 "nbformat": 4,
 "nbformat_minor": 0
}
