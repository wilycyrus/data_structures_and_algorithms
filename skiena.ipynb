{
 "cells": [
  {
   "cell_type": "markdown",
   "metadata": {},
   "source": [
    "# Linked List"
   ]
  },
  {
   "cell_type": "code",
   "execution_count": 3,
   "metadata": {
    "collapsed": false
   },
   "outputs": [
    {
     "name": "stdout",
     "output_type": "stream",
     "text": [
      "b\n",
      "b\n"
     ]
    }
   ],
   "source": [
    "class LinkedList(object):\n",
    "    def __init__(self, data):\n",
    "        self.data = data\n",
    "        self.next_ = None\n",
    "        \n",
    "    def __str__(self):\n",
    "        return str(self.data)"
   ]
  },
  {
   "cell_type": "code",
   "execution_count": 11,
   "metadata": {
    "collapsed": false
   },
   "outputs": [
    {
     "name": "stdout",
     "output_type": "stream",
     "text": [
      " b\n",
      "b\n"
     ]
    }
   ],
   "source": [
    "def search_list_rec(list_, data):\n",
    "    if not list_:\n",
    "        return None\n",
    "    if list_.data == data:\n",
    "        return list_\n",
    "    else:\n",
    "        return search_list_rec(list_.next_, data)\n",
    "\n",
    "def search_list_iter(list_, data):\n",
    "    while list_:\n",
    "        if list_.data == data:\n",
    "            return list_\n",
    "        else:\n",
    "            list_ = list_.next_\n",
    "    if not list_:\n",
    "        return None"
   ]
  },
  {
   "cell_type": "code",
   "execution_count": 12,
   "metadata": {
    "collapsed": false
   },
   "outputs": [
    {
     "name": "stdout",
     "output_type": "stream",
     "text": [
      "z\n",
      "a\n"
     ]
    }
   ],
   "source": [
    "def insert_list(list_, data):\n",
    "    new_list = LinkedList(data)\n",
    "    new_list.next_ = list_\n",
    "    return new_list"
   ]
  },
  {
   "cell_type": "code",
   "execution_count": 13,
   "metadata": {
    "collapsed": false
   },
   "outputs": [
    {
     "name": "stdout",
     "output_type": "stream",
     "text": [
      "z b\n",
      "None"
     ]
    },
    {
     "ename": "AttributeError",
     "evalue": "'NoneType' object has no attribute 'next_'",
     "output_type": "error",
     "traceback": [
      "\u001b[0;31m---------------------------------------------------------------------------\u001b[0m",
      "\u001b[0;31mAttributeError\u001b[0m                            Traceback (most recent call last)",
      "\u001b[0;32m<ipython-input-13-d9f676c4eaec>\u001b[0m in \u001b[0;36m<module>\u001b[0;34m()\u001b[0m\n\u001b[1;32m     19\u001b[0m \u001b[0;34m\u001b[0m\u001b[0m\n\u001b[1;32m     20\u001b[0m \u001b[0mlist_\u001b[0m \u001b[0;34m=\u001b[0m \u001b[0mdelete_list\u001b[0m\u001b[0;34m(\u001b[0m\u001b[0mlist_\u001b[0m\u001b[0;34m,\u001b[0m \u001b[0;34m'z'\u001b[0m\u001b[0;34m)\u001b[0m\u001b[0;34m\u001b[0m\u001b[0m\n\u001b[0;32m---> 21\u001b[0;31m \u001b[0;32mprint\u001b[0m \u001b[0mlist_\u001b[0m\u001b[0;34m,\u001b[0m \u001b[0mlist_\u001b[0m\u001b[0;34m.\u001b[0m\u001b[0mnext_\u001b[0m\u001b[0;34m\u001b[0m\u001b[0m\n\u001b[0m",
      "\u001b[0;31mAttributeError\u001b[0m: 'NoneType' object has no attribute 'next_'"
     ]
    }
   ],
   "source": [
    "def delete_list(list_, data):\n",
    "    head = list_\n",
    "    if list_ == None:\n",
    "        return None\n",
    "    if list_.data == data:\n",
    "        return list_.next_\n",
    "    pred = list_\n",
    "    list_ = list_.next_\n",
    "    while list_:\n",
    "        if list_.data == data:\n",
    "            pred.next_ = list_.next_\n",
    "            return head\n",
    "        pred = list_\n",
    "        list_ = list_.next_\n",
    "    return None"
   ]
  },
  {
   "cell_type": "code",
   "execution_count": 16,
   "metadata": {
    "collapsed": true
   },
   "outputs": [],
   "source": [
    "def print_list(list_):\n",
    "    data = []\n",
    "    while list_:\n",
    "        data.append(list_.data)\n",
    "        list_ = list_.next_\n",
    "    print ', '.join(data)"
   ]
  },
  {
   "cell_type": "code",
   "execution_count": 19,
   "metadata": {
    "collapsed": false
   },
   "outputs": [
    {
     "name": "stdout",
     "output_type": "stream",
     "text": [
      "b\n",
      "b\n",
      "z, a, b, c\n",
      "z, b, c\n",
      "b, c\n"
     ]
    }
   ],
   "source": [
    "a = LinkedList('a')\n",
    "b = LinkedList('b')\n",
    "c = LinkedList('c')\n",
    "a.next_ = b\n",
    "b.next_ = c\n",
    "\n",
    "result = search_list_rec(a, 'b')\n",
    "if result:\n",
    "    print result.data\n",
    "\n",
    "result = search_list_iter(a, 'b')\n",
    "if result:\n",
    "    print result.data\n",
    "\n",
    "z = insert_list(a, 'z')\n",
    "if z:\n",
    "    print_list(z)\n",
    "\n",
    "new_list = delete_list(z, 'a')\n",
    "if new_list:\n",
    "    print_list(new_list)\n",
    "\n",
    "new_list = delete_list(new_list, 'z')\n",
    "print_list(new_list)"
   ]
  }
 ],
 "metadata": {
  "kernelspec": {
   "display_name": "Python 2",
   "language": "python",
   "name": "python2"
  },
  "language_info": {
   "codemirror_mode": {
    "name": "ipython",
    "version": 2
   },
   "file_extension": ".py",
   "mimetype": "text/x-python",
   "name": "python",
   "nbconvert_exporter": "python",
   "pygments_lexer": "ipython2",
   "version": "2.7.3"
  }
 },
 "nbformat": 4,
 "nbformat_minor": 0
}
