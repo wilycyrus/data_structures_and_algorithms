{
 "cells": [
  {
   "cell_type": "raw",
   "metadata": {},
   "source": [
    "http://www.ardendertat.com/2012/01/09/programming-interview-questions/"
   ]
  },
  {
   "cell_type": "code",
   "execution_count": 27,
   "metadata": {
    "collapsed": false
   },
   "outputs": [
    {
     "data": {
      "text/plain": [
       "28"
      ]
     },
     "execution_count": 27,
     "metadata": {},
     "output_type": "execute_result"
    }
   ],
   "source": [
    "# Matrix region sum\n",
    "\n",
    "def precompute_sum(matrix):\n",
    "    n_rows = len(matrix)\n",
    "    n_cols = len(matrix[0])\n",
    "    sums = [[0 for _ in range(n_cols)] for _ in range(n_rows)]\n",
    "    sums[0][0] = matrix[0][0]\n",
    "    for i in range(1, n_rows):\n",
    "        sums[i][0] = sums[i-1][0] + matrix[i][0]\n",
    "    for j in range(1, n_cols):\n",
    "        sums[0][j] = sums[0][j-1] + matrix[0][j]\n",
    "    for i in range(1, n_rows):\n",
    "        for j in range(1, n_cols):\n",
    "            sums[i][j] = sums[i][j-1] + sums[i-1][j] - sums[i-1][j-1] + matrix[i][j]\n",
    "    return sums\n",
    "    \n",
    "def region_sum(matrix, r1, c1, r2, c2):\n",
    "    sums = precompute_sum(matrix)\n",
    "    return sums[r2][c2] - sums[r1-1][c2] - sums[r2][c1-1] + sums[r1-1][c1-1]\n",
    "\n",
    "matrix = [[1, 2, 3], [4, 5, 6], [7, 8, 9]]\n",
    "region_sum(matrix, 1, 1, 2, 2)"
   ]
  },
  {
   "cell_type": "code",
   "execution_count": 34,
   "metadata": {
    "collapsed": false
   },
   "outputs": [
    {
     "data": {
      "text/plain": [
       "7"
      ]
     },
     "execution_count": 34,
     "metadata": {},
     "output_type": "execute_result"
    }
   ],
   "source": [
    "# Max contiguous sum\n",
    "\n",
    "from sys import maxint\n",
    "\n",
    "def max_contiguous_sum(array):\n",
    "    max_sum = -maxint + 1\n",
    "    current_sum = array[0]\n",
    "    for number in array[1:]:\n",
    "        current_sum = max(current_sum + number, number)\n",
    "        max_sum = max(max_sum, current_sum)\n",
    "    return max_sum\n",
    "\n",
    "array = [-1, 2, 3, -2, 4]\n",
    "max_contiguous_sum(array)"
   ]
  },
  {
   "cell_type": "code",
   "execution_count": 39,
   "metadata": {
    "collapsed": false
   },
   "outputs": [
    {
     "data": {
      "text/plain": [
       "(7, 1, 4)"
      ]
     },
     "execution_count": 39,
     "metadata": {},
     "output_type": "execute_result"
    }
   ],
   "source": [
    "# A version that returns the numbers that results in the max contiguous sum as well\n",
    "\n",
    "from sys import maxint\n",
    "\n",
    "def max_contiguous_sum(array):\n",
    "    max_sum = -maxint + 1\n",
    "    current_sum = array[0]\n",
    "    start = 0\n",
    "    end = 0\n",
    "    for i in range(1, len(array)):\n",
    "        if current_sum < 0:\n",
    "            current_sum = array[i]\n",
    "            start = i\n",
    "        else:\n",
    "            current_sum += array[i]\n",
    "            end = i\n",
    "        if current_sum > max_sum:\n",
    "            max_sum = current_sum\n",
    "            max_start = start\n",
    "            max_end = end\n",
    "\n",
    "    return max_sum, max_start, max_end\n",
    "\n",
    "array = [-1, 2, 3, -2, 4, -3]\n",
    "max_contiguous_sum(array)"
   ]
  },
  {
   "cell_type": "code",
   "execution_count": 3,
   "metadata": {
    "collapsed": false
   },
   "outputs": [
    {
     "data": {
      "text/plain": [
       "[2, 3]"
      ]
     },
     "execution_count": 3,
     "metadata": {},
     "output_type": "execute_result"
    }
   ],
   "source": [
    "# Find missing element\n",
    "# The hash table. Multiple missing elements\n",
    "\n",
    "from collections import defaultdict\n",
    "\n",
    "def find_missing_element(array1, array2):\n",
    "    num_dict = defaultdict(int)\n",
    "    for number in array2:\n",
    "        num_dict[number] += 1\n",
    "    \n",
    "    missing_element = []\n",
    "    for number in array1:\n",
    "        if num_dict[number] == 0:\n",
    "            missing_element.append(number)\n",
    "\n",
    "    return missing_element\n",
    "\n",
    "array1 = [1, 2, 3, 4]\n",
    "array2 = [1, 4]\n",
    "find_missing_element(array1, array2)"
   ]
  },
  {
   "cell_type": "code",
   "execution_count": 7,
   "metadata": {
    "collapsed": false
   },
   "outputs": [
    {
     "data": {
      "text/plain": [
       "3"
      ]
     },
     "execution_count": 7,
     "metadata": {},
     "output_type": "execute_result"
    }
   ],
   "source": [
    "# The XOR trick. One missing element\n",
    "\n",
    "def find_missing_element(array1, array2):\n",
    "    xor_number = 0\n",
    "    for number in array1:\n",
    "        xor_number ^= number\n",
    "    for number in array2:\n",
    "        xor_number ^= number\n",
    "    return xor_number\n",
    "\n",
    "array1 = [1, 2, 3, 4]\n",
    "array2 = [1, 2, 4]\n",
    "find_missing_element(array1, array2)"
   ]
  },
  {
   "cell_type": "code",
   "execution_count": 22,
   "metadata": {
    "collapsed": false
   },
   "outputs": [
    {
     "name": "stdout",
     "output_type": "stream",
     "text": [
      "('bde', 'acdf') added to cache\n",
      "True\n",
      "8\n"
     ]
    }
   ],
   "source": [
    "# Combined two strings\n",
    "# Arden's code\n",
    "# http://www.ardendertat.com/2011/10/10/programming-interview-questions-6-combine-two-strings/\n",
    "\n",
    "count = 0\n",
    "def is_shuffle(str1, str2, str3, cache = set()):\n",
    "    global count\n",
    "    count += 1\n",
    "    if (str1, str2) in cache:\n",
    "        return False\n",
    "    if len(str1) + len(str2) != len(str3):\n",
    "        return False\n",
    "    if not str1 or not str2 or not str3:\n",
    "        if str1 + str2 == str3:\n",
    "            return True\n",
    "        else:\n",
    "            return False\n",
    "    if str1[0] == str3[0] and is_shuffle(str1[1:], str2, str3[1:], cache):\n",
    "        return True\n",
    "    if str2[0] == str3[0] and is_shuffle(str1, str2[1:], str3[1:], cache):\n",
    "        return True\n",
    "    cache.add((str1, str2))\n",
    "    print (str1, str2), 'added to cache'\n",
    "    return False\n",
    "\n",
    "s1 = 'abde'\n",
    "s2 = 'acdf'\n",
    "s3 = 'acabdedf'\n",
    "print is_shuffle(s1, s2, s3)\n",
    "print count"
   ]
  },
  {
   "cell_type": "code",
   "execution_count": 20,
   "metadata": {
    "collapsed": false
   },
   "outputs": [
    {
     "name": "stdout",
     "output_type": "stream",
     "text": [
      "cat\n",
      "cart\n",
      "caret\n"
     ]
    }
   ],
   "source": [
    "# Transform word\n",
    "\n",
    "from collections import defaultdict, deque\n",
    "\n",
    "import string\n",
    "\n",
    "def build_graph(words):\n",
    "    graph = defaultdict(list)\n",
    "    for word in words:\n",
    "        length = len(word)\n",
    "        for i in range(length):\n",
    "            # delete\n",
    "            new_word = word[:i] + word[i+1:]\n",
    "            if new_word in words:\n",
    "                graph[word].append(new_word)\n",
    "            # substitute\n",
    "            for letter in string.lowercase:\n",
    "                new_word = word[:i] + letter + word[i+1:]\n",
    "                if new_word in words and new_word != word:\n",
    "                    graph[word].append(new_word)\n",
    "        # insert\n",
    "        for i in range(length + 1):\n",
    "            for letter in string.lowercase:\n",
    "                new_word = word[:i] + letter + word[i:]\n",
    "                if new_word in words:\n",
    "                    graph[word].append(new_word)\n",
    "    return graph\n",
    "\n",
    "def bfs(graph, start):\n",
    "    discovered = defaultdict(lambda: False)\n",
    "    parents = defaultdict(lambda: None)\n",
    "    discovered[start] = True\n",
    "    parents[start] = None\n",
    "    que = deque([start])\n",
    "    while que:\n",
    "        v = que.popleft()\n",
    "        neighbors = graph[v]\n",
    "        for neighbor in neighbors:\n",
    "            if not discovered[neighbor]:\n",
    "                discovered[neighbor] = True\n",
    "                parents[neighbor] = v\n",
    "                que.append(neighbor)\n",
    "    return parents\n",
    "\n",
    "def shortest_path(parents, start, end):\n",
    "    assert start in parents\n",
    "    assert end in parents\n",
    "    stack = deque([end])\n",
    "    parent = parents[end]\n",
    "    while parent is not None:\n",
    "        stack.append(parent)\n",
    "        parent = parents[parent]\n",
    "    while stack:\n",
    "        v = stack.pop()\n",
    "        print v\n",
    "\n",
    "words = ['cat', 'bat', 'at', 'cart', 'caret']\n",
    "graph = build_graph(words)\n",
    "parents = bfs(graph, 'cat')\n",
    "shortest_path(parents, 'cat', 'caret')"
   ]
  },
  {
   "cell_type": "code",
   "execution_count": 8,
   "metadata": {
    "collapsed": false
   },
   "outputs": [
    {
     "name": "stdout",
     "output_type": "stream",
     "text": [
      "None\n"
     ]
    }
   ],
   "source": [
    "# Next palindrome\n",
    "# Arden's code\n",
    "# http://www.ardendertat.com/2011/12/01/programming-interview-questions-19-find-next-palindrome-number/\n",
    "    \n",
    "def nextPalindrome(num):\n",
    "    length=len(str(num))\n",
    "    oddDigits=(length%2!=0)\n",
    "    leftHalf=getLeftHalf(num)\n",
    "    middle=getMiddle(num)\n",
    "    if oddDigits:\n",
    "        increment=pow(10, length/2)\n",
    "        newNum=int(leftHalf+middle+leftHalf[::-1])\n",
    "    else:\n",
    "        increment=int(1.1*pow(10, length/2))\n",
    "        newNum=int(leftHalf+leftHalf[::-1])\n",
    "        if newNum > num:\n",
    "            return newNum\n",
    "        if middle!='9':\n",
    "            return newNum+increment\n",
    "        else:\n",
    "            return nextPalindrome(roundUp(num))\n",
    "def getLeftHalf(num):\n",
    "    return str(num)[:len(str(num))/2]\n",
    "def getMiddle(num):\n",
    "    return str(num)[(len(str(num))-1)/2]\n",
    "def roundUp(num):\n",
    "    length=len(str(num))\n",
    "    increment=pow(10,((length/2)+1))\n",
    "    return ((num/increment)+1)*increment\n",
    "\n",
    "print nextPalindrome(999)"
   ]
  },
  {
   "cell_type": "code",
   "execution_count": 35,
   "metadata": {
    "collapsed": false
   },
   "outputs": [
    {
     "name": "stdout",
     "output_type": "stream",
     "text": [
      "131\n",
      "252\n",
      "404\n",
      "4554\n",
      "1331\n",
      "2002\n",
      "999\n"
     ]
    }
   ],
   "source": [
    "def mirror(string):\n",
    "    length = len(string)\n",
    "    mid = (length - 1)//2\n",
    "    if length % 2 == 0:\n",
    "        string = string[:mid+1] + string[mid::-1]\n",
    "    else:\n",
    "        string = string[:mid] + string[mid] + string[mid-1::-1]\n",
    "    return string\n",
    "\n",
    "def next_palindrome(number):\n",
    "    num_str = str(number)\n",
    "    length = len(num_str)\n",
    "    mid = length//2\n",
    "    new_number = int(mirror(num_str))\n",
    "    if new_number < number:\n",
    "        number += pow(10, mid) \n",
    "        new_number = int(mirror(str(number)))\n",
    "    return new_number\n",
    "    \n",
    "print next_palindrome(123)\n",
    "print next_palindrome(250)\n",
    "print next_palindrome(397)\n",
    "print next_palindrome(4512)\n",
    "print next_palindrome(1234)\n",
    "print next_palindrome(1997)\n",
    "print next_palindrome(999)"
   ]
  }
 ],
 "metadata": {
  "kernelspec": {
   "display_name": "Python 2",
   "language": "python",
   "name": "python2"
  },
  "language_info": {
   "codemirror_mode": {
    "name": "ipython",
    "version": 2
   },
   "file_extension": ".py",
   "mimetype": "text/x-python",
   "name": "python",
   "nbconvert_exporter": "python",
   "pygments_lexer": "ipython2",
   "version": "2.7.3"
  }
 },
 "nbformat": 4,
 "nbformat_minor": 0
}
