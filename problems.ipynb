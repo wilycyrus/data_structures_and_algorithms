{
 "cells": [
  {
   "cell_type": "markdown",
   "metadata": {
    "deletable": true,
    "editable": true
   },
   "source": [
    "## Find the lowest common ancestor of two nodes in a binary tree"
   ]
  },
  {
   "cell_type": "markdown",
   "metadata": {
    "deletable": true,
    "editable": true
   },
   "source": [
    "Find the paths to the two nodes from the root. The last common node in the two pathes is lca. For example, if one path is a-b-c and the other is a-b-d, b is the lca. Or the first intersecting element in the two paths from the two nodes to the root.\n",
    "\n",
    "Note that the algorithms below don't consider duplicates in the input tree."
   ]
  },
  {
   "cell_type": "code",
   "execution_count": 5,
   "metadata": {
    "collapsed": true,
    "deletable": true,
    "editable": true
   },
   "outputs": [],
   "source": [
    "class Tree(object):\n",
    "    def __init__(self, key):\n",
    "        self.key = key\n",
    "        self.left = None\n",
    "        self.right = None\n",
    "        self.parent = None\n",
    "        \n",
    "    def __str__(self):\n",
    "        return str(self.key)\n",
    "    \n",
    "    def set_left(self, tree):\n",
    "        self.left = tree\n",
    "        tree.parent = self\n",
    "\n",
    "    def set_right(self, tree):\n",
    "        self.right = tree\n",
    "        tree.parent = self\n",
    "\n",
    "def search_tree(tree, key):\n",
    "    if not tree:\n",
    "        return None\n",
    "    if tree.key == key:\n",
    "        return tree\n",
    "    left = search_tree(tree.left, key)\n",
    "    right = search_tree(tree.right, key)\n",
    "    return left if left else right"
   ]
  },
  {
   "cell_type": "code",
   "execution_count": 6,
   "metadata": {
    "collapsed": false,
    "deletable": true,
    "editable": true
   },
   "outputs": [
    {
     "name": "stdout",
     "output_type": "stream",
     "text": [
      "2\n",
      "3\n",
      "None\n"
     ]
    }
   ],
   "source": [
    "a = Tree(1)\n",
    "b = Tree(2)\n",
    "c = Tree(3)\n",
    "d = Tree(4)\n",
    "e = Tree(5)\n",
    "a.set_left(b)\n",
    "a.set_right(c)\n",
    "b.set_left(d)\n",
    "b.set_right(e)\n",
    "binary_tree = a\n",
    "print(search_tree(a, 2))\n",
    "print(search_tree(a, 3))\n",
    "print(search_tree(a, 6))"
   ]
  },
  {
   "cell_type": "code",
   "execution_count": 88,
   "metadata": {
    "collapsed": true,
    "deletable": true,
    "editable": true
   },
   "outputs": [],
   "source": [
    "def path_from_root(tree, path):\n",
    "    if tree.parent:\n",
    "        path_from_root(tree.parent, path)\n",
    "    path.append(tree)\n",
    "    \n",
    "def print_path(path):\n",
    "    print 'path:',\n",
    "    for tree in path:\n",
    "        print tree,\n",
    "    print"
   ]
  },
  {
   "cell_type": "code",
   "execution_count": 89,
   "metadata": {
    "collapsed": false,
    "deletable": true,
    "editable": true
   },
   "outputs": [],
   "source": [
    "def find_lca(tree, x, y):\n",
    "    tree_x = search_tree(tree, x)\n",
    "    path_x = []\n",
    "    path_from_root(tree_x, path_x)\n",
    "    tree_y = search_tree(tree, y)\n",
    "    path_y = []\n",
    "    path_from_root(tree_y, path_y)\n",
    "    for tree1, tree2 in zip(path_x, path_y):\n",
    "        if not tree1 == tree2:\n",
    "            break\n",
    "        lca = tree1\n",
    "    return lca"
   ]
  },
  {
   "cell_type": "code",
   "execution_count": 90,
   "metadata": {
    "collapsed": false,
    "deletable": true,
    "editable": true
   },
   "outputs": [
    {
     "name": "stdout",
     "output_type": "stream",
     "text": [
      "lca: 1\n",
      "lca: 2\n"
     ]
    }
   ],
   "source": [
    "lca = find_lca(a, 3, 5)\n",
    "print('lca: {}'.format(lca))\n",
    "lca = find_lca(a, 4, 5)\n",
    "print('lca: {}'.format(lca))"
   ]
  },
  {
   "cell_type": "code",
   "execution_count": 102,
   "metadata": {
    "collapsed": false,
    "deletable": true,
    "editable": true
   },
   "outputs": [],
   "source": [
    "# A more efficient, recursive approach, O(n)\n",
    "def find_lca(tree, x, y):\n",
    "    if not tree:\n",
    "        return None\n",
    "    \n",
    "    if tree.key == x or tree.key == y:\n",
    "        return tree\n",
    "    \n",
    "    left = find_lca(tree.left, x, y)\n",
    "    right = find_lca(tree.right, x, y)\n",
    "    \n",
    "    if left and right:\n",
    "        return tree\n",
    "    \n",
    "    return left if left else right"
   ]
  },
  {
   "cell_type": "code",
   "execution_count": 103,
   "metadata": {
    "collapsed": false,
    "deletable": true,
    "editable": true
   },
   "outputs": [
    {
     "name": "stdout",
     "output_type": "stream",
     "text": [
      "1\n",
      "2\n"
     ]
    }
   ],
   "source": [
    "lca = find_lca(a, 3, 5)\n",
    "print(lca)\n",
    "lca = find_lca(a, 4, 5)\n",
    "print(lca)"
   ]
  },
  {
   "cell_type": "markdown",
   "metadata": {},
   "source": [
    "What if there are duplicates in a tree? There can be multiple common ancestors. The algorithm below may work."
   ]
  },
  {
   "cell_type": "code",
   "execution_count": 25,
   "metadata": {
    "collapsed": false
   },
   "outputs": [],
   "source": [
    "found = False\n",
    "lca = None\n",
    "count = 0\n",
    "\n",
    "def find_lca(tree, x, y, wanted):\n",
    "    global found, lca, count\n",
    "    if not found:\n",
    "        for v in [tree.left, tree.right]:\n",
    "            if v:\n",
    "                find_lca(v, x, y, wanted)\n",
    "        if count == 2 and not found:\n",
    "            lca = tree\n",
    "            found = True\n",
    "            return\n",
    "        if tree.key not in wanted and (tree.key == x or tree.key == y):\n",
    "            count += 1\n",
    "wanted = []\n",
    "find_lca(a, 3, 5, wanted)\n",
    "assert lca.key == 1"
   ]
  },
  {
   "cell_type": "markdown",
   "metadata": {
    "deletable": true,
    "editable": true
   },
   "source": [
    "## Find the lowest common ancestor of two nodes in a binary search tree"
   ]
  },
  {
   "cell_type": "markdown",
   "metadata": {
    "deletable": true,
    "editable": true
   },
   "source": [
    "The first algorithm for binary trees above works for binary search trees as well. There is a more efficient algorithm based on a property of binary search trees, the keys in the left subtree is always less than those of the right subtree. Recursively check the key of each node. The first node whose key is between x and y or equals to x or y is the lca."
   ]
  },
  {
   "cell_type": "code",
   "execution_count": 2,
   "metadata": {
    "collapsed": true,
    "deletable": true,
    "editable": true
   },
   "outputs": [],
   "source": [
    "def insert(tree, x, parent=None):\n",
    "    if not tree:\n",
    "        tree = Tree(x)\n",
    "        tree.parent = parent\n",
    "        if parent.key > x:\n",
    "            parent.left = tree\n",
    "        else:\n",
    "            parent.right = tree\n",
    "    else:\n",
    "        if tree.key > x:\n",
    "            insert(tree.left, x, tree)\n",
    "        else:\n",
    "            insert(tree.right, x, tree)\n",
    "            \n",
    "def inorder_traverse(tree):\n",
    "    if tree:\n",
    "        inorder_traverse(tree.left)\n",
    "        process_tree(tree)\n",
    "        inorder_traverse(tree.right)\n",
    "\n",
    "def process_tree(tree):\n",
    "    print(tree.key)"
   ]
  },
  {
   "cell_type": "code",
   "execution_count": 3,
   "metadata": {
    "collapsed": false,
    "deletable": true,
    "editable": true
   },
   "outputs": [
    {
     "name": "stdout",
     "output_type": "stream",
     "text": [
      "1\n",
      "2\n",
      "3\n",
      "4\n",
      "5\n"
     ]
    }
   ],
   "source": [
    "tree = Tree(4)\n",
    "insert(tree, 2)\n",
    "insert(tree, 1)\n",
    "insert(tree, 3)\n",
    "insert(tree, 5)\n",
    "inorder_traverse(tree) # This is for validating if the tree is a BST."
   ]
  },
  {
   "cell_type": "code",
   "execution_count": 7,
   "metadata": {
    "collapsed": false
   },
   "outputs": [],
   "source": [
    "def find_lca(tree, x, y):\n",
    "    if not tree:\n",
    "        return\n",
    "    # The equal signs for cases where the lca is one of the two nodes.\n",
    "    if min(x, y) <= tree.key <= max(x, y):\n",
    "        return tree\n",
    "    if tree.key > max(x, y):\n",
    "        return find_lca(tree.left, x, y)\n",
    "    elif tree.key < min(x, y):\n",
    "        return find_lca(tree.right, x, y)\n",
    "\n",
    "lca = find_lca(tree, 3, 5)\n",
    "assert lca.key == 4\n",
    "lca = find_lca(tree, 4, 5)\n",
    "assert lca.key == 4"
   ]
  },
  {
   "cell_type": "markdown",
   "metadata": {
    "deletable": true,
    "editable": true
   },
   "source": [
    "## Validate a binary search tree"
   ]
  },
  {
   "cell_type": "markdown",
   "metadata": {
    "deletable": true,
    "editable": true
   },
   "source": [
    "Algorithm 1:\n",
    "Do in-order traverse. The current node should be greater than the previously processed node.\n",
    "O(n)\n",
    "\n",
    "Algorithm 2: min-max\n",
    "The root, a, must be in [-inf, inf].\n",
    "The left child, b, of the root must be in [-inf, a].\n",
    "The right child, c, of the root must be in [a, inf].\n",
    "The left child, d, of b must be in [-inf, b].\n",
    "The right child, e, of b must be in [b, a].\n",
    "The left child, f, of c must be in [a, c].\n",
    "The right child, g, of c must be in [c, inf]\n",
    "...\n",
    "O(n)"
   ]
  },
  {
   "cell_type": "code",
   "execution_count": 99,
   "metadata": {
    "collapsed": false,
    "deletable": true,
    "editable": true
   },
   "outputs": [],
   "source": [
    "def process_tree(tree):\n",
    "    global stack\n",
    "    stack.append(tree.key)\n",
    "\n",
    "def validate_bst(tree):\n",
    "    global stack\n",
    "    inorder_traverse(tree)\n",
    "    prev_key = -float('inf')\n",
    "    for key in stack:\n",
    "        if key < prev_key:\n",
    "            return False\n",
    "        prev_key = key\n",
    "    return True\n",
    "stack = []\n",
    "assert validate_bst(bst) is True\n",
    "stack = []\n",
    "assert validate_bst(binary_tree) is False"
   ]
  },
  {
   "cell_type": "code",
   "execution_count": 105,
   "metadata": {
    "collapsed": false,
    "deletable": true,
    "editable": true
   },
   "outputs": [],
   "source": [
    "def validate_bst(tree, min_value, max_value):\n",
    "    if not tree:\n",
    "        return True\n",
    "    if tree.key < min_value or tree.key > max_value:\n",
    "        return False\n",
    "    return validate_bst(tree.left, min_value, tree.key) and validate_bst(tree.right, tree.key, max_value)\n",
    "min_value = -float('inf')\n",
    "max_value = float('inf')\n",
    "assert validate_bst(bst, min_value, max_value)\n",
    "assert not validate_bst(binary_tree, min_value, max_value)"
   ]
  },
  {
   "cell_type": "markdown",
   "metadata": {
    "deletable": true,
    "editable": true
   },
   "source": [
    "## Two Sum\n",
    "\n",
    "O(n) using a hash table\n",
    "\n",
    "Ask if there are duplicates in the array. For example, [1, 1, 1] and sum = 2 should result in (1, 1)."
   ]
  },
  {
   "cell_type": "code",
   "execution_count": 3,
   "metadata": {
    "collapsed": false,
    "deletable": true,
    "editable": true
   },
   "outputs": [
    {
     "name": "stdout",
     "output_type": "stream",
     "text": [
      "[(1, 2), (0, 4)]\n"
     ]
    }
   ],
   "source": [
    "def find_twosum(target, data):\n",
    "    dict_ = {}\n",
    "    result = []\n",
    "    for i, _ in enumerate(data):\n",
    "        if data[i] in dict_:\n",
    "            result.append((dict_[data[i]], i))\n",
    "        else:\n",
    "            dict_[target - data[i]] = i\n",
    "    return result\n",
    "\n",
    "data = [1, 7, 3, 8, 9]\n",
    "target = 10\n",
    "print find_twosum(target, data)"
   ]
  },
  {
   "cell_type": "markdown",
   "metadata": {
    "deletable": true,
    "editable": true
   },
   "source": [
    "## Three Sum\n",
    "\n",
    "```\n",
    "sort(s)\n",
    "for i = 0 to n-3\n",
    "    a = s[i]\n",
    "    start = i + 1\n",
    "    end = n - 1\n",
    "    while start < end\n",
    "        b = s[start]\n",
    "        c = s[end]\n",
    "        if a + b + c = 0 then\n",
    "            output a, b, c\n",
    "            end -= 1\n",
    "        else if a + b + c > 0 then\n",
    "            end -= 1\n",
    "        else\n",
    "            start += 1\n",
    "```\n",
    "Worst case O(n^2)"
   ]
  },
  {
   "cell_type": "code",
   "execution_count": 8,
   "metadata": {
    "collapsed": false,
    "deletable": true,
    "editable": true
   },
   "outputs": [
    {
     "name": "stdout",
     "output_type": "stream",
     "text": [
      "[(1, 2, 7), (1, 4, 5), (2, 3, 5)]\n"
     ]
    }
   ],
   "source": [
    "def find_threesum(target, data):\n",
    "    data = sorted(data)\n",
    "    result = []\n",
    "    n = len(data)\n",
    "    for i in range(n - 2):\n",
    "        a = data[i]\n",
    "        start = i + 1\n",
    "        end = n - 1\n",
    "        while start < end:\n",
    "            b = data[start]\n",
    "            c = data[end]\n",
    "            if a + b + c == target:\n",
    "                result.append((a, b, c))\n",
    "                start += 1\n",
    "                end -= 1\n",
    "            elif a + b + c > target:\n",
    "                end -= 1\n",
    "            else:\n",
    "                start += 1\n",
    "    return result\n",
    "\n",
    "data = [1, 8, 2, 3, 9, 7, 4, 5]\n",
    "target = 10\n",
    "print(find_threesum(target, data))"
   ]
  },
  {
   "cell_type": "markdown",
   "metadata": {},
   "source": [
    "### Find two elements in an array, whose absolute difference is some number.\n",
    "\n",
    "Could be solved similarily to the two sum. Or solve differently with a hash table in O(n).\n",
    "\n",
    "[1, 1, 3, 4, 5]  k = 2\n",
    "[1, 1, 1] k = 2\n",
    "What if k = 0?"
   ]
  },
  {
   "cell_type": "markdown",
   "metadata": {
    "collapsed": false,
    "deletable": true,
    "editable": true
   },
   "source": [
    "## Evaluate infix expressions\n",
    "\n",
    "This is a infix-to-postfix conversion algorithm but the logic is same:\n",
    "\n",
    "```\n",
    "Scan the token list from left to right.\n",
    "If the token is an operand, append it to the end of the output list.\n",
    "If the token is a left parenthesis, push it on the opstack.\n",
    "If the token is a right parenthesis, pop the opstack until the corresponding left parenthesis is removed. Append each operator to the end of the output list.\n",
    "If the token is an operator, *, /, +, or -, push it on the opstack. However, first remove any operators already on the opstack that have higher or equal precedence and append them to the output list.\n",
    "When the input expression has been completely processed, check the opstack. Any operators still on the stack can be removed and appended to the end of the output list.```"
   ]
  },
  {
   "cell_type": "code",
   "execution_count": 8,
   "metadata": {
    "collapsed": false,
    "deletable": true,
    "editable": true
   },
   "outputs": [
    {
     "name": "stdout",
     "output_type": "stream",
     "text": [
      "Compute 0.0 - 12.0\n",
      "Compute 1.0 - 9.0\n",
      "Compute 2.0 * -8.0\n",
      "Compute -12.0 + -16.0\n"
     ]
    }
   ],
   "source": [
    "from tokenize import generate_tokens\n",
    "from StringIO import StringIO\n",
    "\n",
    "def validate_expr(expr):\n",
    "    # If expr starts with -, pad with 0.\n",
    "    # All parenteses are balanced.\n",
    "    pass\n",
    "\n",
    "def compute(num2, num1, op):\n",
    "    print 'Compute {} {} {}'.format(num1, op, num2)\n",
    "    if op == '+':\n",
    "        return num1 + num2\n",
    "    elif op == '-':\n",
    "        return num1 - num2\n",
    "    elif op == '*':\n",
    "        return num1 * num2\n",
    "    elif op == '/':\n",
    "        return num1 / num2\n",
    "    else:\n",
    "        print('Invalid operator')\n",
    "        return None\n",
    "    \n",
    "def eval_infix(expr):\n",
    "    num_stack = []\n",
    "    op_stack = []\n",
    "    priority = {'(': 0, ')': 0, '+': 1, '-': 2, '*': 3, '/': 3}\n",
    "\n",
    "    # Handle the leading negative symbol\n",
    "    if expr.startswith('-'):\n",
    "        # Could it be just inserting '0' in the head? \n",
    "        expr = '0' + expr\n",
    "    \n",
    "    tokens = generate_tokens(StringIO(expr).readline)\n",
    "    for token_num, token_val, _, _, _ in tokens:\n",
    "        if not token_val:\n",
    "            break\n",
    "        elif token_val.isdigit():\n",
    "            num_stack.append(float(token_val))\n",
    "        elif token_val == '(':\n",
    "            op_stack.append(token_val)\n",
    "        elif token_val == ')':\n",
    "            while not op_stack[-1] == '(':\n",
    "                num_stack.append(compute(num_stack.pop(), num_stack.pop(), op_stack.pop()))\n",
    "            op_stack.pop()\n",
    "        else: # token_val is an operator.\n",
    "            while op_stack and priority[token_val] < priority[op_stack[-1]]:\n",
    "                num_stack.append(compute(num_stack.pop(), num_stack.pop(), op_stack.pop()))\n",
    "            op_stack.append(token_val)\n",
    "    \n",
    "    while op_stack:\n",
    "        num_stack.append(compute(num_stack.pop(), num_stack.pop(), op_stack.pop()))\n",
    "    \n",
    "    return num_stack[0] if num_stack else 0\n",
    "\n",
    "expr = '-12+2*(1-9)'\n",
    "assert eval_infix(expr) == -28.0"
   ]
  },
  {
   "cell_type": "markdown",
   "metadata": {
    "collapsed": false,
    "deletable": true,
    "editable": true
   },
   "source": [
    "## Max. No of Meeting Rooms\n",
    "\n",
    "```\n",
    "Flatten the (start, end) pairs.\n",
    "Sort the times.\n",
    "For each time\n",
    "  If the time is start\n",
    "    count++\n",
    "  else\n",
    "    count--\n",
    "Return max. count\n",
    "```\n",
    "\n",
    "memory O(n)\n",
    "\n",
    "time O(nlogn) for sorting the list\n",
    "\n",
    "where n is the no. of meetings"
   ]
  },
  {
   "cell_type": "code",
   "execution_count": 20,
   "metadata": {
    "collapsed": false,
    "deletable": true,
    "editable": true
   },
   "outputs": [],
   "source": [
    "meetings = [(1, 4), (5, 6), (8, 9), (2, 6)]\n",
    "times = []\n",
    "for time in meetings:\n",
    "    times.append((time[0], 0))\n",
    "    times.append((time[1], 1))\n",
    "\n",
    "times.sort(key = lambda time: time[0])\n",
    "\n",
    "count = 0\n",
    "max_count = 0\n",
    "for time, type_ in times:\n",
    "    if type_ == 0:\n",
    "        count += 1\n",
    "    else:\n",
    "        count -= 1\n",
    "    max_count = max(count, max_count)\n",
    "\n",
    "assert max_count == 2"
   ]
  },
  {
   "cell_type": "markdown",
   "metadata": {
    "deletable": true,
    "editable": true
   },
   "source": [
    "## Check if a query word with a wildcard exists in a given list of words\n",
    "\n",
    "\n",
    "Use trie. Search time complexity is O(n) where n is the length of the query. Be careful with some edge conditions.\n",
    "\n",
    "https://stackoverflow.com/questions/11015320/how-to-create-a-trie-in-python\n"
   ]
  },
  {
   "cell_type": "code",
   "execution_count": 14,
   "metadata": {
    "collapsed": false,
    "deletable": true,
    "editable": true
   },
   "outputs": [],
   "source": [
    "def init_tree(*words):\n",
    "    trie = {}\n",
    "    for word in words:\n",
    "        d = trie\n",
    "        for letter in word:\n",
    "            d = d.setdefault(letter, {})\n",
    "        d['end'] = True\n",
    "    return trie\n",
    "\n",
    "trie = init_tree('bar', 'bat', 'car', 'cat', 'acc', 'aab')\n",
    "assert trie['b']['a']['r']['end'] == True\n",
    "assert trie['b']['a']['t']['end'] == True\n",
    "assert trie['c']['a']['r']['end'] == True\n",
    "assert trie['c']['a']['t']['end'] == True\n",
    "\n",
    "def search(trie, word):\n",
    "    d = trie\n",
    "    for letter in word:\n",
    "        try:\n",
    "            d = d[letter]\n",
    "        except KeyError:\n",
    "            return False\n",
    "    return 'end' in d    \n",
    "        \n",
    "assert search(trie, 'bar') == True\n",
    "assert search(trie, 'tar') == False\n",
    "assert search(trie, 'ba') == False\n",
    "\n",
    "def search_regex(trie, word):\n",
    "    d = trie\n",
    "    for i, letter in enumerate(word):\n",
    "        if letter == '.': # Wildcard\n",
    "            for _, v in d.iteritems():\n",
    "                if search_regex(v, word[i+1:]):\n",
    "                    return True\n",
    "            return False\n",
    "        elif letter == '*': # One or more of the previous character\n",
    "            try:\n",
    "                prev_letter = word[i-1]\n",
    "                while prev_letter in d:\n",
    "                    d = d[prev_letter]\n",
    "            except IndexError:\n",
    "                print 'Illegal argument {}'.format(word)\n",
    "        else:\n",
    "            try:\n",
    "                d = d[letter]\n",
    "            except KeyError:\n",
    "                return False\n",
    "    return 'end' in d\n",
    "\n",
    "assert search_regex(trie, 'c.t') == True\n",
    "assert search_regex(trie, 'c.s') == False\n",
    "assert search_regex(trie, 'c..') == True\n",
    "assert search_regex(trie, 'ac*') == True\n",
    "assert search_regex(trie, 'a*c') == False\n",
    "assert search_regex(trie, 'a*.') == True"
   ]
  },
  {
   "cell_type": "markdown",
   "metadata": {
    "deletable": true,
    "editable": true
   },
   "source": [
    "Recursive implementation"
   ]
  },
  {
   "cell_type": "code",
   "execution_count": 7,
   "metadata": {
    "collapsed": false,
    "deletable": true,
    "editable": true
   },
   "outputs": [],
   "source": [
    "def add_word(trie, word):\n",
    "    if not word:\n",
    "        return\n",
    "    trie = trie.setdefault(word[0], {})\n",
    "    if len(word) == 1:\n",
    "        trie['end'] = True\n",
    "    else:\n",
    "        add_word(trie, word[1:])\n",
    "\n",
    "def search(trie, word):\n",
    "    if not word:\n",
    "        return False\n",
    "    try:\n",
    "        trie = trie[word[0]]\n",
    "    except KeyError:\n",
    "        return False\n",
    "    if len(word) == 1:\n",
    "        return 'end' in trie\n",
    "    else:\n",
    "        return search(trie, word[1:])\n",
    "\n",
    "def search_regex(trie, word, prev=None):\n",
    "    if not trie:\n",
    "        return False\n",
    "    if len(word) == 1:\n",
    "        if word[0] == '.':\n",
    "            return any('end' in v for _, v in trie.iteritems())\n",
    "        elif word[0] == '*':\n",
    "            while prev in trie:\n",
    "                trie = trie[prev]\n",
    "            return 'end' in trie\n",
    "        else:\n",
    "            try:\n",
    "                return 'end' in trie[word[0]]\n",
    "            except KeyError:\n",
    "                return False\n",
    "    if word[0] == '.':\n",
    "        return any(search_regex(v, word[1:]) for _, v in trie.iteritems())\n",
    "    elif word[0] == '*':\n",
    "        if not prev:\n",
    "            print 'Invalid syntax'\n",
    "            return False\n",
    "        else:\n",
    "            try:\n",
    "                return search_regex(trie[prev], word[1:], prev)\n",
    "            except KeyError:\n",
    "                return False\n",
    "    else:\n",
    "        try:\n",
    "            return search_regex(trie[word[0]], word[1:], word[0])\n",
    "        except KeyError:\n",
    "            return False\n",
    "\n",
    "trie = {}\n",
    "add_word(trie, 'bar')\n",
    "add_word(trie, 'bat')\n",
    "add_word(trie, 'car')\n",
    "add_word(trie, 'cat')\n",
    "add_word(trie, 'accc')\n",
    "add_word(trie, 'aab')\n",
    "\n",
    "assert search(trie, 'bat') == True\n",
    "assert search(trie, 'bot') == False\n",
    "assert search_regex(trie, 'c.t') == True\n",
    "assert search_regex(trie, 'c.s') == False\n",
    "assert search_regex(trie, 'c..') == True\n",
    "assert search_regex(trie, 'ac*') == True\n",
    "assert search_regex(trie, 'a*c') == False\n",
    "assert search_regex(trie, 'a*.') == True"
   ]
  },
  {
   "cell_type": "markdown",
   "metadata": {},
   "source": [
    "### Regular expression matching\n",
    "\n",
    "Implement regular expression matching with support for '.' and '*'.\n",
    "\n",
    "'.' Matches any single character.\n",
    "'*' Matches zero or more of the preceding element.\n",
    "\n",
    "The matching should cover the entire input string (not partial).\n",
    "\n",
    "The function prototype should be:\n",
    "bool isMatch(const char *s, const char *p)\n",
    "\n",
    "Some examples:\n",
    "isMatch(\"aa\",\"a\") → false\n",
    "isMatch(\"aa\",\"aa\") → true\n",
    "isMatch(\"aaa\",\"aa\") → false\n",
    "isMatch(\"aa\", \"a*\") → true\n",
    "isMatch(\"aa\", \".*\") → true\n",
    "isMatch(\"ab\", \".*\") → true\n",
    "isMatch(\"aab\", \"c*a*b\") → true"
   ]
  },
  {
   "cell_type": "code",
   "execution_count": 4,
   "metadata": {
    "collapsed": false
   },
   "outputs": [
    {
     "data": {
      "text/plain": [
       "False"
      ]
     },
     "execution_count": 4,
     "metadata": {},
     "output_type": "execute_result"
    }
   ],
   "source": [
    "class Solution(object):\n",
    "    def isMatch(self, s, p):\n",
    "        \"\"\"\n",
    "        :type s: str\n",
    "        :type p: str\n",
    "        :rtype: bool\n",
    "        \"\"\"\n",
    "        if not p:\n",
    "            return len(s) == 0\n",
    "        \n",
    "        if len(p) == 1:\n",
    "            return len(s) == 1 and (s[0] == p[0] or p[0] == '.')         \n",
    "        \n",
    "        if p[1] == '*':\n",
    "            return (not len(s) == 0 and (s[0] == p[0] or p[0] == '.') and self.isMatch(s[1:], p)) or self.isMatch(s, p[2:])\n",
    "        else:\n",
    "            return not len(s) == 0 and (s[0] == p[0] or p[0] == '.') and self.isMatch(s[1:], p[1:])\n",
    "s = \"a\"\n",
    "p = \".*..a*\"\n",
    "sol = Solution()\n",
    "sol.isMatch(s, p)"
   ]
  },
  {
   "cell_type": "code",
   "execution_count": 3,
   "metadata": {
    "collapsed": false
   },
   "outputs": [
    {
     "data": {
      "text/plain": [
       "False"
      ]
     },
     "execution_count": 3,
     "metadata": {},
     "output_type": "execute_result"
    }
   ],
   "source": [
    "'' == True"
   ]
  },
  {
   "cell_type": "markdown",
   "metadata": {
    "deletable": true,
    "editable": true
   },
   "source": [
    "## Find the sorted uninon of two sorted lists\n",
    "\n",
    "Something similar to the merge part of the merge sort"
   ]
  },
  {
   "cell_type": "code",
   "execution_count": 19,
   "metadata": {
    "collapsed": false,
    "deletable": true,
    "editable": true
   },
   "outputs": [],
   "source": [
    "a1 = [1, 3, 5, 7]\n",
    "a2 = [2, 3, 4, 5, 6, 7]\n",
    "n1 = len(a1)\n",
    "n2 = len(a2)\n",
    "result = []\n",
    "i = j = 0\n",
    "while i < n1 and j < n2:\n",
    "    if a1[i] < a2[j]:\n",
    "        result.append(a1[i])\n",
    "        i += 1\n",
    "    elif a1[i] > a2[j]:\n",
    "        result.append(a2[j])\n",
    "        j += 1\n",
    "    else:\n",
    "        result.append(a1[i])\n",
    "        i += 1\n",
    "        j += 1\n",
    "\n",
    "while i < n1:\n",
    "    result.append(a1[i])\n",
    "    i += 1\n",
    "    \n",
    "while j < n2:\n",
    "    result.append(a2[j])\n",
    "    j += 1\n",
    "    \n",
    "assert result == [1, 2, 3, 4, 5, 6, 7]"
   ]
  },
  {
   "cell_type": "markdown",
   "metadata": {},
   "source": [
    "What if the input lists are sorted linked lists? Find whose head is smaller. Merge the larger head to the smaller one."
   ]
  },
  {
   "cell_type": "code",
   "execution_count": 5,
   "metadata": {
    "collapsed": false
   },
   "outputs": [
    {
     "name": "stdout",
     "output_type": "stream",
     "text": [
      "1\n",
      "2\n",
      "3\n",
      "4\n",
      "5\n"
     ]
    }
   ],
   "source": [
    "class Node(object):\n",
    "    def __init__(self, x):\n",
    "        self.data = x\n",
    "        self.next = None\n",
    "    \n",
    "    def __str__(self):\n",
    "        return str(self.data)\n",
    "\n",
    "def print_list(l):\n",
    "    while l:\n",
    "        print l\n",
    "        l = l.next\n",
    "\n",
    "def union_util(l1, l2):\n",
    "    # Assume that l1 > l2.\n",
    "    while l1 and l2:\n",
    "        if l1.data <= l2.data:\n",
    "            prev = l1\n",
    "            l1 = l1.next\n",
    "        else:\n",
    "            prev.next = l2\n",
    "            l2.next, l2 = l1, l2.next\n",
    "            \n",
    "    while l2:\n",
    "        prev.next = l2\n",
    "        l2 = l2.next\n",
    "        prev = prev.next\n",
    "\n",
    "def union(l1, l2):\n",
    "    if l1.data <= l2.data:\n",
    "        union_util(l1, l2)\n",
    "        return l1\n",
    "    else:\n",
    "        union_util(l2, l1)\n",
    "        return l2\n",
    "\n",
    "l1 = Node(1)\n",
    "l1.next = Node(2)\n",
    "l1.next.next = Node(4)\n",
    "\n",
    "l2 = Node(3)\n",
    "l2.next = Node(5)\n",
    "\n",
    "head = union(l1, l2)\n",
    "print_list(head)"
   ]
  },
  {
   "cell_type": "markdown",
   "metadata": {
    "deletable": true,
    "editable": true
   },
   "source": [
    "## Palindrome"
   ]
  },
  {
   "cell_type": "code",
   "execution_count": 9,
   "metadata": {
    "collapsed": false,
    "deletable": true,
    "editable": true
   },
   "outputs": [],
   "source": [
    "def palindrome(x, low, high):\n",
    "    if low >= high:\n",
    "        return True\n",
    "    return x[low] == x[high] and palindrome(x, low + 1, high - 1)\n",
    "\n",
    "x = 'madam'\n",
    "assert palindrome(x, 0, len(x) - 1) == True\n",
    "x = 'maddam'\n",
    "assert palindrome(x, 0, len(x) - 1) == True\n",
    "x = 'loel'\n",
    "assert palindrome(x, 0, len(x) - 1) == False\n",
    "x = 'lotel'\n",
    "assert palindrome(x, 0, len(x) - 1) == False"
   ]
  },
  {
   "cell_type": "markdown",
   "metadata": {
    "deletable": true,
    "editable": true
   },
   "source": [
    "## Maximum Contiguous Sum\n",
    "\n",
    "Iterate through the elements and calculate the contiguous sum. Once the sum becomes negative, it doesn't help increase the contiguous sum. It'd better start over. Return the max. of the contiguous sums."
   ]
  },
  {
   "cell_type": "code",
   "execution_count": 4,
   "metadata": {
    "collapsed": false,
    "deletable": true,
    "editable": true
   },
   "outputs": [],
   "source": [
    "def max_contiguous_sum(x):\n",
    "    n = len(x)\n",
    "    s = n*[0]\n",
    "    s[0] = x[0]\n",
    "    \n",
    "    # The following for-loop can be replaced with the following one liner:\n",
    "    # s[i] = max(s[i - 1] + x[i], x[i])\n",
    "    for i in range(1, n):\n",
    "        if s[i - 1] < 0:\n",
    "            s[i] = x[i]\n",
    "        else:\n",
    "            s[i] = s[i - 1] + x[i]\n",
    "    return max(s)\n",
    "\n",
    "x = [1, 3, -1, 2, -6, 4]\n",
    "assert max_contiguous_sum(x) == 5"
   ]
  },
  {
   "cell_type": "markdown",
   "metadata": {},
   "source": [
    "Return the max sum subarray."
   ]
  },
  {
   "cell_type": "code",
   "execution_count": 2,
   "metadata": {
    "collapsed": false
   },
   "outputs": [
    {
     "data": {
      "text/plain": [
       "[4, -1, 2, 1]"
      ]
     },
     "execution_count": 2,
     "metadata": {},
     "output_type": "execute_result"
    }
   ],
   "source": [
    "class Solution(object):\n",
    "    def maxSubArray(self, nums):\n",
    "        \"\"\"\n",
    "        :type nums: List[int]\n",
    "        :rtype: int\n",
    "        \"\"\"\n",
    "        n = len(nums)\n",
    "        s = n*[0]\n",
    "        s[0] = nums[0]\n",
    "        start = 0\n",
    "        end = 0\n",
    "        max_sum = s[0]\n",
    "        for i in range(1, n):\n",
    "            if s[i-1] < 0:\n",
    "                s[i] = nums[i]\n",
    "                start = i\n",
    "            else:\n",
    "                s[i] = s[i-1] + nums[i]\n",
    "                end = i\n",
    "            if s[i] > max_sum:\n",
    "                max_sum = s[i]\n",
    "                max_start = start\n",
    "                max_end = end\n",
    "        return nums[max_start:max_end+1]\n",
    "\n",
    "nums = [-2,1,-3,4,-1,2,1,-5,4]\n",
    "sol = Solution()\n",
    "sol.maxSubArray(nums)"
   ]
  },
  {
   "cell_type": "markdown",
   "metadata": {
    "deletable": true,
    "editable": true
   },
   "source": [
    "## Longest Increasing Subsequence\n",
    "\n",
    "The longest increasing subsequence at position i is the longest increasing subsequnce so far at position j added by 1 only if x[i] > x[j].\n"
   ]
  },
  {
   "cell_type": "code",
   "execution_count": 3,
   "metadata": {
    "collapsed": false,
    "deletable": true,
    "editable": true
   },
   "outputs": [],
   "source": [
    "def longest_increasing_subsequence(x):\n",
    "    n = len(x)\n",
    "    l = n*[0]\n",
    "    l[0] = 1\n",
    "    for i in range(1, n):\n",
    "        max_length = 0\n",
    "        for j in range(i):\n",
    "            if x[i] > x[j]:\n",
    "                max_length = max(max_length, l[j])\n",
    "        l[i] = max_length + 1\n",
    "    return max(l)\n",
    "\n",
    "x = [1, 3, -1, 2, -6, 4]\n",
    "assert longest_increasing_subsequence(x) == 3"
   ]
  },
  {
   "cell_type": "markdown",
   "metadata": {
    "deletable": true,
    "editable": true
   },
   "source": [
    "## BFS\n",
    "\n",
    "From the search tree, one can find the shortest path to each vertex from the starting vertex. Note that find_path(u, v, parent) is valid only when bfs is done starting from u. "
   ]
  },
  {
   "cell_type": "code",
   "execution_count": 2,
   "metadata": {
    "collapsed": false,
    "deletable": true,
    "editable": true
   },
   "outputs": [
    {
     "name": "stdout",
     "output_type": "stream",
     "text": [
      "bfs starting from 1\n",
      "1\n",
      "2\n",
      "5\n",
      "6\n",
      "3\n",
      "4\n",
      "Path from 1 to 4:\n",
      "1\n",
      "5\n",
      "4\n",
      "bfs starting from 2\n",
      "2\n",
      "1\n",
      "3\n",
      "5\n",
      "6\n",
      "4\n",
      "Path from 2 to 5:\n",
      "2\n",
      "5\n"
     ]
    }
   ],
   "source": [
    "from collections import defaultdict\n",
    "\n",
    "adj = {}\n",
    "adj[1] = [2, 5, 6]\n",
    "adj[2] = [1, 3, 5]\n",
    "adj[3] = [2, 4]\n",
    "adj[4] = [3, 5]\n",
    "adj[5] = [1, 2, 4]\n",
    "adj[6] = [1]\n",
    "\n",
    "parent = defaultdict(lambda: None)\n",
    "def init_search():\n",
    "    for key in parent.keys():\n",
    "        parent[key] = None\n",
    "\n",
    "def bfs(adj, start):\n",
    "    init_search()\n",
    "    discovered = defaultdict(lambda: False)\n",
    "    processed = defaultdict(lambda: False)\n",
    "    queue = []\n",
    "    \n",
    "    discovered[start] = True\n",
    "    queue.append(start)\n",
    "    while queue:\n",
    "        u = queue.pop(0)\n",
    "        for v in adj[u]:\n",
    "            if not discovered[v]:\n",
    "                discovered[v] = True\n",
    "                parent[v] = u\n",
    "                queue.append(v)\n",
    "        process_vertex(u)\n",
    "        processed[u] = True\n",
    "\n",
    "def process_vertex(v):\n",
    "    print v\n",
    "\n",
    "def find_path(start, end, parent):\n",
    "    stack = []\n",
    "    v = end\n",
    "    while v:\n",
    "        stack.append(v)\n",
    "        v = parent[v]\n",
    "    \n",
    "    print 'Path from {} to {}:'.format(start, end)\n",
    "    while stack:\n",
    "        print stack.pop()\n",
    "\n",
    "print 'bfs starting from 1'\n",
    "bfs(adj, 1)\n",
    "find_path(1, 4, parent)\n",
    "\n",
    "print 'bfs starting from 2'\n",
    "bfs(adj, 2)\n",
    "find_path(2, 5, parent)"
   ]
  },
  {
   "cell_type": "code",
   "execution_count": 8,
   "metadata": {
    "collapsed": false
   },
   "outputs": [],
   "source": [
    "parents = 5*[None]\n",
    "parents[2] = 1\n",
    "parents[3] = 1\n",
    "parents[4] = 2\n",
    "\n",
    "def find_path(start, end, parents):\n",
    "    if start == end:\n",
    "        return True\n",
    "    if not end:\n",
    "        return False\n",
    "    return find_path(start, parents[end], parents)\n",
    "\n",
    "assert find_path(1, 4, parents) == True\n",
    "assert find_path(3, 4, parents) == False"
   ]
  },
  {
   "cell_type": "markdown",
   "metadata": {
    "deletable": true,
    "editable": true
   },
   "source": [
    "## DFS\n",
    "\n",
    "BFS with a stack instead of a queue. This is same as the recursive implmentation with printing each vertex in process_vertex_early(). This implementation cannot be used for topological sorting. In topological sorting each vertex should be pushed to a stach in process_vertex late()."
   ]
  },
  {
   "cell_type": "code",
   "execution_count": 3,
   "metadata": {
    "collapsed": false,
    "deletable": true,
    "editable": true
   },
   "outputs": [
    {
     "name": "stdout",
     "output_type": "stream",
     "text": [
      "1\n",
      "6\n",
      "5\n",
      "4\n",
      "3\n",
      "2\n"
     ]
    }
   ],
   "source": [
    "from collections import defaultdict\n",
    "\n",
    "adj = {}\n",
    "adj[1] = [2, 5, 6]\n",
    "adj[2] = [1, 3, 5]\n",
    "adj[3] = [2, 4]\n",
    "adj[4] = [3, 5]\n",
    "adj[5] = [1, 4]\n",
    "adj[6] = [1]\n",
    "\n",
    "def dfs(adj, start):\n",
    "    discovered = defaultdict(lambda: False)\n",
    "    processed = defaultdict(lambda: False)\n",
    "    stack = []\n",
    "    \n",
    "    discovered[start] = True\n",
    "    stack.append(start)\n",
    "    while stack:\n",
    "        u = stack.pop()\n",
    "        for v in adj[u]:\n",
    "            if not discovered[v]:\n",
    "                discovered[v] = True\n",
    "                stack.append(v)\n",
    "        process_vertex(u)\n",
    "        processed[u] = True\n",
    "\n",
    "def process_vertex(v):\n",
    "    print v\n",
    "\n",
    "dfs(adj, 1)"
   ]
  },
  {
   "cell_type": "markdown",
   "metadata": {
    "deletable": true,
    "editable": true
   },
   "source": [
    "This dfs algorithm works for topological sorting. All vertices are initially white. A discovered vertex is grey while A process one is black.\n",
    "1. color all vertices white\n",
    "2. initialize an empty stack S\n",
    "3. while there is still a white vertex u\n",
    "4. color[u] = grey\n",
    "5. vactive = u\n",
    "6. do\n",
    "7. if vactive has a white neighbor v\n",
    "8. color[v] = grey\n",
    "9. insert vactive into S\n",
    "10. vactive = v\n",
    "11. else\n",
    "12. color[vactive ] = black\n",
    "13. pop the top vertex of S, and set it to vactive\n",
    "14. while vactive 6= ∅"
   ]
  },
  {
   "cell_type": "markdown",
   "metadata": {
    "deletable": true,
    "editable": true
   },
   "source": [
    "## Find a postion to insert a number to a sorted array using binary search"
   ]
  },
  {
   "cell_type": "code",
   "execution_count": 27,
   "metadata": {
    "collapsed": false,
    "deletable": true,
    "editable": true
   },
   "outputs": [
    {
     "name": "stdout",
     "output_type": "stream",
     "text": [
      "high - low = 1. low 0, high 1\n",
      "1\n",
      "high - low = 1. low 0, high 1\n",
      "1\n",
      "high - low = 1. low 3, high 4\n",
      "3\n",
      "high - low = 1. low 3, high 4\n",
      "4\n",
      "high - low = 1. low 3, high 4\n",
      "5\n"
     ]
    }
   ],
   "source": [
    "def find_position(x, low, high, key):\n",
    "    if high - low == 1:\n",
    "        print 'high - low = 1. low {}, high {}'.format(low, high)\n",
    "        if key < x[low]:\n",
    "            return low\n",
    "        elif key > x[high]:\n",
    "            return high + 1\n",
    "        else:\n",
    "            return high\n",
    "\n",
    "    if low == high:\n",
    "        if x[low] > key:\n",
    "            return low\n",
    "        else:\n",
    "            return low + 1\n",
    "\n",
    "    if low > high:\n",
    "        return\n",
    "\n",
    "    mid = (low + high)/2\n",
    "    if x[mid] == key:\n",
    "        return mid\n",
    "    if x[mid] > key:\n",
    "        return find_position(x, low, mid - 1, key)\n",
    "    else:\n",
    "        return find_position(x, mid + 1, high, key)\n",
    "        \n",
    "x = [1, 3, 4, 8, 12]\n",
    "n = len(x)\n",
    "print find_position(x, 0, n - 1, 2)\n",
    "print find_position(x, 0, n - 1, 3)\n",
    "print find_position(x, 0, n - 1, 7)\n",
    "print find_position(x, 0, n - 1, 9)\n",
    "print find_position(x, 0, n - 1, 13)"
   ]
  },
  {
   "cell_type": "markdown",
   "metadata": {
    "deletable": true,
    "editable": true
   },
   "source": [
    "## Median of a stream of integers\n",
    "\n",
    "- Unsorted array\n",
    "\n",
    "O(1) for insert, O(n) for median\n",
    "\n",
    "- Sorted array\n",
    "\n",
    "median = x[n/2]\n",
    "\n",
    "O(n) for insert, O(1) for median\n",
    "\n",
    "- Binary search tree\n",
    "\n",
    "In-order traverse. Return the n/2-th node.\n",
    "\n",
    "O(h) for insert, O(n) for median. h is n in the worst case.\n",
    "\n",
    "- Balanced binary search tree\n",
    "\n",
    "Keep the no. of nodes in the left and right trees balanced. Specificaly, keep the left tree height equal or taller than the right tree by 1. The median is the root if the no. of nodes is even. Otherwise, the median is the avg. of the root and the logical predecessor of the root, i.e., the right most node of the left subtree of the root.\n",
    "\n",
    "O(h) for insert, O(h) for median. h is n the worst case.\n",
    "Finding median can be O(1) if update the pointer to the predecessor on each insertion.\n",
    "\n",
    "- Two binary heaps\n",
    "\n",
    "Store an incoming integer to either maxheap or minheap. Similarly to the balanced binary search tree, keep the size of maxheap equal to or greater than the size of minheap by 1. The median is the root of the maxheap when the no. of the integers odd. Otherwise, the avg. of the roots of the two heaps.\n",
    "\n",
    "O(log n) for insertion, O(1) for median."
   ]
  },
  {
   "cell_type": "code",
   "execution_count": 28,
   "metadata": {
    "collapsed": false
   },
   "outputs": [
    {
     "name": "stdout",
     "output_type": "stream",
     "text": [
      "push 1 to left\n",
      "1\n",
      "push 3 to right\n",
      "2.0\n",
      "push 5 to right\n",
      "move 3 to right\n",
      "3\n",
      "push 9 to right\n",
      "4.0\n",
      "push 7 to right\n",
      "move 5 to right\n",
      "5\n",
      "push 5 to left\n",
      "move 5 to right\n",
      "5.0\n"
     ]
    }
   ],
   "source": [
    "import heapq\n",
    "\n",
    "def insert(x, left, right):\n",
    "    global n_left, n_right\n",
    "    if not left or x <= -left[0]:\n",
    "        print 'push', x, 'to left'\n",
    "        heapq.heappush(left, -x)\n",
    "        n_left += 1\n",
    "        if n_left - n_right > 1:\n",
    "            print 'move', -left[0], 'to right'\n",
    "            heapq.heappush(right, -heapq.heappop(left))\n",
    "            n_left -= 1\n",
    "            n_right += 1\n",
    "    else:\n",
    "        print 'push', x, 'to right'\n",
    "        heapq.heappush(right, x)\n",
    "        n_right += 1\n",
    "        if n_left < n_right:\n",
    "            print 'move', right[0], 'to right'\n",
    "            heapq.heappush(left, -heapq.heappop(right))\n",
    "            n_left += 1\n",
    "            n_right -= 1\n",
    "\n",
    "def median(left, right):\n",
    "    return -left[0] if n_left > n_right else 0.5*(-left[0]+right[0])\n",
    "\n",
    "integers = [1, 3, 5, 9, 7, 5]\n",
    "left = []\n",
    "right = []\n",
    "n_left = 0\n",
    "n_right = 0\n",
    "\n",
    "for item in integers:\n",
    "    insert(item, left, right)\n",
    "    print median(left, right)"
   ]
  },
  {
   "cell_type": "markdown",
   "metadata": {
    "deletable": true,
    "editable": true
   },
   "source": [
    "## Write atoi()\n",
    "\n",
    "Iterate from the first character to the end and calculate a running sum. At each digit, (running sum) * 10 + toInt(current character). If the string starts with '-', remember that. The iteration above should start from the frist numerical character. Return the running sum appropriately depending on the starting character. "
   ]
  },
  {
   "cell_type": "code",
   "execution_count": 7,
   "metadata": {
    "collapsed": false,
    "deletable": true,
    "editable": true
   },
   "outputs": [
    {
     "data": {
      "text/plain": [
       "-42"
      ]
     },
     "execution_count": 7,
     "metadata": {},
     "output_type": "execute_result"
    }
   ],
   "source": [
    "def atoi(string):\n",
    "    chToNum = {\"0\": 0, \"1\": 1, \"2\": 2, \"3\": 3, \"4\": 4, \"5\": 5, \"6\": 6, \"7\": 7, \"8\": 8, \"9\": 9}\n",
    "    isPositive = True\n",
    "    if string.startswith('-'):\n",
    "        isPositive = False\n",
    "        string = string[1:]\n",
    "\n",
    "    current_sum = 0\n",
    "    for ch in string:\n",
    "        if ch not in chToNum:\n",
    "            print \"Not a digig.\"\n",
    "            return None\n",
    "        current_sum = current_sum*10 + chToNum[ch]\n",
    "    return current_sum if isPositive else -current_sum\n",
    "\n",
    "atoi('-42')"
   ]
  },
  {
   "cell_type": "markdown",
   "metadata": {
    "deletable": true,
    "editable": true
   },
   "source": [
    "# Maksim Noy's List of Problems"
   ]
  },
  {
   "cell_type": "markdown",
   "metadata": {
    "deletable": true,
    "editable": true
   },
   "source": [
    "## Linked List"
   ]
  },
  {
   "cell_type": "code",
   "execution_count": 1,
   "metadata": {
    "collapsed": true,
    "deletable": true,
    "editable": true
   },
   "outputs": [],
   "source": [
    "class Node(object):\n",
    "    def __init__(self, x):\n",
    "        self.data = x\n",
    "        self.next = None\n",
    "    \n",
    "    def __str__(self):\n",
    "        return str(self.data)\n",
    "    \n",
    "def traverse_linked_list(l):\n",
    "    result = []\n",
    "    while l:\n",
    "        result.append(l.data)\n",
    "        l = l.next\n",
    "    return result"
   ]
  },
  {
   "cell_type": "markdown",
   "metadata": {
    "deletable": true,
    "editable": true
   },
   "source": [
    "### Unsorted List"
   ]
  },
  {
   "cell_type": "code",
   "execution_count": 2,
   "metadata": {
    "collapsed": false,
    "deletable": true,
    "editable": true
   },
   "outputs": [],
   "source": [
    "# Replace the head with the new node\n",
    "def insert(l, x):\n",
    "    node = Node(x)\n",
    "    node.next = l\n",
    "    return node\n",
    "\n",
    "myList = insert(None, 1)\n",
    "myList = insert(myList, 2)\n",
    "myList = insert(myList, 3)\n",
    "assert traverse_linked_list(myList) == [3, 2, 1]"
   ]
  },
  {
   "cell_type": "code",
   "execution_count": 27,
   "metadata": {
    "collapsed": false,
    "deletable": true,
    "editable": true
   },
   "outputs": [],
   "source": [
    "def search(l, x):\n",
    "    if not l:\n",
    "        return None\n",
    "    if l.data == x:\n",
    "        return l\n",
    "    return search(l.next, x)\n",
    "\n",
    "myList = Node(1)\n",
    "myList = insert(myList, 2)\n",
    "myList = insert(myList, 3)\n",
    "assert search(myList, 1).data == 1\n",
    "assert search(myList, 2).data == 2\n",
    "assert search(myList, 3).data == 3\n",
    "assert search(myList, 4) is None"
   ]
  },
  {
   "cell_type": "markdown",
   "metadata": {
    "deletable": true,
    "editable": true
   },
   "source": [
    "In finding a predecessor the key is that you iteratively check node.next instead of node."
   ]
  },
  {
   "cell_type": "code",
   "execution_count": 33,
   "metadata": {
    "collapsed": false,
    "deletable": true,
    "editable": true
   },
   "outputs": [],
   "source": [
    "def predecessor(l, x):\n",
    "    # null list or reach the end of the list\n",
    "    if not l or not l.next:\n",
    "        return None\n",
    "\n",
    "    if l.data == x: # if head contains x.\n",
    "        return None\n",
    "\n",
    "    while l.next:\n",
    "        if l.next.data == x:\n",
    "            return l\n",
    "        l = l.next\n",
    "    return None\n",
    "\n",
    "# Recursive implentation\n",
    "def predecessor(l, x):\n",
    "    if not l or not l.next:\n",
    "        return None\n",
    "    if l.data == x: # if the head contains x\n",
    "        return None\n",
    "    if l.next.data == x:\n",
    "        return l\n",
    "    else:\n",
    "        return predecessor(l.next, x)\n",
    "\n",
    "myList = Node(1)\n",
    "myList = insert(myList, 2)\n",
    "myList = insert(myList, 3)\n",
    "assert traverse_linked_list(myList) == [3, 2, 1]\n",
    "assert predecessor(myList, 2).data == 3\n",
    "assert predecessor(myList, 1).data == 2\n",
    "assert predecessor(myList, 3) is None"
   ]
  },
  {
   "cell_type": "markdown",
   "metadata": {
    "deletable": true,
    "editable": true
   },
   "source": [
    "### Delete all nodes that contain x."
   ]
  },
  {
   "cell_type": "code",
   "execution_count": 4,
   "metadata": {
    "collapsed": true
   },
   "outputs": [],
   "source": [
    "def delete_all(l, x):\n",
    "    head = l\n",
    "    prev = None\n",
    "    while l:\n",
    "        if l.data == x:\n",
    "            if prev:\n",
    "                prev.next = l.next\n",
    "            else:\n",
    "                head = l.next\n",
    "        prev = l\n",
    "        l = l.next\n",
    "    return head\n",
    "\n",
    "myList = Node(1)\n",
    "myList = insert(myList, 2)\n",
    "myList = insert(myList, 3)\n",
    "myList = insert(myList, 2)\n",
    "assert traverse_linked_list(myList) == [2, 3, 2, 1]\n",
    "myList = delete_all(myList, 2)\n",
    "assert traverse_linked_list(myList) == [3, 1]"
   ]
  },
  {
   "cell_type": "markdown",
   "metadata": {
    "deletable": true,
    "editable": true
   },
   "source": [
    "### Delete the first node that contain x\n",
    "delete_all with early termination."
   ]
  },
  {
   "cell_type": "code",
   "execution_count": 5,
   "metadata": {
    "collapsed": false,
    "deletable": true,
    "editable": true
   },
   "outputs": [],
   "source": [
    "def delete_first(l, x):\n",
    "    head = l\n",
    "    prev = None\n",
    "    while l:\n",
    "        if l.data == x:\n",
    "            if prev:\n",
    "                prev.next = l.next\n",
    "            else:\n",
    "                head = l.next\n",
    "            return head\n",
    "        prev = l\n",
    "        l = l.next\n",
    "    return head\n",
    "\n",
    "myList = Node(1)\n",
    "myList = insert(myList, 2)\n",
    "myList = insert(myList, 3)\n",
    "myList = delete_first(myList, 2)\n",
    "assert traverse_linked_list(myList) == [3, 1]"
   ]
  },
  {
   "cell_type": "code",
   "execution_count": 14,
   "metadata": {
    "collapsed": false,
    "deletable": true,
    "editable": true
   },
   "outputs": [],
   "source": [
    "def split(l, pivot):\n",
    "    lt, gt = None, None\n",
    "    while l:\n",
    "        if l.data < pivot:\n",
    "            lt = insert(lt, l.data)\n",
    "        else:\n",
    "            gt = insert(gt, l.data)\n",
    "        l = l.next\n",
    "        \n",
    "    return lt, gt\n",
    "\n",
    "my_list = insert(None, 3)\n",
    "my_list = insert(my_list, 5)\n",
    "my_list = insert(my_list, 2)\n",
    "my_list = insert(my_list, 1)\n",
    "my_list = insert(my_list, 4)\n",
    "assert traverse_linked_list(my_list) == [4, 1, 2, 5, 3]\n",
    "\n",
    "lt, gt = split(my_list, 3)\n",
    "assert traverse_linked_list(lt) == [2, 1]\n",
    "assert traverse_linked_list(gt) == [3, 5, 4]"
   ]
  },
  {
   "cell_type": "code",
   "execution_count": 21,
   "metadata": {
    "collapsed": false,
    "deletable": true,
    "editable": true
   },
   "outputs": [],
   "source": [
    "# This split implementation is more memory-efficient than the previous one because it re-wires nodes\n",
    "# instead of creating a copy of each node. \n",
    "\n",
    "def insert_node(l, node):\n",
    "    node.next = l\n",
    "    return node\n",
    "\n",
    "def split(l, pivot):\n",
    "    lt, gt = None, None\n",
    "    head = l\n",
    "    while l:\n",
    "        next_ = l.next\n",
    "        if l.data < pivot:\n",
    "            lt = insert_node(lt, l)\n",
    "        else:\n",
    "            gt = insert_node(gt, l)\n",
    "        l = next_\n",
    "    return lt, gt\n",
    "\n",
    "my_list = insert(None, 3)\n",
    "my_list = insert(my_list, 5)\n",
    "my_list = insert(my_list, 2)\n",
    "my_list = insert(my_list, 1)\n",
    "my_list = insert(my_list, 4)\n",
    "assert traverse_linked_list(my_list) == [4, 1, 2, 5, 3]\n",
    "\n",
    "lt, gt = split(my_list, 3)\n",
    "assert traverse_linked_list(lt) == [2, 1]\n",
    "assert traverse_linked_list(gt) == [3, 5, 4]"
   ]
  },
  {
   "cell_type": "markdown",
   "metadata": {
    "deletable": true,
    "editable": true
   },
   "source": [
    "### Sorted List\n",
    "\n",
    "Think about the following cases:\n",
    "- The given list is empty.\n",
    "- The head of the given list is greather than the inserting value.\n",
    "- The inserting value is between the head and the tail."
   ]
  },
  {
   "cell_type": "code",
   "execution_count": 19,
   "metadata": {
    "collapsed": false,
    "deletable": true,
    "editable": true
   },
   "outputs": [],
   "source": [
    "# Insert to a sorted list\n",
    "def insert_sorted(l, x):\n",
    "    new_node = Node(x)\n",
    "    \n",
    "    # If the list is empty...\n",
    "    if not l:\n",
    "        return new_node\n",
    "    \n",
    "    head = l\n",
    "    # If head is greather than x...\n",
    "    if l.data >= x:\n",
    "        new_node.next = l\n",
    "        head = new_node\n",
    "        return head\n",
    "\n",
    "    while l.next:\n",
    "        if l.next.data < x:\n",
    "            l = l.next\n",
    "        else:\n",
    "            l.next, new_node.next = new_node, l.next\n",
    "            return head\n",
    "    \n",
    "    # If all nodes in the list are less than x...\n",
    "    if not l.next:\n",
    "        l.next = new_node\n",
    "        return head\n",
    "\n",
    "myList = Node(2)\n",
    "myList = insert_sorted(myList, 3)\n",
    "myList = insert_sorted(myList, 1)\n",
    "assert traverse_linked_list(myList) == [1, 2, 3]"
   ]
  },
  {
   "cell_type": "markdown",
   "metadata": {
    "collapsed": true,
    "deletable": true,
    "editable": true
   },
   "source": [
    "### Cycle in a Linked List\n",
    "A. Use a hash table. Traverse the list. At each node check if its item is already in the hash table. If yes, the list has a cycle. Otherwise, store the item in the table.\n",
    "B. Traverse with one-node forward and two-node forward. If two traversing reaches to the same node, there is a cycle in the list."
   ]
  },
  {
   "cell_type": "code",
   "execution_count": 19,
   "metadata": {
    "collapsed": false,
    "deletable": true,
    "editable": true
   },
   "outputs": [],
   "source": [
    "def find_cycle(l):\n",
    "    l1 = l\n",
    "    l2 = l\n",
    "    while l1 and l2:\n",
    "        l1 = l1.next        \n",
    "        if l2.next:\n",
    "            l2 = l2.next.next\n",
    "        else:\n",
    "            break\n",
    "        if id(l1) == id(l2):\n",
    "            return True\n",
    "    return False\n",
    "\n",
    "my_list = insert(None, 1)\n",
    "my_list = insert(my_list, 2)\n",
    "my_list = insert(my_list, 3)\n",
    "my_list = insert(my_list, 4)\n",
    "my_list = insert(my_list, 5)\n",
    "node1 = search(my_list, 1)\n",
    "node2 = search(my_list, 2)\n",
    "node5 = search(my_list, 5)\n",
    "node1.next = node5\n",
    "assert find_cycle(my_list) == True"
   ]
  },
  {
   "cell_type": "markdown",
   "metadata": {
    "collapsed": false,
    "deletable": true,
    "editable": true
   },
   "source": [
    "### Middle of a Linked List\n",
    "Traverse the list in two ways: one-step forward and two-step forward. When the two-step forward traversing meets the end of the list, the node where the one-step forward traversing is located is the middle of the list."
   ]
  },
  {
   "cell_type": "code",
   "execution_count": 4,
   "metadata": {
    "collapsed": false,
    "deletable": true,
    "editable": true
   },
   "outputs": [],
   "source": [
    "def find_middle(l):\n",
    "    l1 = l\n",
    "    l2 = l\n",
    "    while l2:\n",
    "        if l2.next:\n",
    "            l2 = l2.next.next\n",
    "            l1 = l1.next\n",
    "        else:\n",
    "            break\n",
    "    return l1.data\n",
    "\n",
    "my_list = insert(None, 1)\n",
    "my_list = insert(my_list, 2)\n",
    "my_list = insert(my_list, 3)\n",
    "my_list = insert(my_list, 4)\n",
    "my_list = insert(my_list, 5)\n",
    "assert find_middle(my_list) == 3"
   ]
  },
  {
   "cell_type": "code",
   "execution_count": null,
   "metadata": {
    "collapsed": true
   },
   "outputs": [],
   "source": [
    "### Intersection of two linked lists\n",
    "\n",
    "Write a program to find the node at which the intersection of two singly linked lists begins.\n",
    "\n",
    "For example, the following two linked lists:\n",
    "\n",
    "A:          a1 → a2\n",
    "                   ↘\n",
    "                     c1 → c2 → c3\n",
    "                   ↗            \n",
    "B:     b1 → b2 → b3\n",
    "begin to intersect at node c1.\n",
    "\n",
    "# the idea is if you switch head, the possible difference between length would be countered. \n",
    "# On the second traversal, they either hit or miss. \n",
    "# if they meet, pa or pb would be the node we are looking for, \n",
    "# if they didn't meet, they will hit the end at the same iteration, pa == pb == None, return either one of them is the same,None"
   ]
  },
  {
   "cell_type": "code",
   "execution_count": null,
   "metadata": {
    "collapsed": true
   },
   "outputs": [],
   "source": [
    "def getIntersectionNode(self, headA, headB):\n",
    "    \"\"\"\n",
    "    :type head1, head1: ListNode\n",
    "    :rtype: ListNode\n",
    "    \"\"\"\n",
    "    l1 = headA\n",
    "    l2 = headB\n",
    "    while l1 is not l2:\n",
    "        if l1:\n",
    "            l1 = l1.next\n",
    "        else:\n",
    "            l1 = headB\n",
    "        if l2:\n",
    "            l2 = l2.next\n",
    "        else:\n",
    "            l2 = headA\n",
    "    return l1"
   ]
  },
  {
   "cell_type": "markdown",
   "metadata": {
    "deletable": true,
    "editable": true
   },
   "source": [
    "### Reverse the Individual Words in a String "
   ]
  },
  {
   "cell_type": "code",
   "execution_count": 16,
   "metadata": {
    "collapsed": false,
    "deletable": true,
    "editable": true
   },
   "outputs": [],
   "source": [
    "def reverse_words(s):\n",
    "    s = list(s)\n",
    "    found_start = False\n",
    "    start = 0\n",
    "    end = 0\n",
    "    for i in range(len(s)):\n",
    "        if not found_start:\n",
    "            if s[i] == ' ':\n",
    "                continue\n",
    "            else:\n",
    "                start = i\n",
    "                found_start = True\n",
    "        else:\n",
    "            if s[i] == ' ':\n",
    "                end = i - 1\n",
    "                reverse(s, start, end)\n",
    "                found_start = False\n",
    "            else:\n",
    "                continue\n",
    "    s = ''.join(s)\n",
    "    return s\n",
    "    \n",
    "def reverse(l, low, high):\n",
    "    while low < high:\n",
    "        l[low], l[high] = l[high], l[low]\n",
    "        low += 1\n",
    "        high -= 1\n",
    "\n",
    "l = list(' hello ')\n",
    "reverse(l, 1, 5)\n",
    "s = ''.join(l)\n",
    "assert s == ' olleh '\n",
    "\n",
    "s = ' hello  world '\n",
    "assert reverse_words(s) == ' olleh  dlrow '"
   ]
  },
  {
   "cell_type": "markdown",
   "metadata": {
    "deletable": true,
    "editable": true
   },
   "source": [
    "### Reverse the order of the words in a String\n",
    "First, reverse the whole string. Second, reverse each word.\n",
    "\n",
    "Clarify how to handle spaces."
   ]
  },
  {
   "cell_type": "code",
   "execution_count": 17,
   "metadata": {
    "collapsed": false,
    "deletable": true,
    "editable": true
   },
   "outputs": [],
   "source": [
    "def reverse_words_order(s):\n",
    "    s = ''.join(reversed(s))\n",
    "    return reverse_words(s)\n",
    "\n",
    "s = ' hello world  '\n",
    "assert reverse_words_order(s) == '  world hello '"
   ]
  },
  {
   "cell_type": "markdown",
   "metadata": {
    "deletable": true,
    "editable": true
   },
   "source": [
    "### Strip Whitespaces in a String\n",
    "The initial value for the index of the first space is 0. Iterate over the characters. Swap if the character of the current position is not a space. Move the position of the first space to the right. Similar to Skiena's implementation of quicksort. In the end strip off all trailing spaces. O(n)"
   ]
  },
  {
   "cell_type": "code",
   "execution_count": 2,
   "metadata": {
    "collapsed": false,
    "deletable": true,
    "editable": true
   },
   "outputs": [],
   "source": [
    "def strip_spaces(s):\n",
    "    first_space = 0\n",
    "    s = list(s)\n",
    "    for i, char in enumerate(s):\n",
    "        if not char == ' ':\n",
    "            swap(s, first_space, i)\n",
    "            first_space += 1\n",
    "    s = s[:first_space]\n",
    "    return ''.join(s)\n",
    "\n",
    "def swap(l, i, j):\n",
    "    l[i], l[j] = l[j], l[i]\n",
    "\n",
    "s = ' hello  world '\n",
    "assert strip_spaces(s) == 'helloworld'"
   ]
  },
  {
   "cell_type": "markdown",
   "metadata": {
    "deletable": true,
    "editable": true
   },
   "source": [
    "### Remove duplicate characters in a sorted string\n",
    "'aa  bbb' -> 'a b'\n",
    "\n",
    "Similar to the strip whitespaces problem above. Variation of quickseletion. O(n) time."
   ]
  },
  {
   "cell_type": "code",
   "execution_count": 3,
   "metadata": {
    "collapsed": false
   },
   "outputs": [
    {
     "data": {
      "text/plain": [
       "'a b'"
      ]
     },
     "execution_count": 3,
     "metadata": {},
     "output_type": "execute_result"
    }
   ],
   "source": [
    "def dedup(s):\n",
    "    s = list(s)\n",
    "    j = 0\n",
    "    for i in range(1, len(s)):\n",
    "        if not s[i] == s[j]:\n",
    "            j += 1\n",
    "            s[j] = s[i]\n",
    "    return ''.join(s[:j+1])\n",
    "\n",
    "s = 'aa bbb'\n",
    "dedup(s)"
   ]
  },
  {
   "cell_type": "markdown",
   "metadata": {},
   "source": [
    "A variation of the problem above. Some integers in an array are duplicate in a sorted manner. Dedup the array.\n",
    "\n",
    "122333 -> 123"
   ]
  },
  {
   "cell_type": "code",
   "execution_count": null,
   "metadata": {
    "collapsed": true
   },
   "outputs": [],
   "source": [
    "class Solution(object):\n",
    "    def removeDuplicates(self, nums):\n",
    "        \"\"\"\n",
    "        :type nums: List[int]\n",
    "        :rtype: int\n",
    "        \"\"\"\n",
    "        if not nums:\n",
    "            return 0\n",
    "        n = len(nums)\n",
    "        if n == 1:\n",
    "            return 1\n",
    "        head = 1\n",
    "        tail = 0\n",
    "        while head < n:\n",
    "            if not nums[head] == nums[tail]:\n",
    "                tail += 1\n",
    "                nums[tail] = nums[head]\n",
    "            head += 1\n",
    "        return tail + 1"
   ]
  },
  {
   "cell_type": "markdown",
   "metadata": {
    "deletable": true,
    "editable": true
   },
   "source": [
    "### Find the first non-repeating character in a string\n",
    "'abca' -> 'b'\n",
    "\n",
    "A.\n",
    "\n",
    "Store the count of each alphabet in a dictionary.\n",
    "\n",
    "Scan the string. For each char, increment its count.\n",
    "\n",
    "Scan again. For each char, return if its count is one.\n",
    "\n",
    "O(len(s)), but have to scan twice.\n",
    "\n",
    "B.\n",
    "\n",
    "If the string is long and the size of alphabets is small, algorithm A is inefficient.\n",
    "\n",
    "Store the (count, the index of the first appearance) tuples in a dictionary.\n",
    "\n",
    "Scan the string. For each char, increment its count.\n",
    "\n",
    "Scan the count dictionary instead of the string. Return the char at the min index among the chars whose counts are one.\n",
    "\n",
    "Still O(len(s)) if len(s) > len(alphabets), but the second scanning is much faster than the first scanning."
   ]
  },
  {
   "cell_type": "code",
   "execution_count": 13,
   "metadata": {
    "collapsed": false,
    "deletable": true,
    "editable": true
   },
   "outputs": [],
   "source": [
    "from collections import defaultdict\n",
    "\n",
    "def unique_char(s):\n",
    "    counts = defaultdict(lambda: (0, 0))\n",
    "    for i, char in enumerate(s):\n",
    "        if counts[char][0] == 0:\n",
    "            counts[char] = (1, i)\n",
    "        else:\n",
    "            count = counts[char][0] + 1\n",
    "            index = counts[char][1]\n",
    "            counts[char] = (count, index)\n",
    "        \n",
    "    min_index = len(s)\n",
    "    for k, (count, index) in counts.iteritems():\n",
    "        if count == 1:\n",
    "            min_index = min(min_index, index)\n",
    "    \n",
    "    return s[min_index]\n",
    "    \n",
    "assert unique_char('abca') == 'b'"
   ]
  },
  {
   "cell_type": "markdown",
   "metadata": {
    "deletable": true,
    "editable": true
   },
   "source": [
    "### Longest increasing subsequence\n",
    "A. Dynamic programming, O(n^2)"
   ]
  },
  {
   "cell_type": "code",
   "execution_count": 9,
   "metadata": {
    "collapsed": false,
    "deletable": true,
    "editable": true
   },
   "outputs": [],
   "source": [
    "def longest_increasing_subsequence(s):\n",
    "    n = len(s)\n",
    "    l = n*[0]\n",
    "    l[0] = 1\n",
    "    for i in range(n):\n",
    "        for j in range(i):\n",
    "            if s[i] > s[j]:                    \n",
    "                l[i] = max(l[i], l[j] + 1)\n",
    "    return max(l)\n",
    "\n",
    "assert longest_increasing_subsequence([1, 3, 2, 7, 8, 5]) == 4"
   ]
  },
  {
   "cell_type": "markdown",
   "metadata": {
    "deletable": true,
    "editable": true
   },
   "source": [
    "Can you return the longest increasing subsequnce, too?"
   ]
  },
  {
   "cell_type": "code",
   "execution_count": 19,
   "metadata": {
    "collapsed": false,
    "deletable": true,
    "editable": true
   },
   "outputs": [],
   "source": [
    "def longest_increasing_subsequence(s):\n",
    "    n = len(s)\n",
    "    l = n*[0]\n",
    "    l[0] = 1\n",
    "    subseq = [[] for i in range(n)]\n",
    "    subseq[0] = [s[0]]\n",
    "\n",
    "    for i in range(n):\n",
    "        for j in range(i):\n",
    "            if s[i] > s[j]:\n",
    "                length = l[j] + 1\n",
    "                if l[i] < length:\n",
    "                    l[i] = length\n",
    "                    subseq[i] = subseq[j] + [s[i]] \n",
    "    \n",
    "    max_length = max(l)\n",
    "    longest_subseq = subseq[l.index(max_length)] # index returns the first occurence.\n",
    "    return max_length, longest_subseq\n",
    "\n",
    "length, subseq = longest_increasing_subsequence([1, 3, 2, 7, 8, 5])\n",
    "assert length == 4\n",
    "assert subseq == [1, 3, 7, 8]"
   ]
  },
  {
   "cell_type": "markdown",
   "metadata": {
    "deletable": true,
    "editable": true
   },
   "source": [
    "Topological sorting and longest path from each node in DAG. O(n + m) but m ~ O(n^2) so that no efficiency gain."
   ]
  },
  {
   "cell_type": "markdown",
   "metadata": {
    "deletable": true,
    "editable": true
   },
   "source": [
    "### Max contiguous sum\n",
    "Scan the array and calculate the contiguous sum up to the current position. If adding the current item to the contiguous sum up so far doesn't increase the contiguous sum, reset. That is when the contiguous sum becomes negative."
   ]
  },
  {
   "cell_type": "code",
   "execution_count": 9,
   "metadata": {
    "collapsed": false,
    "deletable": true,
    "editable": true
   },
   "outputs": [],
   "source": [
    "def max_countiguous_sum(a):\n",
    "    n = len(a)\n",
    "    current_sum = a[0]\n",
    "    max_sum = 0\n",
    "    for i in range(1, n):\n",
    "        current_sum = max(a[i], current_sum + a[i])\n",
    "        max_sum = max(max_sum, current_sum)\n",
    "    return max_sum\n",
    "\n",
    "assert max_countiguous_sum([1, 3, -5, 1, 2]) == 4"
   ]
  },
  {
   "cell_type": "markdown",
   "metadata": {
    "deletable": true,
    "editable": true
   },
   "source": [
    "Return the contiguous elements that results in the max sum as well."
   ]
  },
  {
   "cell_type": "code",
   "execution_count": 10,
   "metadata": {
    "collapsed": false,
    "deletable": true,
    "editable": true
   },
   "outputs": [],
   "source": [
    "def max_contiguous_sum(a):\n",
    "    n = len(a)\n",
    "    s = n*[0]\n",
    "    current_sum = a[0]\n",
    "    start = 0\n",
    "    end = 0\n",
    "    max_sum = 0\n",
    "    for i in range(1, n):\n",
    "        if s[i - 1] < 0:\n",
    "            current_sum = a[i]\n",
    "            start = i\n",
    "        else:\n",
    "            current_sum = current_sum + a[i]\n",
    "            end = i\n",
    "        if current_sum > max_sum:\n",
    "            max_sum = current_sum\n",
    "            max_start = start\n",
    "            max_end = end\n",
    "    return max_sum, max_start, max_end\n",
    "\n",
    "assert max_contiguous_sum([1, 3, -5, 1, 2]) == (4, 0, 1)"
   ]
  },
  {
   "cell_type": "markdown",
   "metadata": {
    "deletable": true,
    "editable": true
   },
   "source": [
    "### Binary Search Tree\n",
    "Base class and helper methods"
   ]
  },
  {
   "cell_type": "code",
   "execution_count": 5,
   "metadata": {
    "collapsed": false,
    "deletable": true,
    "editable": true
   },
   "outputs": [],
   "source": [
    "class Tree(object):\n",
    "    def __init__(self, data):\n",
    "        self.data = data\n",
    "        self.left = None\n",
    "        self.right = None\n",
    "        self.parent = None\n",
    "\n",
    "    def __str__(self):\n",
    "        return str(self.data)\n",
    "\n",
    "def in_order_print(tree):\n",
    "    if tree:\n",
    "        in_order_print(tree.left)\n",
    "        print tree\n",
    "        in_order_print(tree.right)"
   ]
  },
  {
   "cell_type": "markdown",
   "metadata": {
    "deletable": true,
    "editable": true
   },
   "source": [
    "Since it's hard to manipulate pointers in python, we have to do differently from c implementations."
   ]
  },
  {
   "cell_type": "code",
   "execution_count": 6,
   "metadata": {
    "collapsed": false,
    "deletable": true,
    "editable": true
   },
   "outputs": [
    {
     "name": "stdout",
     "output_type": "stream",
     "text": [
      "1\n",
      "3\n",
      "5\n",
      "7\n"
     ]
    }
   ],
   "source": [
    "def insert(tree, data):\n",
    "    if tree:\n",
    "        if tree.data > data:\n",
    "            if not tree.left:\n",
    "                new_tree = Tree(data)\n",
    "                new_tree.parent = tree\n",
    "                tree.left = new_tree\n",
    "            else:\n",
    "                insert(tree.left, data)\n",
    "        else:\n",
    "            if not tree.right:\n",
    "                new_tree = Tree(data)\n",
    "                new_tree.parent = tree\n",
    "                tree.right = new_tree\n",
    "            else:\n",
    "                insert(tree.right, data)\n",
    "\n",
    "tree = Tree(3)\n",
    "insert(tree, 7)\n",
    "insert(tree, 1)\n",
    "insert(tree, 5)\n",
    "in_order_print(tree)"
   ]
  },
  {
   "cell_type": "markdown",
   "metadata": {
    "deletable": true,
    "editable": true
   },
   "source": [
    "Another implementation. Pass parent to the insert method."
   ]
  },
  {
   "cell_type": "code",
   "execution_count": 4,
   "metadata": {
    "collapsed": false,
    "deletable": true,
    "editable": true
   },
   "outputs": [
    {
     "name": "stdout",
     "output_type": "stream",
     "text": [
      "1\n",
      "3\n",
      "5\n",
      "7\n"
     ]
    }
   ],
   "source": [
    "def insert(tree, data, parent=None):\n",
    "    if not tree:\n",
    "        new_tree = Tree(data)\n",
    "        new_tree.parent = parent\n",
    "        if parent:\n",
    "            if parent.data > data:\n",
    "                parent.left = new_tree\n",
    "            else:\n",
    "                parent.right = new_tree\n",
    "    else:\n",
    "        if tree.data > data:\n",
    "            insert(tree.left, data, tree)\n",
    "        else:\n",
    "            insert(tree.right, data, tree)\n",
    "            \n",
    "tree = Tree(3)\n",
    "insert(tree, 7)\n",
    "insert(tree, 1)\n",
    "insert(tree, 5)\n",
    "in_order_print(tree)"
   ]
  },
  {
   "cell_type": "code",
   "execution_count": 19,
   "metadata": {
    "collapsed": false,
    "deletable": true,
    "editable": true
   },
   "outputs": [],
   "source": [
    "import sys\n",
    "\n",
    "def check_bst(tree, lb, ub):\n",
    "    if tree:\n",
    "        return (lb < tree.data < ub and\n",
    "                check_bst(tree.left, lb, tree.data) and\n",
    "                check_bst(tree.right, tree.data, ub))\n",
    "\n",
    "    else:\n",
    "        return True\n",
    "\n",
    "tree = Tree(3)\n",
    "insert(tree, 7)\n",
    "insert(tree, 1)\n",
    "insert(tree, 5)\n",
    "\n",
    "lb = -sys.maxint - 1\n",
    "ub = sys.maxint\n",
    "assert check_bst(tree, lb, ub) == True\n",
    "\n",
    "tree = Tree(3)\n",
    "tree.left = Tree(7)\n",
    "insert(tree, 1)\n",
    "insert(tree, 5)\n",
    "\n",
    "lb = -sys.maxint - 1\n",
    "ub = sys.maxint\n",
    "assert check_bst(tree, lb, ub) == False"
   ]
  },
  {
   "cell_type": "markdown",
   "metadata": {
    "deletable": true,
    "editable": true
   },
   "source": [
    "### Find an integer that appear twice in an array of integers ranging from 1 to 100,000.\n",
    "A. Linear search. Store the count of each integer in a hash table. O(n), two passes, extra memory for the hash table.\n",
    "\n",
    "B. Sort. If an integer is the same integer at the previous position, it's the duplicate. O(nlogn). Maybe extra memory in sorting.\n",
    "\n",
    "Clarify if beside of the duplicate integer all other integers appear in the array.\n",
    "\n",
    "C. Sum all integers. Substract integers from 1 to 100,000, once for each. O(n), basically two pases. No extra memory.\n",
    "\n",
    "D. If all integers appear once, ideal_sum = n(n+1)/2. Substract this from the sum of all integers. O(n), but one pass."
   ]
  },
  {
   "cell_type": "markdown",
   "metadata": {
    "deletable": true,
    "editable": true
   },
   "source": [
    "### Find an missing integer from an array of integers rainging from 1 to 100,000.\n",
    "\n",
    "A. Hash table. O(n)\n",
    "\n",
    "B. Sort. O(nlogn)\n",
    "\n",
    "C. Sum all and substract 1 to 100,000. O(n)\n",
    "\n",
    "D. Sum all and substract it from n(n+1)/2. O(n)\n",
    "\n",
    "E. XOR trick. XOR all numbers in the array, i.e., xor ^= a[i] for i in a. XOR from 1 to 100,000, xor ^= i for i from 1 to 100,000."
   ]
  },
  {
   "cell_type": "markdown",
   "metadata": {},
   "source": [
    "### Set Mismatch\n",
    "A set of interges ranging from 1 to n where n is the size of the set. One item is duplicated, e.g., [1, 2, 3, 4] >> [1, 2, 2, 4]. What are the two numbers, one duplicated and the other overwritten.\n",
    "\n",
    "Use the set as a hash table."
   ]
  },
  {
   "cell_type": "code",
   "execution_count": null,
   "metadata": {
    "collapsed": true
   },
   "outputs": [],
   "source": [
    "def findErrorNums(nums):\n",
    "    for k in nums:\n",
    "        if nums[abs(k)-1] > 0:\n",
    "            nums[abs(k)-1] *= -1\n",
    "        else:\n",
    "            dup = abs(k)\n",
    "\n",
    "    for i, k in enumerate(nums):\n",
    "        if k > 0:\n",
    "            miss = i + 1\n",
    "\n",
    "    return [dup, miss]"
   ]
  },
  {
   "cell_type": "markdown",
   "metadata": {
    "deletable": true,
    "editable": true
   },
   "source": [
    "### Shuffle a deck of cards\n",
    "\n",
    "A. Random Swapping\n",
    "```\n",
    "Put the 52 cards in an array.\n",
    "itermax = a large number\n",
    "while iter < itermax:\n",
    "    Generate two random numbers between 0 and 51.\n",
    "    swap(cards, r1, r2)\n",
    "    iter++\n",
    "```\n",
    "\n",
    "B. Fisher-Yates Shuffle\n",
    "```\n",
    "Put the 52 cards in an array.\n",
    "m = 51\n",
    "while m > 0:\n",
    "    Generate a random number from 0 to m.\n",
    "    swap(cards, r, m)\n",
    "    m--\n",
    "```"
   ]
  },
  {
   "cell_type": "markdown",
   "metadata": {
    "deletable": true,
    "editable": true
   },
   "source": [
    "### Sum two largest integers in an array\n",
    "\n",
    "A. Linear search while maintianing two largest. O(n)\n",
    "\n",
    "B. Sort. The sum of the last two. O(nlogn)"
   ]
  },
  {
   "cell_type": "markdown",
   "metadata": {
    "deletable": true,
    "editable": true
   },
   "source": [
    "### Sum of n largest elements in an array of integers ranging from 0 to 9\n",
    "A. Sort, O(nlogn)\n",
    "\n",
    "B. Heap, O(n) for heap creating + O(klogn) for min\n",
    "\n",
    "C. Linear search, O(n), at most 9 passes"
   ]
  },
  {
   "cell_type": "code",
   "execution_count": 22,
   "metadata": {
    "collapsed": true,
    "deletable": true,
    "editable": true
   },
   "outputs": [],
   "source": [
    "def sum_largest_k(a, k):\n",
    "    n = len(a)\n",
    "    s = 0\n",
    "    for target in range(9, 1, -1):\n",
    "        i = 0\n",
    "        while k > 0 and i < n:\n",
    "            if a[i] == target:\n",
    "                k -= 1\n",
    "                s += target\n",
    "            i += 1\n",
    "    return s\n",
    "\n",
    "assert sum_largest_k([1, 9, 3, 7, 5], 3) == 21"
   ]
  },
  {
   "cell_type": "markdown",
   "metadata": {
    "deletable": true,
    "editable": true
   },
   "source": [
    "# Some Random Questions from Glassdoor"
   ]
  },
  {
   "cell_type": "markdown",
   "metadata": {
    "deletable": true,
    "editable": true
   },
   "source": [
    "### Implement x to the power of y."
   ]
  },
  {
   "cell_type": "code",
   "execution_count": 20,
   "metadata": {
    "collapsed": true,
    "deletable": true,
    "editable": true
   },
   "outputs": [],
   "source": [
    "def pow(x, y):\n",
    "    if y == 0:\n",
    "        return 1\n",
    "    return x*pow(x, y - 1)\n",
    "\n",
    "assert pow(2, 3) == 8"
   ]
  },
  {
   "cell_type": "markdown",
   "metadata": {
    "deletable": true,
    "editable": true
   },
   "source": [
    "### Find the number of ways to score S where possible points are 3, 5, and 10.\n",
    "\n",
    "Variations include:\n",
    "\n",
    "- A number of ways to climb a flight of N steps with 1, 2, or 3 steps at a time.\n",
    "\n",
    "- A number of ways to give changes."
   ]
  },
  {
   "cell_type": "code",
   "execution_count": 2,
   "metadata": {
    "collapsed": false,
    "deletable": true,
    "editable": true
   },
   "outputs": [],
   "source": [
    "def ways_to_score(score):\n",
    "    points = [3, 5, 10]\n",
    "    N = (score + 1)*[0]\n",
    "    N[0] = 1\n",
    "    for s in range(1, score + 1):\n",
    "        for p in points:\n",
    "            if s >= p:\n",
    "                N[s] += N[s - p]\n",
    "                \n",
    "    return N[score]\n",
    "\n",
    "assert ways_to_score(8) == 2"
   ]
  },
  {
   "cell_type": "markdown",
   "metadata": {
    "deletable": true,
    "editable": true
   },
   "source": [
    "### Rotate an array: Move the r number of elements at the tail to the head\n",
    "Similar to reversing the order of words in text. Reverse the whole thing, then reverse the left part and the right part individually."
   ]
  },
  {
   "cell_type": "code",
   "execution_count": 19,
   "metadata": {
    "collapsed": false,
    "deletable": true,
    "editable": true
   },
   "outputs": [],
   "source": [
    "def reverse(a, low, high):\n",
    "    while low < high:\n",
    "        swap(a, low, high)\n",
    "        low += 1\n",
    "        high -= 1\n",
    "\n",
    "def swap(a, i, j):\n",
    "    a[i], a[j] = a[j], a[i]\n",
    "\n",
    "def rotate(a, r):\n",
    "    n = len(a)\n",
    "    reverse(a, 0, n - 1)\n",
    "    reverse(a, 0, r - 1)\n",
    "    reverse(a, r, n - 1)\n",
    "    \n",
    "a = [1, 2, 3, 4, 5]\n",
    "rotate(a, 2)\n",
    "assert a == [4, 5, 1, 2, 3]"
   ]
  },
  {
   "cell_type": "markdown",
   "metadata": {
    "deletable": true,
    "editable": true
   },
   "source": [
    "### Add two strings of integers."
   ]
  },
  {
   "cell_type": "code",
   "execution_count": 26,
   "metadata": {
    "collapsed": false,
    "deletable": true,
    "editable": true
   },
   "outputs": [],
   "source": [
    "def add(s1, s2):\n",
    "    try:\n",
    "        s1 = int(s1)\n",
    "        s2 = int(s2)\n",
    "        return s1 + s2\n",
    "    except ValueError as e:\n",
    "        print e\n",
    "        return None\n",
    "    \n",
    "assert add('1', '2') == 3"
   ]
  },
  {
   "cell_type": "markdown",
   "metadata": {
    "deletable": true,
    "editable": true
   },
   "source": [
    "### Height of a binary tree.\n",
    "\n",
    "Ask if the tree is balanced. If so, h = logn"
   ]
  },
  {
   "cell_type": "code",
   "execution_count": 7,
   "metadata": {
    "collapsed": false,
    "deletable": true,
    "editable": true
   },
   "outputs": [],
   "source": [
    "def height(tree):\n",
    "    if not tree:\n",
    "        return -1\n",
    "    return max(height(tree.left), height(tree.right)) + 1\n",
    "\n",
    "tree = Tree(3)\n",
    "insert(tree, 7)\n",
    "insert(tree, 1)\n",
    "insert(tree, 5)\n",
    "\n",
    "assert height(tree) == 2"
   ]
  },
  {
   "cell_type": "markdown",
   "metadata": {},
   "source": [
    "Another implementation."
   ]
  },
  {
   "cell_type": "code",
   "execution_count": 19,
   "metadata": {
    "collapsed": false
   },
   "outputs": [],
   "source": [
    "def find_height(tree, height):\n",
    "    if not tree:\n",
    "        return height - 1\n",
    "    if not tree.left and not tree.right:\n",
    "        return height\n",
    "    return max(find_height(tree.left, height+1), find_height(tree.right, height+1))\n",
    "\n",
    "assert find_height(tree, 0) == 2"
   ]
  },
  {
   "cell_type": "markdown",
   "metadata": {
    "deletable": true,
    "editable": true
   },
   "source": [
    "### Diameter, i.e., the longest path, of a binary tree"
   ]
  },
  {
   "cell_type": "code",
   "execution_count": 14,
   "metadata": {
    "collapsed": false,
    "deletable": true,
    "editable": true
   },
   "outputs": [],
   "source": [
    "# This won't work if...\n",
    "# Linear tree\n",
    "# A tree with single node\n",
    "# LCA of the two ends of the longest path is not the root.\n",
    "\n",
    "def diameter(tree):\n",
    "    if not tree:\n",
    "        print 'The input is a null tree.'\n",
    "    return height(tree.left) + height(tree.right) + 2\n",
    "\n",
    "tree = Tree(3)\n",
    "insert(tree, 7)\n",
    "insert(tree, 1)\n",
    "insert(tree, 5)\n",
    "\n",
    "assert diameter(tree) == 3"
   ]
  },
  {
   "cell_type": "markdown",
   "metadata": {},
   "source": [
    "This will work for single node trees, linear trees, etc."
   ]
  },
  {
   "cell_type": "code",
   "execution_count": null,
   "metadata": {
    "collapsed": true
   },
   "outputs": [],
   "source": [
    "class Solution(object):\n",
    "    def diameterOfBinaryTree(self, root):\n",
    "        \"\"\"\n",
    "        :type root: TreeNode\n",
    "        :rtype: int\n",
    "        \"\"\"\n",
    "        # graph with single node\n",
    "        # linear graph\n",
    "        # The root is not the lca of the two ends of the longest two paths from the root.\n",
    "        if not root:\n",
    "            return 0\n",
    "        self.max_diameter = 0\n",
    "        def height(tree):\n",
    "            if not tree:\n",
    "                return -1\n",
    "            count = 0\n",
    "            h1 = height(tree.left)\n",
    "            h2 = height(tree.right)\n",
    "            self.max_diameter =  max(self.max_diameter, h1 + h2 + 2)\n",
    "            return max(h1, h2) + 1\n",
    "        height(root)\n",
    "        return self.max_diameter"
   ]
  },
  {
   "cell_type": "markdown",
   "metadata": {
    "deletable": true,
    "editable": true
   },
   "source": [
    "### Height of a tree"
   ]
  },
  {
   "cell_type": "code",
   "execution_count": 6,
   "metadata": {
    "collapsed": false,
    "deletable": true,
    "editable": true
   },
   "outputs": [
    {
     "data": {
      "text/plain": [
       "4"
      ]
     },
     "execution_count": 6,
     "metadata": {},
     "output_type": "execute_result"
    }
   ],
   "source": [
    "adj = {}\n",
    "adj[1] = [2, 5, 6]\n",
    "adj[2] = [1, 3, 5]\n",
    "adj[3] = [2, 4]\n",
    "adj[4] = [3, 5]\n",
    "adj[5] = [1, 2, 4]\n",
    "adj[6] = [1]\n",
    "\n",
    "discovered = (len(adj)+1)*[False]\n",
    "\n",
    "def dfs(adj, start):\n",
    "    max_height = -1\n",
    "    discovered[start] = True\n",
    "    for v in adj[start]:\n",
    "        if not discovered[v]:\n",
    "            height = dfs(adj, v)\n",
    "            max_height = max(max_height, height)\n",
    "    return max_height + 1\n",
    "\n",
    "assert dfs(adj, 1) == 4"
   ]
  },
  {
   "cell_type": "markdown",
   "metadata": {
    "deletable": true,
    "editable": true
   },
   "source": [
    "### Longest path in a undirected, unweighted graph\n",
    "longest path = sum of the heights of the two tallest subtrees + 2 for connecting these two subtrees to the root\n",
    "\n",
    "            root\n",
    "         /   |   \\\n",
    " subtree  subtree subtree ...\n",
    "\n",
    "longest path = sum of the heights of the two tallest subtrees\n",
    "             + 2 for connecting these two subtrees to the root\n",
    "\n",
    "dfs, O(n + m)"
   ]
  },
  {
   "cell_type": "code",
   "execution_count": 15,
   "metadata": {
    "collapsed": false,
    "deletable": true,
    "editable": true
   },
   "outputs": [],
   "source": [
    "adj = {}\n",
    "adj[1] = [2, 5, 6]\n",
    "adj[2] = [1, 3, 5]\n",
    "adj[3] = [2, 4]\n",
    "adj[4] = [3, 5]\n",
    "adj[5] = [1, 2, 4]\n",
    "adj[6] = [1]\n",
    "\n",
    "discovered = (len(adj)+1)*[False]\n",
    "max_path_len = 0\n",
    "\n",
    "def dfs(adj, start):\n",
    "    global max_path_len\n",
    "    first_max = -1 # -1 here makes the height of a leaf zero.\n",
    "    second_max = -1\n",
    "    discovered[start] = True\n",
    "    for v in adj[start]:\n",
    "        if not discovered[v]:\n",
    "            height = dfs(adj, v)\n",
    "            # Improve: Instead of this if condition, keep track of max_path_len\n",
    "            if height > first_max:\n",
    "                first_max, second_max = height, first_max\n",
    "            elif height > second_max:\n",
    "                second_max = height\n",
    "\n",
    "    max_path_len = first_max + second_max + 2 \n",
    "    return first_max + 1\n",
    "\n",
    "dfs(adj, 1)\n",
    "assert max_path_len == 5"
   ]
  },
  {
   "cell_type": "markdown",
   "metadata": {
    "deletable": true,
    "editable": true
   },
   "source": [
    "### Continuous elements in an array of integers\n",
    "\n",
    "```\n",
    "for i = 0, n-1\n",
    "  block = [a[i]]\n",
    "  for j = i+1, n-1\n",
    "    insert a[j] to the block in sorted manner. \n",
    "    check if delta between each contigous two elements equals to 1.\n",
    "    if so,\n",
    "      length = j-i+1\n",
    "      max_length = max(max_length, length)\n",
    "return max_length\n",
    "```\n",
    "Use insertion sort. O(n^3).\n",
    "\n",
    "Any duplicates in the array? If not, O(n^2) is possible. See below."
   ]
  },
  {
   "cell_type": "code",
   "execution_count": 12,
   "metadata": {
    "collapsed": false,
    "deletable": true,
    "editable": true
   },
   "outputs": [],
   "source": [
    "def continuous_elements(a):\n",
    "    max_length = 0\n",
    "    n = len(a)\n",
    "    for i in range(n):\n",
    "        high, low = a[i], a[i]\n",
    "        length = 1\n",
    "        for j in range(i + 1, n):\n",
    "            high = max(high, a[j])\n",
    "            low = min(low, a[j])\n",
    "            if not high - low > j - i:\n",
    "                length = j - i + 1\n",
    "                max_length = max(max_length, length)\n",
    "    return max_length\n",
    "\n",
    "assert contigous_elements([3, 2, 4]) == 3\n",
    "assert contigous_elements([3, 2, 5, 7, 6]) == 3"
   ]
  },
  {
   "cell_type": "code",
   "execution_count": null,
   "metadata": {
    "collapsed": true
   },
   "outputs": [],
   "source": [
    "# Can it be down with the sliding window approach?"
   ]
  },
  {
   "cell_type": "markdown",
   "metadata": {
    "deletable": true,
    "editable": true
   },
   "source": [
    "### Create a binary search tree from an array\n",
    "For a binary tree, the element in the middle will be the root. Build a tree with each of the left side and the right side, respectively, and assign to the left and right children of the root recursively. If the tree has to be a bst, sort the array first."
   ]
  },
  {
   "cell_type": "code",
   "execution_count": 1,
   "metadata": {
    "collapsed": false,
    "deletable": true,
    "editable": true
   },
   "outputs": [],
   "source": [
    "class Tree(object):\n",
    "    def __init__(self, data):\n",
    "        self.data = data\n",
    "        self.left = None\n",
    "        self.right = None\n",
    "        self.parent = None\n",
    "\n",
    "def inorder(tree, nodes):\n",
    "    if tree:\n",
    "        inorder(tree.left, nodes)\n",
    "        nodes.append(tree.data)\n",
    "        inorder(tree.right, nodes)\n",
    "\n",
    "def insert(tree, l):\n",
    "    n = len(l)\n",
    "    i = 0\n",
    "    while i < n:\n",
    "        if i + 1 < n:\n",
    "            tree.right = Tree(l[i+1])\n",
    "            tree.right.parent = tree\n",
    "        if i + 2 < n:\n",
    "            parent = Tree(l[i+2])\n",
    "            tree.parent = parent\n",
    "            parent.left = tree\n",
    "        if tree.parent:\n",
    "            tree = tree.parent\n",
    "        i += 2\n",
    "    return tree\n",
    "\n",
    "l = [1, 3, 5, 6, 9]\n",
    "\n",
    "tree = Tree(l[0])\n",
    "tree = insert(tree, l)\n",
    "\n",
    "nodes = []\n",
    "inorder(tree, nodes)\n",
    "\n",
    "assert nodes == l"
   ]
  },
  {
   "cell_type": "code",
   "execution_count": 3,
   "metadata": {
    "collapsed": true,
    "deletable": true,
    "editable": true
   },
   "outputs": [],
   "source": [
    "# Recursive solution, O(n)\n",
    "def convert(a):\n",
    "    if not a:\n",
    "        return\n",
    "    mid = len(a)//2\n",
    "    node = Tree(a[mid])\n",
    "    node.left = convert(a[:mid])\n",
    "    node.right = convert(a[mid+1:])\n",
    "    return node\n",
    "\n",
    "a = [1, 3, 5, 6, 9]\n",
    "tree = convert(a)\n",
    "nodes = []\n",
    "inorder(tree, nodes)\n",
    "\n",
    "assert nodes == a"
   ]
  },
  {
   "cell_type": "markdown",
   "metadata": {
    "deletable": true,
    "editable": true
   },
   "source": [
    "### Copy a linked list\n",
    "Similarily to the previous problem, use the pre-order traversal. Recursion is handy, i.e., do something for the current item and call the function recursively for the next item."
   ]
  },
  {
   "cell_type": "code",
   "execution_count": 4,
   "metadata": {
    "collapsed": false,
    "deletable": true,
    "editable": true
   },
   "outputs": [
    {
     "name": "stdout",
     "output_type": "stream",
     "text": [
      "1\n",
      "2\n",
      "3\n"
     ]
    }
   ],
   "source": [
    "class Node(object):\n",
    "    def __init__(self, data):\n",
    "        self.data = data\n",
    "        self.next = None\n",
    "\n",
    "def print_list(l):\n",
    "    if l:\n",
    "        print l.data\n",
    "        print_list(l.next)\n",
    "\n",
    "def copy_util(input_, output):\n",
    "    if not input_.next:\n",
    "        return\n",
    "    output.next = Node(input_.next.data)\n",
    "    copy_util(input_.next, output.next)\n",
    "    \n",
    "def copy(input_):\n",
    "    if input_:\n",
    "        output = Node(input_.data)\n",
    "        copy_util(input_, output)\n",
    "        return output\n",
    "        \n",
    "input_ = Node(1)\n",
    "input_.next = Node(2)\n",
    "input_.next.next = Node(3)\n",
    "\n",
    "list_ = copy(input_)\n",
    "print_list(list_)"
   ]
  },
  {
   "cell_type": "markdown",
   "metadata": {
    "deletable": true,
    "editable": true
   },
   "source": [
    "### Find all subsets of a set, i.e., power set"
   ]
  },
  {
   "cell_type": "code",
   "execution_count": 14,
   "metadata": {
    "collapsed": false,
    "deletable": true,
    "editable": true
   },
   "outputs": [],
   "source": [
    "def find_combinations(numbers, select, index, combinations):\n",
    "    if index == len(numbers) - 1:\n",
    "        select[index] = False\n",
    "        combinations.add(frozenset([numbers[i] for i in range(len(numbers)) if select[i]]))\n",
    "        select[index] = True\n",
    "        combinations.add(frozenset([numbers[i] for i in range(len(numbers)) if select[i]]))\n",
    "        return\n",
    "\n",
    "    select[index] = False\n",
    "    find_combinations(numbers, select, index + 1, combinations)\n",
    "    select[index] = True\n",
    "    find_combinations(numbers, select, index + 1, combinations)\n",
    "\n",
    "numbers = [1, 2]\n",
    "select = len(numbers)*[False]\n",
    "index = 0\n",
    "combinations = set()\n",
    "find_combinations(numbers, select, index, combinations)\n",
    "assert combinations == set([frozenset([]), frozenset([1]), frozenset([2]), frozenset([1, 2])])"
   ]
  },
  {
   "cell_type": "markdown",
   "metadata": {},
   "source": [
    "### Cartesian Product\n",
    "Given a digit string, return all possible letter combinations that the number could represent.\n",
    "\n",
    "A mapping of digit to letters (just like on the telephone buttons) is given below."
   ]
  },
  {
   "cell_type": "code",
   "execution_count": null,
   "metadata": {
    "collapsed": true
   },
   "outputs": [],
   "source": [
    "class Solution(object):\n",
    "    def letterCombinations(self, digits):\n",
    "        \"\"\"\n",
    "        :type digits: str\n",
    "        :rtype: List[str]\n",
    "        \"\"\"\n",
    "        letters = {'1':'', '2':'abc', '3':'def', '4':'ghi', '5':'jkl', '6':'mno', '7':'pqrs', '8':'tuv', '9':'wxyz', '0':' '}\n",
    "        if not digits:\n",
    "            return []\n",
    "        return cartesian(digits, letters, 0)\n",
    "            \n",
    "        \n",
    "def cartesian(nums, letters, index):\n",
    "    if index == len(nums) - 1:\n",
    "        return [letter for letter in letters[nums[index]]]\n",
    "    list_ = cartesian(nums, letters, index+1)\n",
    "    new_list = [[letter + s for s in list_] for letter in letters[nums[index]]]\n",
    "    return [item for sublist in new_list for item in sublist]"
   ]
  },
  {
   "cell_type": "markdown",
   "metadata": {
    "collapsed": false,
    "deletable": true,
    "editable": true
   },
   "source": [
    "### Minimum Window Substring\n",
    "\n",
    "Bruteforce, O(n^2)\n",
    "\n",
    "There is an O(n) algorithm.\n",
    "\n",
    "1. Use two pointers: start and end to represent a window.\n",
    "2. Move end to find a valid window.\n",
    "3. When a valid window is found, move start to find a smaller window.\n",
    "\n",
    "To check if a window is valid, we use a map to store (char, count) for chars in t. And use counter for the number of chars of t to be found in s. The key part is m[s[end]]--;. We decrease count for each char in s. If it does not exist in t, the count will be negative.\n",
    "\n",
    "To really understand this algorithm, please see my code which is much clearer, because there is no code like if(map[s[end++]]++>0) counter++;.\n",
    "\n",
    "    string minWindow(string s, string t) {\n",
    "        unordered_map<char, int> m;\n",
    "        // Statistic for count of char in t\n",
    "        for (auto c : t) m[c]++;\n",
    "        // counter represents the number of chars of t to be found in s.\n",
    "        size_t start = 0, end = 0, counter = t.size(), minStart = 0, minLen = INT_MAX;\n",
    "        size_t size = s.size();\n",
    "\n",
    "        // Move end to find a valid window.\n",
    "        while (end < size) {\n",
    "            // If char in s exists in t, decrease counter\n",
    "            if (m[s[end]] > 0)\n",
    "                counter--;\n",
    "            // Decrease m[s[end]]. If char does not exist in t, m[s[end]] will be negative.\n",
    "            m[s[end]]--;\n",
    "            end++;\n",
    "            // When we found a valid window, move start to find smaller window.\n",
    "            while (counter == 0) {\n",
    "                if (end - start < minLen) {\n",
    "                    minStart = start;\n",
    "                    minLen = end - start;\n",
    "                }\n",
    "                m[s[start]]++;\n",
    "                // When char exists in t, increase counter.\n",
    "                if (m[s[start]] > 0)\n",
    "                    counter++;\n",
    "                start++;\n",
    "            }\n",
    "        }\n",
    "        if (minLen != INT_MAX)\n",
    "            return s.substr(minStart, minLen);\n",
    "        return \"\";\n",
    "    }"
   ]
  },
  {
   "cell_type": "code",
   "execution_count": 25,
   "metadata": {
    "collapsed": false,
    "deletable": true,
    "editable": true
   },
   "outputs": [
    {
     "name": "stdout",
     "output_type": "stream",
     "text": [
      "\n"
     ]
    }
   ],
   "source": [
    "import collections\n",
    "import sys\n",
    "\n",
    "def minWindowSubstring(text, pattern):\n",
    "    counter, count = collections.Counter(pattern), len(pattern)\n",
    "    start = end = 0\n",
    "    n = len(text)\n",
    "    min_len = sys.maxint\n",
    "    min_start = 0\n",
    "    \n",
    "    while end < n:\n",
    "        if counter[text[end]] > 0:\n",
    "            count -= 1\n",
    "        counter[text[end]] -= 1\n",
    "        \n",
    "        while count == 0:\n",
    "            if min_len > end - start + 1:\n",
    "                min_len = end - start + 1\n",
    "                min_start = start\n",
    "            \n",
    "            counter[text[start]] += 1\n",
    "            if counter[text[start]] > 0:\n",
    "                count += 1\n",
    "            start += 1\n",
    "        end += 1\n",
    "\n",
    "    if min_len == sys.maxint:\n",
    "        return ''\n",
    "    else:\n",
    "        return text[min_start:(min_start + min_len)]\n",
    "\n",
    "assert minWindowSubstring('ADOBECODEBANC', 'ABC') == 'BANC'\n",
    "r*g8ciyOpcLassert minWindowSubstring('AB', 'A') == 'A'\n",
    "assert minWindowSubstring('AA', 'A') == 'A'\n",
    "assert minWindowSubstring('AB', 'C') == ''\n",
    "assert minWindowSubstring('ABA', 'AA') == 'ABA'"
   ]
  },
  {
   "cell_type": "code",
   "execution_count": null,
   "metadata": {
    "collapsed": true,
    "deletable": true,
    "editable": true
   },
   "outputs": [],
   "source": [
    "### Contiguous sum to a target"
   ]
  },
  {
   "cell_type": "markdown",
   "metadata": {
    "deletable": true,
    "editable": true
   },
   "source": [
    "### Balance parentheses"
   ]
  },
  {
   "cell_type": "code",
   "execution_count": null,
   "metadata": {
    "collapsed": true,
    "deletable": true,
    "editable": true
   },
   "outputs": [],
   "source": [
    "def balance_parentheses(string):\n",
    "    stack = []\n",
    "    for c in string:\n",
    "        if c == '(':\n",
    "            stack.append(c)\n",
    "        elif c == ')':\n",
    "            if stack:\n",
    "                stack.pop()\n",
    "            else:\n",
    "                return False\n",
    "    return len(stack) == 0\n",
    "\n",
    "assert balance_parentheses('(())') == True\n",
    "assert balance_parentheses('()()') == True\n",
    "assert balance_parentheses('(()') == False\n",
    "assert balance_parentheses('()())') == False"
   ]
  },
  {
   "cell_type": "markdown",
   "metadata": {
    "deletable": true,
    "editable": true
   },
   "source": [
    "### You have a string of numbers, i.e. 123. You can insert a + or - sign in front of ever number, or you can leave it empty. Find all of the different possibilities, make the calculation and return the sum. For example; +1+2+3 = 6 +12+3 = 15 +123 = 123 +1+23 = 24 ... -1-2-3 = 6 ... Return the sum of all the results."
   ]
  },
  {
   "cell_type": "code",
   "execution_count": 17,
   "metadata": {
    "collapsed": false,
    "deletable": true,
    "editable": true
   },
   "outputs": [
    {
     "data": {
      "text/plain": [
       "3"
      ]
     },
     "execution_count": 17,
     "metadata": {},
     "output_type": "execute_result"
    }
   ],
   "source": [
    "def find_string_set(string, index, ops, possible_ops, string_set):\n",
    "    if index == len(string) - 1:\n",
    "        for op in possible_ops:\n",
    "            ops[index] = op\n",
    "            string_set.add(''.join([ops[i] + string[i] for i in range(len(string))]))\n",
    "        return\n",
    "    for op in possible_ops:\n",
    "        ops[index] = op\n",
    "        find_string_set(string, index + 1, ops, possible_ops, string_set)\n",
    "\n",
    "string = '123'\n",
    "ops = len(string)*['+']\n",
    "possible_ops = set(['+', '-', ''])\n",
    "string_set = set()\n",
    "find_string_set(string, 0, ops, possible_ops, string_set)\n",
    "sum_ = 0\n",
    "for string in string_set:\n",
    "    if string[0] == '+':\n",
    "        string = '0' + string\n",
    "    sum_ += eval(string)\n",
    "print sum_"
   ]
  },
  {
   "cell_type": "markdown",
   "metadata": {
    "deletable": true,
    "editable": true
   },
   "source": [
    "### Ways to score S\n",
    "point denominators p = {3, 5, 10}\n",
    "```\n",
    "N = (S+1)*[0]\n",
    "N[0] = 1\n",
    "for s = 1 to S\n",
    "  for i = 1 to n where n is the nummber of point denominators\n",
    "    if s >= p[i]\n",
    "      N[s] = N[s] + N[s-p[i]]\n",
    "return N[S]\n",
    "```"
   ]
  },
  {
   "cell_type": "markdown",
   "metadata": {
    "deletable": true,
    "editable": true
   },
   "source": [
    "### Score combinations that sum to S\n",
    "```\n",
    "N = (S + 1)*[0]\n",
    "N[0] = 1\n",
    "for i = 1 to n\n",
    "  for s = p[i] to S\n",
    "    N[s] = N[s] + N[s-p[i]]\n",
    "```"
   ]
  },
  {
   "cell_type": "markdown",
   "metadata": {
    "deletable": true,
    "editable": true
   },
   "source": [
    "### Connected components in a graph\n",
    "```\n",
    "num_components = 0\n",
    "for v in g.vertices:\n",
    "  if discovered[v] = false\n",
    "    num_components++\n",
    "    component = bfs(g, v)\n",
    "    print each node in component\n",
    "```"
   ]
  },
  {
   "cell_type": "markdown",
   "metadata": {
    "deletable": true,
    "editable": true
   },
   "source": [
    "### Convert a BST to a sorted circular doubly-linked list in-place\n",
    "Recursion\n",
    "```\n",
    "tree.prev = max(tree.left)\n",
    "tree.next = min(tree.right)\n",
    "```"
   ]
  },
  {
   "cell_type": "code",
   "execution_count": 1,
   "metadata": {
    "collapsed": false,
    "deletable": true,
    "editable": true
   },
   "outputs": [
    {
     "name": "stdout",
     "output_type": "stream",
     "text": [
      "1 None 2\n",
      "2 1 3\n",
      "3 2 4\n",
      "4 3 5\n",
      "5 4 None\n"
     ]
    }
   ],
   "source": [
    "class Tree(object):\n",
    "    def __init__(self, data):\n",
    "        self.data = data\n",
    "        self.parent = None\n",
    "        self.left = None\n",
    "        self.right = None\n",
    "        self.prev = None\n",
    "        self.next = None\n",
    "\n",
    "    def __str__(self):\n",
    "        return str(self.data)\n",
    "\n",
    "def insert(tree, data, parent=None):\n",
    "    if not tree:\n",
    "        tree = Tree(data)\n",
    "        tree.parent = parent\n",
    "        if parent.data > data:\n",
    "            parent.left = tree\n",
    "        else:\n",
    "            parent.right = tree\n",
    "    else:\n",
    "        if tree.data > data:\n",
    "            insert(tree.left, data, tree)\n",
    "        else:\n",
    "            insert(tree.right, data, tree)\n",
    "\n",
    "def inorder_print(tree):\n",
    "    if tree:\n",
    "        inorder_print(tree.left)\n",
    "        print tree.data\n",
    "        inorder_print(tree.right)\n",
    "        \n",
    "def find_min(tree):\n",
    "    if not tree:\n",
    "        return\n",
    "    if not tree.left:\n",
    "        return tree\n",
    "    return find_min(tree.left)\n",
    "\n",
    "def find_max(tree):\n",
    "    if not tree:\n",
    "        return\n",
    "    if not tree.right:\n",
    "        return tree\n",
    "    return find_max(tree.right)\n",
    "    \n",
    "def convert(tree):\n",
    "    if not tree:\n",
    "        return\n",
    "    if not tree.left and not tree.right:\n",
    "        return\n",
    "    tree.prev = find_max(tree.left)\n",
    "    if tree.prev:\n",
    "        tree.prev.next = tree\n",
    "    tree.next = find_min(tree.right)\n",
    "    if tree.next:\n",
    "        tree.next.prev = tree\n",
    "    convert(tree.left)\n",
    "    convert(tree.right)\n",
    "\n",
    "tree = Tree(4)\n",
    "insert(tree, 2)\n",
    "insert(tree, 1)\n",
    "insert(tree, 3)\n",
    "insert(tree, 5)\n",
    "\n",
    "min_tree = find_min(tree)\n",
    "assert min_tree.data == 1\n",
    "\n",
    "max_tree = find_max(tree)\n",
    "assert max_tree.data == 5\n",
    "\n",
    "head = find_min(tree)\n",
    "convert(tree)\n",
    "\n",
    "list_ = head\n",
    "while list_:\n",
    "    print list_.data, list_.prev, list_.next\n",
    "    list_ = list_.next"
   ]
  },
  {
   "cell_type": "markdown",
   "metadata": {},
   "source": [
    "Insert a node to a list while doing reverse inorder traversal."
   ]
  },
  {
   "cell_type": "code",
   "execution_count": 17,
   "metadata": {
    "collapsed": false
   },
   "outputs": [
    {
     "name": "stdout",
     "output_type": "stream",
     "text": [
      "1\n",
      "2\n",
      "3\n",
      "4\n",
      "5\n"
     ]
    }
   ],
   "source": [
    "class Tree(object):\n",
    "    def __init__(self, data):\n",
    "        self.data = data\n",
    "        self.left = None\n",
    "        self.right = None\n",
    "\n",
    "class Node(object):\n",
    "    def __init__(self, data):\n",
    "        self.data = data\n",
    "        self.next = None\n",
    "        self.prev = None\n",
    "        \n",
    "    def __str__(self):\n",
    "        return str(self.data)\n",
    "        \n",
    "def reverse_inorder(tree, l):\n",
    "    if not tree:\n",
    "        return\n",
    "    if tree.right:\n",
    "        l = reverse_inorder(tree.right, l)\n",
    "    l = insert_list(l, tree.data)\n",
    "    if tree.left:\n",
    "        l = reverse_inorder(tree.left, l)\n",
    "    return l\n",
    "\n",
    "def insert_list(l, data):\n",
    "    new_head = Node(data)    \n",
    "    new_head.next = l\n",
    "    if l:\n",
    "        l.prev = new_head\n",
    "    return new_head\n",
    "\n",
    "def print_list(l):\n",
    "    while l:\n",
    "        print l\n",
    "        l = l.next\n",
    "        \n",
    "def reverse_print_list(tail):\n",
    "    while tail:\n",
    "        print tail\n",
    "        tail = tail.prev\n",
    "\n",
    "tree = Tree(4)\n",
    "insert(tree, 2)\n",
    "insert(tree, 1)\n",
    "insert(tree, 3)\n",
    "insert(tree, 5)\n",
    "\n",
    "l = reverse_inorder(tree, None)\n",
    "print_list(l)"
   ]
  },
  {
   "cell_type": "markdown",
   "metadata": {
    "deletable": true,
    "editable": true
   },
   "source": [
    "### Ensure that there are a minimum of n dashes between any two of the same characters of a string\n",
    "Be thorough considering all possible conditions including:\n",
    "'-abc'\n",
    "'a-b'\n",
    "'abc--'\n",
    "```\n",
    "# i = 0\n",
    "# while i < len(s)\n",
    "#   if s[i] = s[i+1]\n",
    "#     return False\n",
    "#   if s[i] = '-'\n",
    "#     k = 1\n",
    "#     before = s[i-1]\n",
    "#     j = i + 1\n",
    "#     while j < len(s) and s[j] = '-'\n",
    "#       k += 1\n",
    "#       j += 1\n",
    "#     after = s[j]\n",
    "#     if before = after and k != n\n",
    "#       return False\n",
    "#     i = j\n",
    "# return True\n",
    "```"
   ]
  },
  {
   "cell_type": "code",
   "execution_count": 1,
   "metadata": {
    "collapsed": false,
    "deletable": true,
    "editable": true
   },
   "outputs": [],
   "source": [
    "def dash(s, n):\n",
    "    i = 0\n",
    "    while i < len(s)-1:\n",
    "        if s[i] == '-':\n",
    "            k = 1\n",
    "            before = 'b'\n",
    "            if i > 0:\n",
    "                before = s[i-1]\n",
    "            j = i + 1\n",
    "            while j < len(s) and s[j] == '-':\n",
    "                k += 1\n",
    "                j += 1\n",
    "            if j < len(s):\n",
    "                after = s[j]\n",
    "            if before == after and not k == n:\n",
    "                return False\n",
    "            i = j\n",
    "            continue\n",
    "        else:\n",
    "            if s[i] == s[i+1]:\n",
    "                return False\n",
    "            i += 1\n",
    "    return True\n",
    "\n",
    "assert dash('aa', 2) == False\n",
    "assert dash('a-a', 2) == False\n",
    "assert dash('a--a', 2) == True\n",
    "assert dash('a-b', 2) == True"
   ]
  },
  {
   "cell_type": "markdown",
   "metadata": {
    "deletable": true,
    "editable": true
   },
   "source": [
    "### rotate a matrix 90 degrees clockwise\n",
    "\n",
    "O(n^2) for time, O(nm) for space"
   ]
  },
  {
   "cell_type": "code",
   "execution_count": 18,
   "metadata": {
    "collapsed": false,
    "deletable": true,
    "editable": true
   },
   "outputs": [],
   "source": [
    "def rotate(matrix):\n",
    "    if not type(matrix) == list:\n",
    "        print 'Illegal argument'\n",
    "        return\n",
    "    m = len(matrix)\n",
    "    n = len(matrix[0])\n",
    "    new_matrix = [[0 for j in range(n)] for i in range(m)]\n",
    "    for i in range(m):\n",
    "        for j in range(n):\n",
    "            new_matrix[j][m-i-1] = matrix[i][j]\n",
    "    return new_matrix\n",
    "\n",
    "assert rotate([[1, 2], [3, 4]]) == [[3, 1], [4, 2]]"
   ]
  },
  {
   "cell_type": "markdown",
   "metadata": {},
   "source": [
    "If the matrix is square, O(1) for space is possible."
   ]
  },
  {
   "cell_type": "code",
   "execution_count": 35,
   "metadata": {
    "collapsed": false
   },
   "outputs": [
    {
     "name": "stdout",
     "output_type": "stream",
     "text": [
      "[[3, 1], [4, 2]]\n"
     ]
    }
   ],
   "source": [
    "def swap_diagonal(m):\n",
    "    side = len(m)\n",
    "    for i in range(side):\n",
    "        for j in range(side-i):\n",
    "            swap(m, i, j, side-j-1, side-i-1)\n",
    "\n",
    "def swap(m, i, j, k, l):\n",
    "    m[i][j], m[k][l] = m[k][l], m[i][j]\n",
    "\n",
    "def flip_vertical(m):\n",
    "    side = len(m)\n",
    "    for i in range(side):\n",
    "        for j in range(side):\n",
    "            swap(m, i, j, side-1-1, j)\n",
    "\n",
    "m = [[1, 2], [3, 4]]\n",
    "swap_diagonal(m)\n",
    "flip_vertical(m)\n",
    "print m"
   ]
  },
  {
   "cell_type": "markdown",
   "metadata": {
    "deletable": true,
    "editable": true
   },
   "source": [
    "### calculate the dot product of two sparse vectors\n",
    "A sparse vector can be in a list of (index, value) tuples or a linked list of (index, value) tuples. A linear algorithm is similar to the merge step of merge sorting. O(n1 + n2)"
   ]
  },
  {
   "cell_type": "code",
   "execution_count": 15,
   "metadata": {
    "collapsed": false,
    "deletable": true,
    "editable": true
   },
   "outputs": [],
   "source": [
    "# This algorithm assumes the input vectors (index, value) tuples are sorted by indices.\n",
    "\n",
    "def dot_product(x, y):\n",
    "    sum_ = 0\n",
    "    i, j = 0, 0\n",
    "    while i < len(x) and j < len(y):\n",
    "        index1, value1 = x[i]\n",
    "        index2, value2 = y[j]\n",
    "        if index1 == index2:\n",
    "            sum_ += value1*value2\n",
    "            i += 1\n",
    "            j += 1\n",
    "        elif index1 > index2:\n",
    "            j += 1\n",
    "        else:\n",
    "            i += 1\n",
    "    return sum_\n",
    "\n",
    "assert dot_product([(1, 1), (3, 3), (5, 5)], [(2, 2), (3, 3), (5, 5)]) == 34       "
   ]
  },
  {
   "cell_type": "markdown",
   "metadata": {},
   "source": [
    "A hash table provides easier random access to elements, but an array performs better in accessing elements successively."
   ]
  },
  {
   "cell_type": "markdown",
   "metadata": {
    "deletable": true,
    "editable": true
   },
   "source": [
    "### Print tree levelwise\n",
    "BFS"
   ]
  },
  {
   "cell_type": "code",
   "execution_count": 8,
   "metadata": {
    "collapsed": true,
    "deletable": true,
    "editable": true
   },
   "outputs": [],
   "source": [
    "from collections import deque\n",
    "\n",
    "class Tree(object):\n",
    "    def __init__(self, data):\n",
    "        self.data = data\n",
    "        self.parent = None\n",
    "        self.left = None\n",
    "        self.right = None\n",
    "        self.prev = None\n",
    "        self.next = None\n",
    "\n",
    "    def __str__(self):\n",
    "        return str(self.data)\n",
    "\n",
    "def insert(tree, data, parent=None):\n",
    "    if not tree:\n",
    "        tree = Tree(data)\n",
    "        tree.parent = parent\n",
    "        if parent.data > data:\n",
    "            parent.left = tree\n",
    "        else:\n",
    "            parent.right = tree\n",
    "    else:\n",
    "        if tree.data > data:\n",
    "            insert(tree.left, data, tree)\n",
    "        else:\n",
    "            insert(tree.right, data, tree)"
   ]
  },
  {
   "cell_type": "code",
   "execution_count": 28,
   "metadata": {
    "collapsed": false,
    "deletable": true,
    "editable": true
   },
   "outputs": [
    {
     "name": "stdout",
     "output_type": "stream",
     "text": [
      "4\n",
      "2 5\n",
      "1 3\n"
     ]
    }
   ],
   "source": [
    "def level_order_print(tree):\n",
    "    queue = deque()\n",
    "    queue.append(tree)\n",
    "    while queue:\n",
    "        count = len(queue)\n",
    "\n",
    "        while count:\n",
    "            tree = queue.popleft()\n",
    "            print tree,\n",
    "            for child in [node for node in (tree.left, tree.right) if node]:\n",
    "                queue.append(child)\n",
    "            count -= 1\n",
    "        print\n",
    "\n",
    "tree = Tree(4)\n",
    "insert(tree, 2)\n",
    "insert(tree, 1)\n",
    "insert(tree, 3)\n",
    "insert(tree, 5)\n",
    "level_order_print(tree)"
   ]
  },
  {
   "cell_type": "markdown",
   "metadata": {
    "deletable": true,
    "editable": true
   },
   "source": [
    "### Number of paths from one element of a 2D array to another\n",
    "Dynamic programming\n",
    "```\n",
    "N[0, 0] = 1\n",
    "N[i, 0] = 1\n",
    "N[0, j] = 1\n",
    "N[i, j] = N[i-1, j] + N[i, j-1]\n",
    "```"
   ]
  },
  {
   "cell_type": "markdown",
   "metadata": {
    "deletable": true,
    "editable": true
   },
   "source": [
    "### Return the head node of the singly linked list with each pair of nodes swapped. If there is a last odd node leave it in place. Example: Input: 1 -> 2 -> 3 -> 4 -> 5 Output: 2 -> 1 -> 4 -> 3 -> 5\n",
    "\n",
    "Swap values recursively rather than nodes."
   ]
  },
  {
   "cell_type": "code",
   "execution_count": 1,
   "metadata": {
    "collapsed": false,
    "deletable": true,
    "editable": true
   },
   "outputs": [
    {
     "name": "stdout",
     "output_type": "stream",
     "text": [
      "2\n",
      "1\n",
      "4\n",
      "3\n",
      "5\n"
     ]
    }
   ],
   "source": [
    "def swap_pairs(l):\n",
    "    if l and l.next:\n",
    "        l.data, l.next.data = l.next.data, l.data\n",
    "        swap_pairs(l.next.next)  \n",
    "    \n",
    "class Node(object):\n",
    "    def __init__(self, x):\n",
    "        self.data = x\n",
    "        self.next = None\n",
    "    \n",
    "    def __str__(self):\n",
    "        return str(self.data)\n",
    "\n",
    "def print_list(l):\n",
    "    while l:\n",
    "        print l\n",
    "        l = l.next\n",
    "\n",
    "head = Node(1)\n",
    "head.next = Node(2)\n",
    "head.next.next = Node(3)\n",
    "head.next.next.next = Node(4)\n",
    "head.next.next.next.next = Node(5)\n",
    "\n",
    "swap_pairs(head)\n",
    "print_list(head)"
   ]
  },
  {
   "cell_type": "markdown",
   "metadata": {
    "deletable": true,
    "editable": true
   },
   "source": [
    "### It was a mathematical questions about finding the greatest number (but less than the given number) by reordering the digits in the number.\n",
    "Here is an algorithm for the next higher number.\n",
    "```\n",
    "Compare the two digits from the tail and move up until digits[i] < digits[i-1]. Call this position i a pivot.\n",
    "Among the digits right to the pivot, find the digit whose value is closest to the pivot value.\n",
    "Swap the two.\n",
    "Sort the digits right to the pivot.\n",
    "```"
   ]
  },
  {
   "cell_type": "markdown",
   "metadata": {
    "deletable": true,
    "editable": true
   },
   "source": [
    "### Given a list of chars, return the 2nd most frequently occurring char\n",
    "    Go through the list.\n",
    "    Store the count of each char in a hash table.\n",
    "    Go through the hash table.\n",
    "    Return the second largest count.\n",
    "    \n",
    "Instead of sorting the counts, go through the k, v pairs. Be careful keeping track of the second largest count because there are multiple first largest counts.\n",
    "\n",
    "    if count > first_max\n",
    "        second_max = first_max\n",
    "        first_max = count\n",
    "    elif count != first_max and count > second_max\n",
    "        second_max = count\n",
    "   \n",
    "O(n) for time and O(1) for space"
   ]
  },
  {
   "cell_type": "markdown",
   "metadata": {
    "deletable": true,
    "editable": true
   },
   "source": [
    "### Given various time intervals throughout the day, return time(s) when no time interval is scheduled\n",
    "    Sort the intervals by their start times.\n",
    "    Go through the intervals.\n",
    "    Increment count as an interval starts.\n",
    "    Decrement count as an interval ends.\n",
    "    When count becomes zero, append the time to result.\n",
    "    Return the result after going through all intervals.\n",
    "    \n",
    "The implementation below is similar to the merge step in mergesort. O(n) for both time and space. Be careful not to forget the case where a meeting starts immediately as another ends."
   ]
  },
  {
   "cell_type": "code",
   "execution_count": 5,
   "metadata": {
    "collapsed": false
   },
   "outputs": [
    {
     "name": "stdout",
     "output_type": "stream",
     "text": [
      "Free time starts at 4\n",
      "Free time ends at 5\n"
     ]
    }
   ],
   "source": [
    "from collections import deque\n",
    "\n",
    "def rooms_required(times):\n",
    "    start = deque([i for i, j in times])\n",
    "    end = deque([j for i, j in times])\n",
    "    count = 0\n",
    "    max_count = 0\n",
    "    while start and end:\n",
    "        if start[0] < end[0]:\n",
    "            start.popleft()\n",
    "            count += 1\n",
    "            max_count = max(max_count, count)\n",
    "        elif start[0] > end[0]:\n",
    "            end.popleft()\n",
    "            count -= 1\n",
    "        else:\n",
    "            start.popleft()\n",
    "            end.popleft()\n",
    "\n",
    "    while end:\n",
    "        end.popleft()\n",
    "        count -= 1\n",
    "    return max_count\n",
    "\n",
    "schedule = [(1, 3), (2, 4), (5, 6)]\n",
    "\n",
    "assert rooms_required(schedule) == 2\n",
    "\n",
    "def free_time(times):\n",
    "    start = deque([i for i, j in times])\n",
    "    end = deque([j for i, j in times])\n",
    "    count = 0\n",
    "    max_count = 0\n",
    "    isFree = False\n",
    "    while start and end:\n",
    "        if start[0] < end[0]:\n",
    "            start_time = start.popleft()\n",
    "            count += 1\n",
    "            if isFree and count == 1:\n",
    "                isFree = False\n",
    "                print 'Free time ends at', start_time\n",
    "            max_count = max(max_count, count)\n",
    "        elif start[0] > end[0]:\n",
    "            end_time = end.popleft()\n",
    "            count -= 1\n",
    "            if count == 0:\n",
    "                isFree = True\n",
    "                print 'Free time starts at', end_time\n",
    "        else:\n",
    "            start.popleft()\n",
    "            end.popleft()\n",
    "\n",
    "    while end:\n",
    "        end.popleft()\n",
    "        count -= 1\n",
    "\n",
    "free_time(schedule)"
   ]
  },
  {
   "cell_type": "markdown",
   "metadata": {
    "deletable": true,
    "editable": true
   },
   "source": [
    "### Permutations of a string\n",
    "    perms = permutations(word[1:])\n",
    "    for perm in perms\n",
    "        insert word[0] on each position of perm including head and tail\n",
    "    return all words afer insertions"
   ]
  },
  {
   "cell_type": "markdown",
   "metadata": {
    "collapsed": true,
    "deletable": true,
    "editable": true
   },
   "source": [
    "### Given an array of integers find a contiguous subset that sums to a given number\n",
    "    Start from the first element.\n",
    "    Add one element at a time until sum gets larger than or equals to the target.\n",
    "    If the sum equals to the target, return start and end\n",
    "    else substract a[start] from the sum and increment start\n",
    "    Repeat adding elements.\n",
    "    \n",
    "This works for an array of positive integers. O(n)"
   ]
  },
  {
   "cell_type": "code",
   "execution_count": 10,
   "metadata": {
    "collapsed": false,
    "deletable": true,
    "editable": true
   },
   "outputs": [],
   "source": [
    "def contiguous_sum(array, target):\n",
    "    sum_ = 0\n",
    "    start = 0\n",
    "    for end in range(len(array)):\n",
    "        sum_ += array[end]\n",
    "        while sum_ > target:\n",
    "            sum_ -= array[start]\n",
    "            start += 1\n",
    "        if sum_ == target:\n",
    "            return array[start:end+1]\n",
    "    \n",
    "assert contiguous_sum([15, 2, 4, 8, 9, 5, 10, 23], 23) == [2, 4, 8, 9]\n",
    "assert contiguous_sum([23, 2, 4, 8, 9, 5, 10, 23], 23) == [23]\n",
    "assert contiguous_sum([24, 2, 4, 8, 9, 5, 10, 23], 23) == [2, 4, 8, 9]"
   ]
  },
  {
   "cell_type": "markdown",
   "metadata": {
    "deletable": true,
    "editable": true
   },
   "source": [
    "### Reverse a linked list"
   ]
  },
  {
   "cell_type": "code",
   "execution_count": 19,
   "metadata": {
    "collapsed": false,
    "deletable": true,
    "editable": true
   },
   "outputs": [
    {
     "name": "stdout",
     "output_type": "stream",
     "text": [
      "3\n",
      "2\n",
      "1\n"
     ]
    }
   ],
   "source": [
    "class Node(object):\n",
    "    def __init__(self, data):\n",
    "        self.data = data\n",
    "        self.next = None\n",
    "        \n",
    "    def __str__(self):\n",
    "        return str(self.data)\n",
    "        \n",
    "def traverse_list(list_):\n",
    "    while list_:\n",
    "        print list_\n",
    "        list_ = list_.next\n",
    "\n",
    "def reverse(list_):\n",
    "    prev = None\n",
    "    while list_:\n",
    "        next_ = list_.next\n",
    "        list_.next = prev\n",
    "        prev = list_\n",
    "        list_ = next_\n",
    "    head = prev\n",
    "    return head\n",
    "\n",
    "head = Node(1)\n",
    "head.next = Node(2)\n",
    "head.next.next = Node(3)\n",
    "\n",
    "head = reverse(head)\n",
    "traverse_list(head)"
   ]
  },
  {
   "cell_type": "markdown",
   "metadata": {},
   "source": [
    "Use recursion."
   ]
  },
  {
   "cell_type": "code",
   "execution_count": 20,
   "metadata": {
    "collapsed": false
   },
   "outputs": [
    {
     "name": "stdout",
     "output_type": "stream",
     "text": [
      "3\n",
      "2\n",
      "1\n"
     ]
    }
   ],
   "source": [
    "def reverse(l):\n",
    "    head = l\n",
    "    head = reverse_util(l, None)\n",
    "    return head\n",
    "\n",
    "def reverse_util(l, prev):\n",
    "    if not l:\n",
    "        return prev\n",
    "\n",
    "    next_ = l.next\n",
    "    l.next = prev\n",
    "    return reverse_util(next_, l)\n",
    "\n",
    "head = Node(1)\n",
    "head.next = Node(2)\n",
    "head.next.next = Node(3)\n",
    "\n",
    "head = reverse(head)\n",
    "traverse_list(head)"
   ]
  },
  {
   "cell_type": "markdown",
   "metadata": {
    "deletable": true,
    "editable": true
   },
   "source": [
    "### Square each element of a sorted array of a mixture of positive and negative integers and keep the array sorted\n",
    "    Partition the positive and negative values.\n",
    "    Square each element.\n",
    "    Merge the two partitions but the negative array should be in the reverse order from the tail to the head."
   ]
  },
  {
   "cell_type": "markdown",
   "metadata": {
    "deletable": true,
    "editable": true
   },
   "source": [
    "### Columnwise print of a binary tree\n",
    "    Find min and max horizontal distances from the root.\n",
    "    For col = min_dist, max_dist\n",
    "        Do bfs and print if hd equals to col."
   ]
  },
  {
   "cell_type": "code",
   "execution_count": 20,
   "metadata": {
    "collapsed": false,
    "deletable": true,
    "editable": true
   },
   "outputs": [
    {
     "name": "stdout",
     "output_type": "stream",
     "text": [
      "4\n",
      "2\n",
      "1 5 6\n",
      "3\n"
     ]
    }
   ],
   "source": [
    "import sys\n",
    "\n",
    "class Tree(object):\n",
    "    def __init__(self, data):\n",
    "        self.data = data\n",
    "        self.left = None\n",
    "        self.right = None\n",
    "        self.parent = None\n",
    "        \n",
    "    def __str__(self):\n",
    "        return str(self.data)\n",
    "\n",
    "root = Tree(1)\n",
    "root.left = Tree(2)\n",
    "root.right = Tree(3)\n",
    "root.left.left = Tree(4)\n",
    "root.left.right = Tree(5)\n",
    "root.right.left = Tree(6)\n",
    "\n",
    "min_dist = sys.maxint\n",
    "max_dist = -sys.maxint-1\n",
    "\n",
    "def columnwise_print(tree):\n",
    "    find_minmax_dist(tree, 0)\n",
    "    for col in range(min_dist, max_dist+1):\n",
    "        hdistance(tree, col, 0)\n",
    "        print\n",
    "\n",
    "def find_minmax_dist(tree, hd):\n",
    "    global min_dist, max_dist\n",
    "    if not tree:\n",
    "        return\n",
    "    if hd < min_dist:\n",
    "        min_dist = hd\n",
    "    if hd > max_dist:\n",
    "        max_dist = hd\n",
    "    find_minmax_dist(tree.left, hd-1)\n",
    "    find_minmax_dist(tree.right, hd+1)\n",
    "    \n",
    "def hdistance(tree, col, hd):\n",
    "    if not tree:\n",
    "        return\n",
    "    if col == hd:\n",
    "        print tree,\n",
    "    hdistance(tree.left, col, hd-1)\n",
    "    hdistance(tree.right, col, hd+1)\n",
    "    \n",
    "columnwise_print(root)"
   ]
  },
  {
   "cell_type": "code",
   "execution_count": 25,
   "metadata": {
    "collapsed": false
   },
   "outputs": [
    {
     "data": {
      "text/plain": [
       "(-2, 1)"
      ]
     },
     "execution_count": 25,
     "metadata": {},
     "output_type": "execute_result"
    }
   ],
   "source": [
    "def find_range(tree, min_dist, max_dist):\n",
    "    if not tree.left and not tree.right:\n",
    "        return min_dist, max_dist\n",
    "    if tree.left:\n",
    "        min_dist, _ = find_range(tree.left, min_dist-1, max_dist)\n",
    "    if tree.right:\n",
    "        _, max_dist = find_range(tree.right, min_dist, max_dist+1)\n",
    "    return min_dist, max_dist\n",
    "\n",
    "find_range(root, 0, 0)"
   ]
  },
  {
   "cell_type": "markdown",
   "metadata": {},
   "source": [
    "More efficient algorithm. Put tree values in a hash table while measuring distances. The keys of the table are the horizontal distance of each node from the root. Unlike the implementation above, this one takes one traversal. O(nlogn) for sorting the distances."
   ]
  },
  {
   "cell_type": "code",
   "execution_count": 38,
   "metadata": {
    "collapsed": false
   },
   "outputs": [
    {
     "ename": "NameError",
     "evalue": "name 'Codec' is not defined",
     "output_type": "error",
     "traceback": [
      "\u001b[0;31m---------------------------------------------------------------------------\u001b[0m",
      "\u001b[0;31mNameError\u001b[0m                                 Traceback (most recent call last)",
      "\u001b[0;32m<ipython-input-38-d8c1b3ff5af8>\u001b[0m in \u001b[0;36m<module>\u001b[0;34m()\u001b[0m\n\u001b[1;32m     27\u001b[0m \u001b[0;34m\u001b[0m\u001b[0m\n\u001b[1;32m     28\u001b[0m \u001b[0ms\u001b[0m \u001b[0;34m=\u001b[0m \u001b[0;34m'[3,9,8,4,0,1,7]'\u001b[0m\u001b[0;34m\u001b[0m\u001b[0m\n\u001b[0;32m---> 29\u001b[0;31m \u001b[0mcodec\u001b[0m \u001b[0;34m=\u001b[0m \u001b[0mCodec\u001b[0m\u001b[0;34m(\u001b[0m\u001b[0;34m)\u001b[0m\u001b[0;34m\u001b[0m\u001b[0m\n\u001b[0m\u001b[1;32m     30\u001b[0m \u001b[0mtree\u001b[0m \u001b[0;34m=\u001b[0m \u001b[0mcodec\u001b[0m\u001b[0;34m.\u001b[0m\u001b[0mdeserialize\u001b[0m\u001b[0;34m(\u001b[0m\u001b[0ms\u001b[0m\u001b[0;34m)\u001b[0m\u001b[0;34m\u001b[0m\u001b[0m\n\u001b[1;32m     31\u001b[0m \u001b[0msol\u001b[0m \u001b[0;34m=\u001b[0m \u001b[0mSolution\u001b[0m\u001b[0;34m(\u001b[0m\u001b[0;34m)\u001b[0m\u001b[0;34m\u001b[0m\u001b[0m\n",
      "\u001b[0;31mNameError\u001b[0m: name 'Codec' is not defined"
     ]
    }
   ],
   "source": [
    "from collections import defaultdict\n",
    "\n",
    "columns = defaultdict(lambda: [])\n",
    "\n",
    "class Solution(object):\n",
    "    def verticalOrder(self, root):\n",
    "        \"\"\"\n",
    "        :type root: TreeNode\n",
    "        :rtype: List[List[int]]\n",
    "        \"\"\"\n",
    "        hdist(root, 0)\n",
    "        sorted_dist = sorted(columns.keys())\n",
    "#         result = (sorted_dist[-1] - sorted_dist[0] + 1)*[0]\n",
    "        result = []\n",
    "        for i, dist in enumerate(sorted_dist):\n",
    "#             result[i] = columns[dist]\n",
    "            result.append(columns[dist])\n",
    "            \n",
    "        return result\n",
    "\n",
    "def hdist(tree, dist):\n",
    "    if not tree:\n",
    "        return\n",
    "    columns[dist].append(tree.val)\n",
    "    hdist(tree.left, dist - 1)\n",
    "    hdist(tree.right, dist + 1)\n",
    "    \n",
    "s = '[3,9,8,4,0,1,7]'\n",
    "codec = Codec()\n",
    "tree = codec.deserialize(s)\n",
    "sol = Solution()\n",
    "sol.verticalOrder(tree)"
   ]
  },
  {
   "cell_type": "code",
   "execution_count": null,
   "metadata": {
    "collapsed": true
   },
   "outputs": [],
   "source": [
    "from collections import defaultdict\n",
    "\n",
    "columns = defaultdict(lambda: [])\n",
    "\n",
    "class Solution(object):\n",
    "    def verticalOrder(self, root):\n",
    "        \"\"\"\n",
    "        :type root: TreeNode\n",
    "        :rtype: List[List[int]]\n",
    "        \"\"\"\n",
    "        hdist(root, 0)\n",
    "        sorted_dist = sorted(columns.keys())\n",
    "        result = (sorted_dist[-1] - sorted_dist[0] + 1)*[0]\n",
    "        for i, dist in enumerate(sorted_dist):\n",
    "            result[i] = columns[dist]\n",
    "            \n",
    "        return result\n",
    "\n",
    "def hdist(tree, dist):\n",
    "    if not tree:\n",
    "        return\n",
    "    hdist(tree.left, dist - 1)\n",
    "    print tree.val\n",
    "    hdist(tree.right, dist + 1)\n",
    "    \n",
    "s = '[3,9,8,4,0,1,7]'\n",
    "codec = Codec()\n",
    "tree = codec.deserialize(s)\n",
    "sol = Solution()\n",
    "sol.verticalOrder(tree)"
   ]
  },
  {
   "cell_type": "markdown",
   "metadata": {},
   "source": [
    "### Power of Two\n",
    "0 = 00, 2 = 10, 4 = 100, 8 = 1000, ...\n",
    "\n",
    "n & (n-1) eliminates the least significant 1."
   ]
  },
  {
   "cell_type": "code",
   "execution_count": 1,
   "metadata": {
    "collapsed": false
   },
   "outputs": [],
   "source": [
    "def powerOfTwo(n):\n",
    "    return n & (n-1) == 0\n",
    "\n",
    "assert powerOfTwo(7) == False\n",
    "assert powerOfTwo(8) == True"
   ]
  },
  {
   "cell_type": "markdown",
   "metadata": {},
   "source": [
    "### Number of 1's in the binary representation of an integer\n",
    "n & (n-1) eliminates the least significant 1. Count how many & operations are needed to make the integer zero."
   ]
  },
  {
   "cell_type": "code",
   "execution_count": 4,
   "metadata": {
    "collapsed": false
   },
   "outputs": [],
   "source": [
    "def numberOfOnes(x):\n",
    "    count = 0\n",
    "    while x:\n",
    "        x = x & (x-1)\n",
    "        count += 1\n",
    "    return count\n",
    "\n",
    "assert numberOfOnes(3) == 2"
   ]
  },
  {
   "cell_type": "markdown",
   "metadata": {},
   "source": [
    "### Check full binary tree\n",
    "Check from the top to the bottom because in this way we can terminate early as soon as we find out that the tree is not full.\n",
    "\n",
    "A tree is full only if the tree has both left and children and both left and right subtrees are full."
   ]
  },
  {
   "cell_type": "code",
   "execution_count": 4,
   "metadata": {
    "collapsed": false
   },
   "outputs": [],
   "source": [
    "class Tree(object):\n",
    "    def __init__(self, data):\n",
    "        self.data = data\n",
    "        self.left = None\n",
    "        self.right = None\n",
    "        self.parent = None\n",
    "        \n",
    "    def __str__(self):\n",
    "        return str(self.data)\n",
    "\n",
    "def check_full_tree(tree):\n",
    "    if not tree:\n",
    "        return True\n",
    "    if (not tree.left and tree.right) or (tree.left and not tree.right):\n",
    "        return False\n",
    "    return check_full_tree(tree.left) and check_full_tree(tree.right)\n",
    "    \n",
    "root = Tree(1)\n",
    "root.left = Tree(2)\n",
    "root.right = Tree(3)\n",
    "root.left.left = Tree(4)\n",
    "root.left.right = Tree(5)\n",
    "root.right.left = Tree(6)\n",
    "\n",
    "assert check_full_tree(root) == False\n",
    "\n",
    "root.right.right = Tree(7)\n",
    "assert check_full_tree(root) == True"
   ]
  },
  {
   "cell_type": "markdown",
   "metadata": {},
   "source": [
    "### Check if a tree is complete\n",
    "A tree is complete when all levels are full except for the bottom level. The  bottom level doesn't have to be full but should be filled up from the left. Picture a binary heap. If you index from the top, the index of the left child of a tree is *2i+1* while that of the right child is *2i+2*. The index of each tree should strictly less than the number of nodes.\n",
    "\n",
    "`max_index = n_nodes - 1`"
   ]
  },
  {
   "cell_type": "code",
   "execution_count": 4,
   "metadata": {
    "collapsed": false
   },
   "outputs": [],
   "source": [
    "class Tree(object):\n",
    "    def __init__(self, data):\n",
    "        self.data = data\n",
    "        self.left = None\n",
    "        self.right = None\n",
    "        self.parent = None\n",
    "        \n",
    "    def __str__(self):\n",
    "        return str(self.data)\n",
    "    \n",
    "max_index = 0\n",
    "node_count = 0\n",
    "def check_complete_tree(tree):\n",
    "    def complete_tree_util(tree, index):\n",
    "        global max_index, node_count\n",
    "        if not tree:\n",
    "            return\n",
    "        node_count += 1\n",
    "        max_index = max(max_index, index)\n",
    "        complete_tree_util(tree.left, 2*index+1)\n",
    "        complete_tree_util(tree.right, 2*index+2)\n",
    "    \n",
    "    complete_tree_util(tree, 0)\n",
    "    return max_index == node_count - 1\n",
    "    \n",
    "\n",
    "root = Tree(1)\n",
    "root.left = Tree(2)\n",
    "root.right = Tree(3)\n",
    "root.left.left = Tree(4)\n",
    "root.left.right = Tree(5)    \n",
    "\n",
    "assert check_complete_tree(root) == True\n",
    "\n",
    "root = Tree(1)\n",
    "root.left = Tree(2)\n",
    "root.right = Tree(3)\n",
    "root.left.left = Tree(4)\n",
    "root.left.right = Tree(5)\n",
    "root.right.right = Tree(6)\n",
    "\n",
    "assert check_complete_tree(root) == False"
   ]
  },
  {
   "cell_type": "markdown",
   "metadata": {},
   "source": [
    "### Check if two strings are anagrams\n",
    "A. Sort, O(nlogn)\n",
    "\n",
    "    Sort the two strings\n",
    "    Compare the two sorted stings\n",
    "    \n",
    "B. Count, three passes of O(n)\n",
    "\n",
    "    Count the letters in the first string\n",
    "    Count the letters in the second string\n",
    "    Compare the counts"
   ]
  },
  {
   "cell_type": "markdown",
   "metadata": {
    "collapsed": true
   },
   "source": [
    "### given a list of words, group anagrams\n",
    "A. Hashing, O(n*hash)\n",
    "\n",
    "    For each word\n",
    "        Sort the word and calculate hash. The hash value should be same for the anagrams.\n",
    "        Put the word in the hash table whose keys are the hash values and the values are lists of words.\n",
    "\n",
    "B. Sort, O(nmlogm + nlogn) where m is the avg. length of strings and n is the length of the list.\n",
    "\n",
    "    Create an array that stores the index of each string.\n",
    "    Sort each string.\n",
    "    Now the list is grouped by anagrams.\n",
    "    If a group consists of one string, it doesn't have an anagram in the list."
   ]
  },
  {
   "cell_type": "markdown",
   "metadata": {},
   "source": [
    "### Check if a graph is bipartite\n",
    "    for v in g.vertices\n",
    "        color[v] = BLACK\n",
    "        bfs(g, v)\n",
    "        \n",
    "    function process_edge(u, v)\n",
    "        if color[u] = color[v]\n",
    "            graph is not bipartite\n",
    "        color[v] = complement(color[u])"
   ]
  },
  {
   "cell_type": "markdown",
   "metadata": {},
   "source": [
    "### Write a function that finds the square root of a decimal number.\n",
    "r^2 = n\n",
    "\n",
    "Binary search between 1 <= r <= n\n",
    "\n",
    "terminal conditions:\n",
    "- mid*mid == n\n",
    "- high - low == 1"
   ]
  },
  {
   "cell_type": "code",
   "execution_count": null,
   "metadata": {
    "collapsed": true
   },
   "outputs": [],
   "source": [
    "def binary_search(x, low, high):\n",
    "    if high - low == 1:\n",
    "        return low\n",
    "    if low < high:\n",
    "        mid = (low + high)//2\n",
    "        mid_square = mid*mid\n",
    "        if mid_square == x:\n",
    "            return mid\n",
    "        if mid_square > x:\n",
    "            return binary_search(x, low, mid)\n",
    "        else:\n",
    "            return binary_search(x, mid, high)\n",
    "\n",
    "binary_search(n, 1, n)"
   ]
  },
  {
   "cell_type": "markdown",
   "metadata": {},
   "source": [
    "### Find k-th largest element in a tree\n",
    "    Initiate an empty min heap.\n",
    "    Do bfs starting from the root.\n",
    "    At each node, if the item is greater than the min of the heap, pop the min and insert the item to the heap.\n",
    "    In the end return the min of the heap."
   ]
  },
  {
   "cell_type": "code",
   "execution_count": 8,
   "metadata": {
    "collapsed": false
   },
   "outputs": [],
   "source": [
    "import heapq\n",
    "from collections import deque\n",
    "\n",
    "class Tree(object):\n",
    "    def __init__(self, data):\n",
    "        self.data = data\n",
    "        self.children = []\n",
    "        \n",
    "def kth_largest(tree, k):\n",
    "    heap = []\n",
    "    queue = deque()\n",
    "    \n",
    "    queue.append(tree)\n",
    "    while queue:\n",
    "        tree = queue.popleft()\n",
    "        for child in tree.children:\n",
    "            queue.append(child)\n",
    "            if len(heap) < k:\n",
    "                heapq.heappush(heap, child.data)\n",
    "            else:\n",
    "                if child.data < heapq.nsmallest(1, heap):\n",
    "                    heapq.heappushpop(heap, child.data)\n",
    "    return heapq.nsmallest(1, heap)\n",
    "\n",
    "tree1 = Tree(1)\n",
    "tree2 = Tree(2)\n",
    "tree3 = Tree(3)\n",
    "tree4 = Tree(4)\n",
    "tree5 = Tree(5)\n",
    "tree1.children = [tree2, tree3]\n",
    "tree2.children = [tree4, tree5]\n",
    "\n",
    "assert kth_largest(tree1, 4)[0] == 2"
   ]
  },
  {
   "cell_type": "markdown",
   "metadata": {},
   "source": [
    "### Find k-th largest element in a binary search tree\n",
    "    Do reverse in-order traversal.\n",
    "    Count each node.\n",
    "    When count == k, print the node."
   ]
  },
  {
   "cell_type": "code",
   "execution_count": 3,
   "metadata": {
    "collapsed": false
   },
   "outputs": [],
   "source": [
    "class Tree(object):\n",
    "    def __init__(self, data):\n",
    "        self.data = data\n",
    "        self.left = None\n",
    "        self.right = None\n",
    "        self.parent = None\n",
    "        \n",
    "    def __str__(self):\n",
    "        return str(self.data)\n",
    "\n",
    "rank = 0\n",
    "def kth_largest(tree, k):\n",
    "    global rank\n",
    "    if tree:\n",
    "        right = kth_largest(tree.right, k)\n",
    "        if right:\n",
    "            return right\n",
    "        rank += 1\n",
    "        if rank == k:\n",
    "            return tree\n",
    "        left = kth_largest(tree.left, k)\n",
    "        if left:\n",
    "            return left\n",
    "\n",
    "root = Tree(4)\n",
    "root.left = Tree(2)\n",
    "root.right = Tree(5)\n",
    "root.left.left = Tree(1)\n",
    "root.left.right = Tree(3)\n",
    "root.right.right = Tree(6)\n",
    "\n",
    "assert kth_largest(root, 3).data == 4"
   ]
  },
  {
   "cell_type": "markdown",
   "metadata": {},
   "source": [
    "### How can one implement a queue with only a stack implementation?\n",
    "    function enqueue(x)\n",
    "        while outstack\n",
    "            instack.push(outstack.pop())\n",
    "        instack.push(x)\n",
    "    \n",
    "    function dequeue()\n",
    "        while instack\n",
    "            outstack.push(instack.pop())\n",
    "        return outstack.pop()"
   ]
  },
  {
   "cell_type": "markdown",
   "metadata": {},
   "source": [
    "### Print the Fibonacci sequence to the Nth digit.\n",
    "    back2 = 0\n",
    "    back1 = 1\n",
    "    fib = back1 + back2\n",
    "    while len(str(fib)) < n\n",
    "        print fib\n",
    "        back2 = back1\n",
    "        back1 = fib\n",
    "        fib = back1 + back2"
   ]
  },
  {
   "cell_type": "markdown",
   "metadata": {},
   "source": [
    "### Determine the 10 most frequent words given a terabyte of strings\n",
    "    Tokenize the strings.\n",
    "    Count the appearances of the tokens.\n",
    "    As going through the (token, count) tuples, maintain a min heap of size 10."
   ]
  },
  {
   "cell_type": "markdown",
   "metadata": {},
   "source": [
    "### Given some email ids, and a similarity function which says whether two email ids are similar, determine all the sets of email ids that are similar to each other.\n",
    "\n",
    "Clarify that if similar(a, b) and similar(b, c) means similar(a, c). If similarity(a, b) = TRUE, there is an edge between a and b. The nodes in a connected component are similar to each other."
   ]
  },
  {
   "cell_type": "markdown",
   "metadata": {},
   "source": [
    "### Clone a linked list with next and random pointer\n",
    "    Copy each node and insert between the original node and the next node.\n",
    "    For each node\n",
    "        l.next.random = l.random.next\n",
    "    Detach the copied nodes from original nodes and return the copied head.\n",
    "    \n",
    "O(n) time and O(1) space"
   ]
  },
  {
   "cell_type": "code",
   "execution_count": 1,
   "metadata": {
    "collapsed": false
   },
   "outputs": [
    {
     "name": "stdout",
     "output_type": "stream",
     "text": [
      "1\n",
      "2\n",
      "3\n",
      "1\n",
      "2\n",
      "3\n"
     ]
    }
   ],
   "source": [
    "class Node(object):\n",
    "    def __init__(self, data):\n",
    "        self.data = data\n",
    "        self.next = None\n",
    "        self.random = None\n",
    "\n",
    "def print_list(l):\n",
    "    if l:\n",
    "        print l.data\n",
    "        print_list(l.next)\n",
    "    \n",
    "def insert_nodes(l):\n",
    "    if l:\n",
    "        next_ = l.next\n",
    "        l.next = Node(l.data)\n",
    "        l.next.next = next_\n",
    "        insert_nodes(l.next.next)\n",
    "        \n",
    "def set_random(l):\n",
    "    if not l:\n",
    "        return\n",
    "    if l.next:\n",
    "        l.next.random = l.random.next\n",
    "        set_random(l.next.next)\n",
    "\n",
    "def detach(l):\n",
    "    if not l:\n",
    "        return\n",
    "    if l.next:\n",
    "        next_ = l.next\n",
    "        l.next = l.next.next\n",
    "        detach(next_)\n",
    "    \n",
    "head = Node(1)\n",
    "head.next = Node(2)\n",
    "head.next.next = Node(3)\n",
    "\n",
    "head.random = head.next.next\n",
    "head.next.random = head\n",
    "head.next.next.random = head.next\n",
    "\n",
    "insert_nodes(head)\n",
    "set_random(head)\n",
    "clone_head = head.next\n",
    "detach(head)\n",
    "\n",
    "print_list(head)\n",
    "print_list(clone_head)"
   ]
  },
  {
   "cell_type": "markdown",
   "metadata": {},
   "source": [
    "### Longest palindromic substring\n",
    "The center of a palindrome can be either one or two letters.\n",
    "    \n",
    "    For each letter in the string\n",
    "        Expand both left and right from the current letter as the center\n",
    "        Do the same with the current letter and the next one as the center \n",
    "        Keep track of the max length\n",
    "\n",
    "O(n^2) time and O(1) space"
   ]
  },
  {
   "cell_type": "code",
   "execution_count": 11,
   "metadata": {
    "collapsed": false
   },
   "outputs": [],
   "source": [
    "def palindrome_util(s, start, end):\n",
    "    n = len(s)\n",
    "    while start >= 0 and end < n and s[start] == s[end]:\n",
    "        start -= 1\n",
    "        end += 1\n",
    "    start += 1\n",
    "    end -= 1\n",
    "    return start, end\n",
    "    \n",
    "assert palindrome_util('dabae', 2, 2) == (1, 3)\n",
    "assert palindrome_util('dabbae', 2, 3) == (1, 4)\n",
    "\n",
    "def check_length(start, end, max_len, max_start):\n",
    "    length = end - start + 1\n",
    "    if max_len < length:\n",
    "        max_len = length\n",
    "        max_start = start\n",
    "    return max_len, max_start\n",
    "    \n",
    "def palindrome(s):\n",
    "    max_len = 0\n",
    "    max_start = 0\n",
    "    for i in range(len(s)-1):\n",
    "        start, end = palindrome_util(s, i, i)\n",
    "        max_len, max_start = check_length(start, end, max_len, max_start)\n",
    "        start, end = palindrome_util(s, i, i + 1)\n",
    "        max_len, max_start = check_length(start, end, max_len, max_start)\n",
    "    return s[max_start:max_start + max_len]\n",
    "\n",
    "assert palindrome('abacdeffed') == 'deffed'\n",
    "assert palindrome('abc') == 'a'"
   ]
  },
  {
   "cell_type": "markdown",
   "metadata": {},
   "source": [
    "### Sort a nearly sorted array each element of which is at most k steps away from its sorted position\n",
    "A. Insertion sort. For each element a[i], search a[0] ~ a[i-1] for the right position. The search takes actually at most k times. O(nk)\n",
    "\n",
    "B. Create a heap of k elements. Pot the min and append to the result. Insert an element from the rest and put into the heap. O(k) for building heap. O((n-k)logk) for insertion to the heap."
   ]
  },
  {
   "cell_type": "code",
   "execution_count": 15,
   "metadata": {
    "collapsed": false
   },
   "outputs": [],
   "source": [
    "def insertion_sort(a):\n",
    "    for i in range(1, len(a)):\n",
    "        j = i\n",
    "        while j >= 0 and a[j-1] > a[j]:\n",
    "            swap(a, j-1, j)\n",
    "            j -= 1\n",
    "\n",
    "def swap(a, i, j):\n",
    "    a[i], a[j] = a[j], a[i]\n",
    "\n",
    "a = [2, 6, 3, 12, 56, 8]\n",
    "insertion_sort(a)\n",
    "assert a == [2, 3, 6, 8, 12, 56]"
   ]
  },
  {
   "cell_type": "markdown",
   "metadata": {},
   "source": [
    "### Sort a nearly sorted array in which two elements are out of order\n",
    "1. Search for an out-of-order element from the left.\n",
    "2. Search for an out-of-order element from the right.\n",
    "3. Swap the two.\n",
    "\n",
    "O(n)"
   ]
  },
  {
   "cell_type": "code",
   "execution_count": 2,
   "metadata": {
    "collapsed": false
   },
   "outputs": [],
   "source": [
    "def one_swap_sort(a):\n",
    "    n = len(a)\n",
    "    i = 1\n",
    "    while i < n and a[i] < a[i+1]:\n",
    "        i += 1\n",
    "    low = i\n",
    "    \n",
    "    j = n - 1\n",
    "    while j > i and a[j-1] < a[j]:\n",
    "        j -= 1\n",
    "    high = j\n",
    "    \n",
    "    a[low], a[high] = a[high], a[low]\n",
    "    \n",
    "a = [2, 6, 3, 12]\n",
    "one_swap_sort(a)\n",
    "assert a == [2, 3, 6, 12]"
   ]
  },
  {
   "cell_type": "markdown",
   "metadata": {},
   "source": [
    "### Find the indices of the max value in a large array\n",
    "Linear search, O(n)"
   ]
  },
  {
   "cell_type": "code",
   "execution_count": 3,
   "metadata": {
    "collapsed": true
   },
   "outputs": [],
   "source": [
    "import sys\n",
    "\n",
    "def max_indices(a):\n",
    "    max_value = -sys.maxint - 1\n",
    "    for i, v in enumerate(a):\n",
    "        if v > max_value:\n",
    "            max_value = v\n",
    "            max_indices = [i]\n",
    "        elif v == max_value:\n",
    "            max_indices.append(i)\n",
    "\n",
    "    return max_indices\n",
    "\n",
    "assert max_indices([1, 2, 3, 2, 3]) == [2, 4]"
   ]
  },
  {
   "cell_type": "markdown",
   "metadata": {},
   "source": [
    "### Quicksort"
   ]
  },
  {
   "cell_type": "code",
   "execution_count": 11,
   "metadata": {
    "collapsed": false
   },
   "outputs": [],
   "source": [
    "def quicksort(a, low, high):\n",
    "    if low < high:\n",
    "        pivot = partition(a, low, high)\n",
    "        quicksort(a, low, pivot-1)\n",
    "        quicksort(a, pivot+1, high)\n",
    "\n",
    "def partition(a, low, high):\n",
    "    pivot = high\n",
    "    first_high = low\n",
    "    for i in range(low, high):\n",
    "        if a[i] < a[pivot]:\n",
    "            swap(a, i, first_high)\n",
    "            first_high += 1\n",
    "    swap(a, pivot, first_high)\n",
    "    return first_high\n",
    "\n",
    "def swap(a, i, j):\n",
    "    a[i], a[j] = a[j], a[i]\n",
    "\n",
    "a = [2, 6, 3, 12, 56, 8]\n",
    "quicksort(a, 0, len(a)-1)\n",
    "assert a == [2, 3, 6, 8, 12, 56]"
   ]
  },
  {
   "cell_type": "markdown",
   "metadata": {},
   "source": [
    "### Mergesort"
   ]
  },
  {
   "cell_type": "code",
   "execution_count": 7,
   "metadata": {
    "collapsed": false
   },
   "outputs": [],
   "source": [
    "from collections import deque\n",
    "\n",
    "def mergesort(a, low, high):\n",
    "    if low < high:\n",
    "        mid = (low + high)//2\n",
    "        mergesort(a, low, mid)\n",
    "        mergesort(a, mid+1, high)\n",
    "        merge(a, low, mid, high)\n",
    "        \n",
    "def merge(a, low, mid, high):\n",
    "    low_queue = deque(a[low:mid+1])\n",
    "    high_queue = deque(a[mid+1:high+1])\n",
    "    i = low\n",
    "    while low_queue and high_queue:\n",
    "        if low_queue[0] < high_queue[0]:\n",
    "            a[i] = low_queue.popleft()\n",
    "        else:\n",
    "            a[i] = high_queue.popleft()\n",
    "        i += 1\n",
    "    \n",
    "    while low_queue:\n",
    "        a[i] = low_queue.popleft()\n",
    "        i += 1\n",
    "        \n",
    "    while high_queue:\n",
    "        a[i] = high_queue.popleft()\n",
    "        i += 1\n",
    "        \n",
    "a = [2, 6, 3, 12, 56, 8]\n",
    "mergesort(a, 0, len(a)-1)\n",
    "assert a == [2, 3, 6, 8, 12, 56]"
   ]
  },
  {
   "cell_type": "markdown",
   "metadata": {},
   "source": [
    "### Implement queue using a circular array\n",
    "Maintain the head and next pointers. The pointers can wrap around to the beginning of the array. The index must be (*i % size*). Resize the array as the number of items  increase beyond or decrease below a certain number."
   ]
  },
  {
   "cell_type": "code",
   "execution_count": 20,
   "metadata": {
    "collapsed": false
   },
   "outputs": [],
   "source": [
    "class Queue(object):\n",
    "    def __init__(self):\n",
    "        self.size = 10\n",
    "        self.data = self.size*[0]\n",
    "        self.count = 0\n",
    "        self.head = 0\n",
    "        self.next = 0\n",
    "        \n",
    "    def enqueue(self, data):\n",
    "        if self.count == self.size:\n",
    "            self.resize(self.size*2)\n",
    "        try:\n",
    "            self.data[self.next] = data\n",
    "        except IndexError:\n",
    "            print 'Invalid the next pointer'\n",
    "        self.count += 1\n",
    "        self.next = (self.next + 1) % self.size\n",
    "    \n",
    "    def dequeue(self):\n",
    "        data = self.data[self.head]\n",
    "        self.head = (self.head + 1) % self.size\n",
    "        self.count -= 1\n",
    "        if self.count < self.size//4:\n",
    "            self.resize(self.size//2)\n",
    "        return data\n",
    "    \n",
    "    def resize(self, new_size):\n",
    "        tmp = new_size*[0]\n",
    "        i = 0\n",
    "        while i < self.count:\n",
    "            index = (i + self.head) % self.size\n",
    "            try:\n",
    "                tmp[i] = self.data[index]\n",
    "            except IndexError:\n",
    "                print 'Invalid index while resizing '\n",
    "            i += 1\n",
    "        self.head = 0\n",
    "        self.next = i\n",
    "        self.data = tmp\n",
    "        self.size = new_size\n",
    "        \n",
    "queue = Queue()\n",
    "queue.enqueue(1)\n",
    "queue.enqueue(2)\n",
    "assert queue.dequeue() == 1\n",
    "assert queue.dequeue() == 2"
   ]
  },
  {
   "cell_type": "markdown",
   "metadata": {},
   "source": [
    "### K smallest number in an integer array\n",
    "\n",
    "- max binary heap: O(nlogk)\n",
    "- quickselection, i.e, partition in quicksort: O(n) expected, O(n^2) worst case\n",
    "- median of medians: O(n) worst case"
   ]
  },
  {
   "cell_type": "code",
   "execution_count": null,
   "metadata": {
    "collapsed": true
   },
   "outputs": [],
   "source": [
    "# Quickselection\n",
    "# k-th largest is the k-th element in the sorted order\n",
    "\n",
    "import random\n",
    "\n",
    "def kth_largest(a, low, high, k):\n",
    "    pivot = random.randint(low, high)\n",
    "    swap(a, pivot, high)\n",
    "    pivot = partition(a)\n",
    "    rank = pivot - low + 1\n",
    "    if rank < k:\n",
    "        kth_largest(a, pivot+1, high, k-rank)\n",
    "    elif rank > k:\n",
    "        kth_largest(a, low, pivot-1, k)\n",
    "    else:\n",
    "        return a[pivot]\n",
    "        \n",
    "def swap(a, i, j):\n",
    "    a[i], a[j] = a[j], a[i]\n",
    "\n",
    "def partition(a, low, high, pivot):\n",
    "    first_high = 0\n",
    "    for i, x in enumerate(a):\n",
    "        if x < a[high]:\n",
    "            swap(a, i, first_high)\n",
    "            first_high += 1\n",
    "    swap(a, first_high, high)\n",
    "    return first_high"
   ]
  },
  {
   "cell_type": "code",
   "execution_count": 5,
   "metadata": {
    "collapsed": false
   },
   "outputs": [
    {
     "ename": "AssertionError",
     "evalue": "",
     "output_type": "error",
     "traceback": [
      "\u001b[0;31m---------------------------------------------------------------------------\u001b[0m",
      "\u001b[0;31mAssertionError\u001b[0m                            Traceback (most recent call last)",
      "\u001b[0;32m<ipython-input-5-ca84ca0fd0b4>\u001b[0m in \u001b[0;36m<module>\u001b[0;34m()\u001b[0m\n\u001b[1;32m     27\u001b[0m \u001b[0;32massert\u001b[0m \u001b[0mkth_smallest\u001b[0m\u001b[0;34m(\u001b[0m\u001b[0ma\u001b[0m\u001b[0;34m,\u001b[0m \u001b[0;36m0\u001b[0m\u001b[0;34m,\u001b[0m \u001b[0mlen\u001b[0m\u001b[0;34m(\u001b[0m\u001b[0ma\u001b[0m\u001b[0;34m)\u001b[0m\u001b[0;34m-\u001b[0m\u001b[0;36m1\u001b[0m\u001b[0;34m,\u001b[0m \u001b[0;36m1\u001b[0m\u001b[0;34m)\u001b[0m \u001b[0;34m==\u001b[0m \u001b[0;36m1\u001b[0m\u001b[0;34m\u001b[0m\u001b[0m\n\u001b[1;32m     28\u001b[0m \u001b[0;32massert\u001b[0m \u001b[0mkth_smallest\u001b[0m\u001b[0;34m(\u001b[0m\u001b[0ma\u001b[0m\u001b[0;34m,\u001b[0m \u001b[0;36m0\u001b[0m\u001b[0;34m,\u001b[0m \u001b[0mlen\u001b[0m\u001b[0;34m(\u001b[0m\u001b[0ma\u001b[0m\u001b[0;34m)\u001b[0m\u001b[0;34m-\u001b[0m\u001b[0;36m1\u001b[0m\u001b[0;34m,\u001b[0m \u001b[0;36m2\u001b[0m\u001b[0;34m)\u001b[0m \u001b[0;34m==\u001b[0m \u001b[0;36m2\u001b[0m\u001b[0;34m\u001b[0m\u001b[0m\n\u001b[0;32m---> 29\u001b[0;31m \u001b[0;32massert\u001b[0m \u001b[0mkth_smallest\u001b[0m\u001b[0;34m(\u001b[0m\u001b[0ma\u001b[0m\u001b[0;34m,\u001b[0m \u001b[0;36m0\u001b[0m\u001b[0;34m,\u001b[0m \u001b[0mlen\u001b[0m\u001b[0;34m(\u001b[0m\u001b[0ma\u001b[0m\u001b[0;34m)\u001b[0m\u001b[0;34m-\u001b[0m\u001b[0;36m1\u001b[0m\u001b[0;34m,\u001b[0m \u001b[0;36m3\u001b[0m\u001b[0;34m)\u001b[0m \u001b[0;34m==\u001b[0m \u001b[0;36m3\u001b[0m\u001b[0;34m\u001b[0m\u001b[0m\n\u001b[0m\u001b[1;32m     30\u001b[0m \u001b[0;32massert\u001b[0m \u001b[0mkth_smallest\u001b[0m\u001b[0;34m(\u001b[0m\u001b[0ma\u001b[0m\u001b[0;34m,\u001b[0m \u001b[0;36m0\u001b[0m\u001b[0;34m,\u001b[0m \u001b[0mlen\u001b[0m\u001b[0;34m(\u001b[0m\u001b[0ma\u001b[0m\u001b[0;34m)\u001b[0m\u001b[0;34m-\u001b[0m\u001b[0;36m1\u001b[0m\u001b[0;34m,\u001b[0m \u001b[0;36m4\u001b[0m\u001b[0;34m)\u001b[0m \u001b[0;34m==\u001b[0m \u001b[0;36m4\u001b[0m\u001b[0;34m\u001b[0m\u001b[0m\n\u001b[1;32m     31\u001b[0m \u001b[0;32massert\u001b[0m \u001b[0mkth_smallest\u001b[0m\u001b[0;34m(\u001b[0m\u001b[0ma\u001b[0m\u001b[0;34m,\u001b[0m \u001b[0;36m0\u001b[0m\u001b[0;34m,\u001b[0m \u001b[0mlen\u001b[0m\u001b[0;34m(\u001b[0m\u001b[0ma\u001b[0m\u001b[0;34m)\u001b[0m\u001b[0;34m-\u001b[0m\u001b[0;36m1\u001b[0m\u001b[0;34m,\u001b[0m \u001b[0;36m5\u001b[0m\u001b[0;34m)\u001b[0m \u001b[0;34m==\u001b[0m \u001b[0;36m5\u001b[0m\u001b[0;34m\u001b[0m\u001b[0m\n",
      "\u001b[0;31mAssertionError\u001b[0m: "
     ]
    }
   ],
   "source": [
    "# There is a bug in this code. If n is not a multiple of 5, it may break, either the index error or a worng answer.\n",
    "\n",
    "def kth_smallest(a, left, right, k):\n",
    "    length = right - left + 1\n",
    "    if  length <= 5:\n",
    "        return sorted(a[left:right+1])[k-1]\n",
    "\n",
    "    medians = [kth_smallest(a, left+5*i, left+5*(i+1)-1, 3) for i in range(length//5)]  \n",
    "    pivot_value = kth_smallest(medians, 0, len(medians)-1, len(medians)//2+1)\n",
    "    pivot = partition(a, left, right, pivot_value)\n",
    "\n",
    "    rank = pivot - left + 1\n",
    "    if rank < k:\n",
    "        return kth_smallest(a, pivot+1, right, k - rank)\n",
    "    elif rank > k:\n",
    "        return kth_smallest(a, left, pivot-1, k)\n",
    "    else:\n",
    "        return a[pivot]\n",
    "    \n",
    "def partition(a, left, right, pivot_value):\n",
    "    first_high = left\n",
    "    for i in range(left, right+1):\n",
    "        if a[i] < pivot_value:\n",
    "            a[i], a[first_high] = a[first_high], a[i]\n",
    "            first_high += 1\n",
    "    return first_high\n",
    "\n",
    "a = [2, 9, 3, 4, 1, 7, 8, 5, 6, 10, 11]\n",
    "assert kth_smallest(a, 0, len(a)-1, 1) == 1\n",
    "assert kth_smallest(a, 0, len(a)-1, 2) == 2\n",
    "assert kth_smallest(a, 0, len(a)-1, 3) == 3\n",
    "assert kth_smallest(a, 0, len(a)-1, 4) == 4\n",
    "assert kth_smallest(a, 0, len(a)-1, 5) == 5\n",
    "assert kth_smallest(a, 0, len(a)-1, 6) == 6\n",
    "assert kth_smallest(a, 0, len(a)-1, 7) == 7\n",
    "assert kth_smallest(a, 0, len(a)-1, 8) == 8\n",
    "assert kth_smallest(a, 0, len(a)-1, 9) == 9"
   ]
  },
  {
   "cell_type": "markdown",
   "metadata": {},
   "source": [
    "If there are duplicates in the array, the algorithms above will find k-th smallest in the sorted order. If k is small, a set can be used instead of heap."
   ]
  },
  {
   "cell_type": "code",
   "execution_count": null,
   "metadata": {
    "collapsed": true
   },
   "outputs": [],
   "source": [
    "n = len(nums)\n",
    "\n",
    "cache = set(nums[:3])\n",
    "for k in nums[3:]:\n",
    "    if len(cache) < 3:\n",
    "        cache.add(k)\n",
    "        continue\n",
    "    if k not in cache and k > min(cache):\n",
    "        cache.remove(min(cache))\n",
    "        cache.add(k)\n",
    "return min(cache) if len(cache) == 3 else max(cache)"
   ]
  },
  {
   "cell_type": "code",
   "execution_count": null,
   "metadata": {
    "collapsed": true
   },
   "outputs": [],
   "source": [
    "Given a set of inputs <number, userid> in a log file: log: <number, userid> example: 1,2 1,1 2,1 3,1 1,2 out: <number, count> 1,2 2,1 3,1 The output should be all the unique numbers and the count associated with them."
   ]
  },
  {
   "cell_type": "code",
   "execution_count": null,
   "metadata": {
    "collapsed": true
   },
   "outputs": [],
   "source": [
    "There is two dimensional array where each sub array (row) is sorted, i.e. [[1 1000 2000] [20 10001 5000] [55 10002 222222]] Find a minimum range contain a number from each row. For above array it should be (1000-1002) range."
   ]
  },
  {
   "cell_type": "markdown",
   "metadata": {},
   "source": [
    "### Serialize and deserialize a BST\n",
    "Serialization of a BST is just to store keys in pre-order.\n",
    "\n",
    "Deserialization is similar to check_bst.\n",
    "\n",
    "O(n)"
   ]
  },
  {
   "cell_type": "code",
   "execution_count": 2,
   "metadata": {
    "collapsed": true
   },
   "outputs": [],
   "source": [
    "class Tree(object):\n",
    "    def __init__(self, data):\n",
    "        self.data = data\n",
    "        self.left = None\n",
    "        self.right = None\n",
    "        self.parent = None\n",
    "\n",
    "    def __str__(self):\n",
    "        return str(self.data)\n",
    "\n",
    "def preorder_print(tree):\n",
    "    if tree:\n",
    "        print tree,\n",
    "        preorder_print(tree.left)\n",
    "        preorder_print(tree.right)"
   ]
  },
  {
   "cell_type": "code",
   "execution_count": 4,
   "metadata": {
    "collapsed": false
   },
   "outputs": [
    {
     "name": "stdout",
     "output_type": "stream",
     "text": [
      "10 5 1 7 50 50\n"
     ]
    }
   ],
   "source": [
    "import sys\n",
    "\n",
    "def deserialize(a, lb, ub):\n",
    "    global index\n",
    "    if index >= len(a):\n",
    "        return\n",
    "    tree = None\n",
    "    key = a[index]\n",
    "    if lb <= key <= ub: # The equal signs will allow duplicates in the tree.\n",
    "        tree = Tree(key)\n",
    "        index += 1\n",
    "        tree.left = deserialize(a, lb, key)\n",
    "        tree.right= deserialize(a, key, ub)\n",
    "    return tree\n",
    "\n",
    "global index\n",
    "a = [10, 5, 1, 7, 50, 50]\n",
    "index = 0\n",
    "lb = -sys.maxint - 1\n",
    "ub = sys.maxint\n",
    "tree = deserialize(a, lb, ub)\n",
    "preorder_print(tree)"
   ]
  },
  {
   "cell_type": "code",
   "execution_count": 5,
   "metadata": {
    "collapsed": false
   },
   "outputs": [],
   "source": [
    "def serialize(tree, data):\n",
    "    if tree:\n",
    "        data.append(tree.data)\n",
    "        serialize(tree.left, data)\n",
    "        serialize(tree.right, data)\n",
    "\n",
    "data = []\n",
    "serialize(tree, data)\n",
    "assert data == a"
   ]
  },
  {
   "cell_type": "markdown",
   "metadata": {},
   "source": [
    "### Serialize and deserialize a complete binary tree\n",
    "Imagine a binary heap. O(n)"
   ]
  },
  {
   "cell_type": "code",
   "execution_count": 20,
   "metadata": {
    "collapsed": false
   },
   "outputs": [
    {
     "name": "stdout",
     "output_type": "stream",
     "text": [
      "1 2 3 4 5\n"
     ]
    }
   ],
   "source": [
    "def deserialize(data, index):\n",
    "    if not data:\n",
    "        return\n",
    "    if index >= len(data):\n",
    "        return\n",
    "    tree = Tree(data[index])\n",
    "    tree.left = deserialize(data, 2*index+1)\n",
    "    tree.right = deserialize(data, 2*index+2)\n",
    "    return tree\n",
    "\n",
    "data = [1, 2, 5, 3, 4]\n",
    "tree = deserialize(data, 0)\n",
    "preorder_print(tree)"
   ]
  },
  {
   "cell_type": "code",
   "execution_count": 22,
   "metadata": {
    "collapsed": true
   },
   "outputs": [],
   "source": [
    "def serialize(tree, data, index):\n",
    "    if tree:\n",
    "        data[index] = tree.data\n",
    "        serialize(tree.left, data, 2*index+1)\n",
    "        serialize(tree.right, data, 2*index+2)\n",
    "\n",
    "num_nodes = 5\n",
    "data = num_nodes*[None]\n",
    "serialize(tree, data, 0)\n",
    "assert data == [1, 2, 5, 3, 4]"
   ]
  },
  {
   "cell_type": "markdown",
   "metadata": {},
   "source": [
    "The recursive serialization above requires the number of nodes in the tree. The iterative implementation below doesn't but uses some extra memory for a queue. It is basically the level-order print of a binary tree."
   ]
  },
  {
   "cell_type": "code",
   "execution_count": 24,
   "metadata": {
    "collapsed": false
   },
   "outputs": [],
   "source": [
    "from collections import deque\n",
    "\n",
    "def serialize(tree, data):\n",
    "    if not tree:\n",
    "        return\n",
    "    queue = deque()\n",
    "    queue.append(tree)\n",
    "    while queue:\n",
    "        count = len(queue)\n",
    "        while count:\n",
    "            tree = queue.popleft()\n",
    "            data.append(tree.data)\n",
    "            if tree.left:\n",
    "                queue.append(tree.left)\n",
    "            if tree.right:\n",
    "                queue.append(tree.right)\n",
    "            count -= 1\n",
    "\n",
    "data = []\n",
    "serialize(tree, data)\n",
    "assert data == [1, 2, 5, 3, 4]"
   ]
  },
  {
   "cell_type": "markdown",
   "metadata": {},
   "source": [
    "### Serialize and deserialize a binary tree\n",
    "Fill the null node with a special character, e.g., '/'. O(n) time"
   ]
  },
  {
   "cell_type": "code",
   "execution_count": 28,
   "metadata": {
    "collapsed": false
   },
   "outputs": [
    {
     "name": "stdout",
     "output_type": "stream",
     "text": [
      "A B D E G C F\n"
     ]
    }
   ],
   "source": [
    "def deserialize(data):\n",
    "    global index\n",
    "    if index >= len(data):\n",
    "        return\n",
    "    key = data[index]\n",
    "    index += 1\n",
    "    if key == '/':\n",
    "        return\n",
    "    tree = Tree(key)\n",
    "    tree.left = deserialize(data)\n",
    "    tree.right = deserialize(data)\n",
    "    return tree\n",
    "\n",
    "data = 'ABD//EG///C/F//' # I think I can remove the trailing slashes without making it ambiguous.\n",
    "index = 0\n",
    "tree = deserialize(data)\n",
    "preorder_print(tree)"
   ]
  },
  {
   "cell_type": "code",
   "execution_count": 32,
   "metadata": {
    "collapsed": false
   },
   "outputs": [],
   "source": [
    "def serialize_util(tree, data):\n",
    "    if tree:\n",
    "        data.append(tree.data)\n",
    "        serialize_util(tree.left, data)\n",
    "        serialize_util(tree.right, data)\n",
    "    else:\n",
    "        data.append('/')\n",
    "\n",
    "def serialize(tree, data):\n",
    "    data = []\n",
    "    serialize_util(tree, data)\n",
    "    return ''.join(data)\n",
    "\n",
    "assert serialize(tree, data) == 'ABD//EG///C/F//'"
   ]
  },
  {
   "cell_type": "markdown",
   "metadata": {},
   "source": [
    "### Serialize and deserialize an n-ary tree\n",
    "Mark the end of a branch with ). See https://www.cs.usfca.edu/~brooks/S04classes/cs245/lectures/lecture11.pdf.\n",
    "\n",
    "This tree `'ABE)FK)))C)DG)H)I)J)))'` can be read as below:\n",
    "\n",
    "```ABE,End of E, FK, End of K, End of F, C, End of C, DG, End of G, ..., J, End of J, End of D, End of A```\n",
    "\n",
    "Serialization: DFS recursively (DFS is basically the pre-order traversal. In process_vertex_eary(), append the input tree. In process_vertex_late(), mark the tree processed.\n",
    "\n",
    "Deserialization: Pre-order traversal."
   ]
  },
  {
   "cell_type": "code",
   "execution_count": 51,
   "metadata": {
    "collapsed": false
   },
   "outputs": [
    {
     "name": "stdout",
     "output_type": "stream",
     "text": [
      "A B E F K C D G H I J\n"
     ]
    }
   ],
   "source": [
    "class Tree(object):\n",
    "    def __init__(self, data):\n",
    "        self.data = data\n",
    "        self.children = []\n",
    "\n",
    "    def __str__(self):\n",
    "        return str(self.data)\n",
    "\n",
    "def preorder_print(tree):\n",
    "    if tree:\n",
    "        print tree,\n",
    "        for child in tree.children:\n",
    "            preorder_print(child)\n",
    "\n",
    "def deserialize(data):\n",
    "    global index\n",
    "    if index >= len(data):\n",
    "        return\n",
    "    if data[index] == ')':\n",
    "        index += 1\n",
    "        return\n",
    "    tree = Tree(data[index])\n",
    "    index += 1\n",
    "    child = deserialize(data)\n",
    "    while child:\n",
    "        tree.children.append(child)\n",
    "        child = deserialize(data)\n",
    "    return tree\n",
    "\n",
    "data = 'ABE)FK)))C)DG)H)I)J)))'\n",
    "index = 0\n",
    "tree = deserialize(data)\n",
    "preorder_print(tree)"
   ]
  },
  {
   "cell_type": "code",
   "execution_count": 55,
   "metadata": {
    "collapsed": false
   },
   "outputs": [],
   "source": [
    "def serialize_util(tree, data):\n",
    "    if tree:\n",
    "        data.append(tree.data)\n",
    "        for child in tree.children:\n",
    "            serialize_util(child, data)\n",
    "        data.append(')')\n",
    "    \n",
    "def serialize(tree):\n",
    "    data = []\n",
    "    serialize_util(tree, data)\n",
    "    return ''.join(data)\n",
    "    \n",
    "assert serialize(tree) == 'ABE)FK)))C)DG)H)I)J)))'"
   ]
  },
  {
   "cell_type": "markdown",
   "metadata": {},
   "source": [
    "### Swap k-th and (n-k)-th nodes in a linked list\n",
    "Clarify if it's allowed to swap just data in those nodes. Otherwise, have to manipulate their pointers.\n",
    "\n",
    "Consider all possible cases:\n",
    "- k < n - k\n",
    "- k > n - k\n",
    "- k = n - k\n",
    "- k and (n-k) are right next to each other.\n",
    "- Either of k or (n-k) is eithr head or tail."
   ]
  },
  {
   "cell_type": "markdown",
   "metadata": {
    "collapsed": true
   },
   "source": [
    "### A 2D matrix is sorted horizontally and vetically. Find an element.\n",
    "Find the row that contains the element using a variant of binary search. The terminating condition is when\n",
    "\n",
    "```m[mid][0] <= x <= m[mid][-1]```\n",
    "\n",
    "rather than\n",
    "\n",
    "```m[mid] == x```\n",
    "\n",
    "in the 1D array case.\n",
    "\n",
    "FInd the column that contains the element in the row using binary search."
   ]
  },
  {
   "cell_type": "code",
   "execution_count": 2,
   "metadata": {
    "collapsed": true
   },
   "outputs": [],
   "source": [
    "def binary_search(a, x, low, high):\n",
    "    if low > high:\n",
    "        return None\n",
    "    mid = (low + high)//2\n",
    "    if a[mid] == x:\n",
    "        return mid\n",
    "    if a[mid] > x:\n",
    "        return binary_search(a, x, low, mid-1)\n",
    "    else:\n",
    "        return binary_search(a, x, mid+1, high)\n",
    "    \n",
    "a = [1, 2, 3, 5, 8, 9]\n",
    "x = 3\n",
    "n = len(a)\n",
    "assert binary_search(a, x, 0, n-1) == 2"
   ]
  },
  {
   "cell_type": "code",
   "execution_count": 19,
   "metadata": {
    "collapsed": false
   },
   "outputs": [],
   "source": [
    "def find_row(a, x, low, high):\n",
    "    if low > high:\n",
    "        return None\n",
    "    mid = (low + high)//2\n",
    "    if a[mid][0] <= x <= a[mid][-1]:\n",
    "        return mid\n",
    "    if a[mid][0] > x:\n",
    "        return find_row(a, x, low, mid-1)\n",
    "    else:\n",
    "        return find_row(a, x, mid+1, high)\n",
    "    \n",
    "a = [[1, 2, 3], [5, 8, 9], [12, 15, 20]]\n",
    "x = 15\n",
    "m = len(a)\n",
    "assert find_row(a, x, 0, m-1) == 2"
   ]
  },
  {
   "cell_type": "code",
   "execution_count": 21,
   "metadata": {
    "collapsed": false
   },
   "outputs": [],
   "source": [
    "def find_col(a, x, low, high, row):\n",
    "    if low > high:\n",
    "        return None\n",
    "    mid = (low + high)//2\n",
    "    if a[row][mid] == x:\n",
    "        return mid\n",
    "    if a[row][mid] > x:\n",
    "        return find_col(a, x, low, mid-1, row)\n",
    "    else:\n",
    "        return find_col(a, x, mid+1, high, row)\n",
    "    \n",
    "a = [[1, 2, 3], [5, 8, 9], [12, 15, 20]]\n",
    "x = 15\n",
    "n = len(a[0])\n",
    "row = 2\n",
    "assert find_col(a, x, 0, n-1, row) == 1"
   ]
  },
  {
   "cell_type": "code",
   "execution_count": 25,
   "metadata": {
    "collapsed": false
   },
   "outputs": [],
   "source": [
    "def search_2dmatrix(a, x):\n",
    "    m = len(a)\n",
    "    n = len(a[0])\n",
    "    row = find_row(a, x, 0, m-1)\n",
    "    col = find_col(a, x, 0, n-1, row)\n",
    "    return row, col\n",
    "\n",
    "a = [[1, 2, 3], [5, 8, 9], [12, 15, 20]]\n",
    "x = 15\n",
    "assert search_2dmatrix(a, x) == (2, 1)"
   ]
  },
  {
   "cell_type": "markdown",
   "metadata": {},
   "source": [
    "### Among a list of points in the 2D coordinate system, find the maximum number of points on a line\n",
    "\n",
    "Among the points on a line, (y2 - y1)/(x2 - x1) is constant. Keep the counts in a hash table. The key should not be slopes due to the precision issue, e.g., 1/4 may not be equal to 2/8 in floating-point numbers. Use the tuple of the nominator and the denominator after reducing the pair with gcd, i.e.,\n",
    "\n",
    "```((x2-x1), (y2-y1))```\n"
   ]
  },
  {
   "cell_type": "markdown",
   "metadata": {},
   "source": [
    "### Given a linked list, remove the nth node from the end of list and return its head.\n",
    "\n",
    "For example,\n",
    "\n",
    "   Given linked list: 1->2->3->4->5, and n = 2.\n",
    "\n",
    "   After removing the second node from the end, the linked list becomes 1->2->3->5.\n",
    "Note:\n",
    "Given n will always be valid.\n",
    "Try to do this in one pass.\n",
    "\n",
    "As you traverse the list, store each element to a hash table. The keys are the distance from the head."
   ]
  },
  {
   "cell_type": "markdown",
   "metadata": {},
   "source": [
    "### Build a maximum binary tree\n",
    "Given an integer array with no duplicates. A maximum tree building on this array is defined as follow:\n",
    "\n",
    "The root is the maximum number in the array.\n",
    "\n",
    "The left subtree is the maximum tree constructed from left part subarray divided by the maximum number.\n",
    "\n",
    "The right subtree is the maximum tree constructed from right part subarray divided by the maximum number."
   ]
  },
  {
   "cell_type": "code",
   "execution_count": 14,
   "metadata": {
    "collapsed": false
   },
   "outputs": [
    {
     "name": "stdout",
     "output_type": "stream",
     "text": [
      "6\n",
      "3 5\n",
      "2 0\n",
      "1\n"
     ]
    }
   ],
   "source": [
    "class Tree(object):\n",
    "    def __init__(self, data):\n",
    "        self.left = None\n",
    "        self.right = None\n",
    "        self.data = data\n",
    "        \n",
    "    def __str__(self):\n",
    "        return str(self.data)\n",
    "\n",
    "def build_max_binary_tree(a, low, high):\n",
    "    if low <= high:\n",
    "        max_value = max(a[low:high+1])\n",
    "        max_index = a.index(max_value)\n",
    "        tree = Tree(max_value)\n",
    "        tree.left = build_max_binary_tree(a, low, max_index-1)\n",
    "        tree.right = build_max_binary_tree(a, max_index+1, high)\n",
    "        return tree\n",
    "    \n",
    "a = [3,2,1,6,0,5]\n",
    "root = build_max_binary_tree(a, 0, len(a)-1)\n",
    "level_order_print(root)"
   ]
  },
  {
   "cell_type": "markdown",
   "metadata": {},
   "source": [
    "### Find leaves of binary trees"
   ]
  },
  {
   "cell_type": "code",
   "execution_count": 19,
   "metadata": {
    "collapsed": false
   },
   "outputs": [],
   "source": [
    "def find_leaves(tree, leaves):\n",
    "    if not tree:\n",
    "        return\n",
    "    if not tree.left and not tree.right:\n",
    "        leaves.append(tree.data)\n",
    "    find_leaves(tree.left, leaves)\n",
    "    find_leaves(tree.right, leaves)\n",
    "\n",
    "leaves = []\n",
    "find_leaves(root, leaves)\n",
    "assert sorted(leaves) == [0, 1]"
   ]
  },
  {
   "cell_type": "markdown",
   "metadata": {},
   "source": [
    "### Find duplicates from an array of integers. The integers can be between 1 and len(array) inclusively.\n",
    "The range is the hint. Each element can be use as an index."
   ]
  },
  {
   "cell_type": "code",
   "execution_count": 21,
   "metadata": {
    "collapsed": false
   },
   "outputs": [
    {
     "name": "stdout",
     "output_type": "stream",
     "text": [
      "2\n",
      "3\n"
     ]
    }
   ],
   "source": [
    "def find_duplicaes(a):\n",
    "    for x in a:\n",
    "        i = abs(x) - 1\n",
    "        if a[i] < 0:\n",
    "            print abs(x)\n",
    "        else:\n",
    "            a[i] *= -1\n",
    "        \n",
    "a = [4,3,2,7,8,2,3,1]\n",
    "find_duplicaes(a)"
   ]
  },
  {
   "cell_type": "markdown",
   "metadata": {},
   "source": [
    "### 513. Find Bottom Left Tree Value\n",
    "BFS but add children to the queue from the right to the left. The bottom left node is the one that is added to the queue the last."
   ]
  },
  {
   "cell_type": "code",
   "execution_count": 29,
   "metadata": {
    "collapsed": false
   },
   "outputs": [
    {
     "name": "stdout",
     "output_type": "stream",
     "text": [
      "1\n"
     ]
    }
   ],
   "source": [
    "def bottom_left_node(tree):\n",
    "    queue = []\n",
    "    queue.append(tree)\n",
    "    while queue:\n",
    "        tree = queue.pop(0)\n",
    "        for child in [node for node in (tree.right, tree.left) if node]:\n",
    "            queue.append(child)\n",
    "    return child\n",
    "\n",
    "print bottom_left_node(root)"
   ]
  },
  {
   "cell_type": "markdown",
   "metadata": {},
   "source": [
    "### 515. Find Largest Value in Each Tree Row\n",
    "Similar to levelwise printing of a tree"
   ]
  },
  {
   "cell_type": "code",
   "execution_count": 30,
   "metadata": {
    "collapsed": false
   },
   "outputs": [
    {
     "name": "stdout",
     "output_type": "stream",
     "text": [
      "6\n",
      "5\n",
      "2\n",
      "1\n"
     ]
    }
   ],
   "source": [
    "def level_max(tree):\n",
    "    queue = [tree]\n",
    "    while queue:\n",
    "        max_value = max([node.data for node in queue])\n",
    "        print max_value\n",
    "        count = len(queue)\n",
    "        while count:\n",
    "            tree = queue.pop(0)\n",
    "            for child in [node for node in (tree.left, tree.right) if node]:\n",
    "                queue.append(child)\n",
    "            count -= 1\n",
    "level_max(root)"
   ]
  },
  {
   "cell_type": "markdown",
   "metadata": {},
   "source": [
    "### Sums of subtrees"
   ]
  },
  {
   "cell_type": "code",
   "execution_count": 36,
   "metadata": {
    "collapsed": false
   },
   "outputs": [
    {
     "name": "stdout",
     "output_type": "stream",
     "text": [
      "defaultdict(<function <lambda> at 0x7ff2f874b938>, {2: 2, -5: 1})\n",
      "defaultdict(<function <lambda> at 0x7ff2f8616668>, {2: 1, 4: 1, -3: 1})\n"
     ]
    }
   ],
   "source": [
    "from collections import defaultdict\n",
    "\n",
    "def subtree_sum(tree, counts):\n",
    "    if not tree:\n",
    "        return 0\n",
    "    sum_ = tree.data + subtree_sum(tree.left, counts) + subtree_sum(tree.right, counts)\n",
    "    counts[sum_] += 1\n",
    "    return sum_\n",
    "\n",
    "counts = defaultdict(lambda: 0)\n",
    "tree = Tree(5)\n",
    "tree.left = Tree(2)\n",
    "tree.right = Tree(-5)\n",
    "subtree_sum(tree, counts)\n",
    "print counts\n",
    "\n",
    "counts = defaultdict(lambda: 0)\n",
    "tree = Tree(5)\n",
    "tree.left = Tree(2)\n",
    "tree.right = Tree(-3)\n",
    "subtree_sum(tree, counts)\n",
    "print counts"
   ]
  },
  {
   "cell_type": "markdown",
   "metadata": {},
   "source": [
    "### Number of islands in 2D grid\n",
    "\n",
    "bfs variant"
   ]
  },
  {
   "cell_type": "code",
   "execution_count": 8,
   "metadata": {
    "collapsed": false
   },
   "outputs": [
    {
     "name": "stdout",
     "output_type": "stream",
     "text": [
      "(0, 0)\n"
     ]
    },
    {
     "data": {
      "text/plain": [
       "1"
      ]
     },
     "execution_count": 8,
     "metadata": {},
     "output_type": "execute_result"
    }
   ],
   "source": [
    "from collections import defaultdict\n",
    "\n",
    "discovered = defaultdict(lambda: False)\n",
    "\n",
    "class Solution(object):\n",
    "    def numIslands(self, grid):\n",
    "        \"\"\"\n",
    "        :type grid: List[List[str]]\n",
    "        :rtype: int\n",
    "        \"\"\"\n",
    "        if not grid:\n",
    "            return 0\n",
    "        n_rows = len(grid)\n",
    "        n_cols = len(grid[0])\n",
    "        count = 0\n",
    "        for i in range(n_rows):\n",
    "            for j in range(n_cols):\n",
    "                if not discovered[(i, j)] and int(grid[i][j]):\n",
    "                    bfs(grid, (i, j))\n",
    "                    count += 1\n",
    "        return count\n",
    "\n",
    "def bfs(grid, start):\n",
    "    print start\n",
    "    discovered[start] = True\n",
    "    queue = [start]\n",
    "    while queue:\n",
    "        u = queue.pop(0)\n",
    "        i, j = u\n",
    "        for v in [(x, y) for (x, y) in [(i-1, j), (i+1, j), (i, j-1), (i, j+1)] if x >=0 and x < len(grid) and y >= 0 and y < len(grid[0])]:\n",
    "            iv, jv = v\n",
    "            if not discovered[v] and int(grid[iv][jv]):\n",
    "                discovered[v] = True\n",
    "                queue.append(v)\n",
    "                \n",
    "solution = Solution()\n",
    "# grid = [\"11000\",\"11000\",\"00100\",\"00011\"]\n",
    "# solution.numIslands(grid)\n",
    "grid = [\"11110\",\"11010\",\"11000\",\"00000\"]\n",
    "solution.numIslands(grid)"
   ]
  },
  {
   "cell_type": "markdown",
   "metadata": {},
   "source": [
    "### Two sum in a binary tree"
   ]
  },
  {
   "cell_type": "code",
   "execution_count": 29,
   "metadata": {
    "collapsed": false
   },
   "outputs": [
    {
     "data": {
      "text/plain": [
       "True"
      ]
     },
     "execution_count": 29,
     "metadata": {},
     "output_type": "execute_result"
    }
   ],
   "source": [
    "class Solution(object):\n",
    "    def findTarget(self, root, k):\n",
    "        \"\"\"\n",
    "        :type root: TreeNode\n",
    "        :type k: int\n",
    "        :rtype: bool\n",
    "        \"\"\"\n",
    "        cache = set()\n",
    "        def findTargetUtil(tree, k):\n",
    "            if not tree:\n",
    "                return False\n",
    "            if tree.val in cache:\n",
    "                return True\n",
    "            complement = k - tree.val\n",
    "            if not complement == tree.val:\n",
    "                cache.add(complement)\n",
    "            if findTargetUtil(tree.left, k):\n",
    "                return True\n",
    "            if findTargetUtil(tree.right, k):\n",
    "                return True\n",
    "            return False\n",
    "        \n",
    "        return findTargetUtil(root, k)\n",
    "\n",
    "def search(tree, x):\n",
    "    if not tree:\n",
    "        return False\n",
    "    if tree.val == x:\n",
    "        return True\n",
    "    if tree.val > x:\n",
    "        return search(tree.left, x)\n",
    "    else:\n",
    "        return search(tree.right, x)\n",
    "\n",
    "class Tree(object):\n",
    "    def __init__(self, val):\n",
    "        self.val = val\n",
    "        self.left = None\n",
    "        self.right = None\n",
    "\n",
    "tree = Tree(2)\n",
    "tree.left = Tree(1)\n",
    "tree.right = Tree(3)\n",
    "\n",
    "assert search(tree, 1) == True\n",
    "assert search(tree, 2) == True\n",
    "assert search(tree, 3) == True\n",
    "assert search(tree, 4) == False\n",
    "\n",
    "sol = Solution()\n",
    "sol.findTarget(tree, 4)"
   ]
  },
  {
   "cell_type": "markdown",
   "metadata": {},
   "source": [
    "### Find the first bad version in a list of versions 1...n.\n",
    "\n",
    "Binary search. But be careful that output is not the index of index but the actual version number, i.e., index + 1."
   ]
  },
  {
   "cell_type": "code",
   "execution_count": 38,
   "metadata": {
    "collapsed": false
   },
   "outputs": [
    {
     "data": {
      "text/plain": [
       "2"
      ]
     },
     "execution_count": 38,
     "metadata": {},
     "output_type": "execute_result"
    }
   ],
   "source": [
    "cache = {}\n",
    "def binary_search(low, high):\n",
    "    if low < high:\n",
    "        mid = (low + high) // 2 + 1\n",
    "        if not mid in cache:\n",
    "            cache[mid] = isBadVersion(mid)\n",
    "        if not mid-1 in cache:\n",
    "            cache[mid-1] = isBadVersion(mid-1)\n",
    "        if not cache[mid-1] and cache[mid]:\n",
    "            return mid\n",
    "        if cache[mid]:\n",
    "            return binary_search(low, mid-1)\n",
    "        else:\n",
    "            return binary_search(mid+1, high)\n",
    "    else:\n",
    "        return low\n",
    "\n",
    "badVersions = [False, True, True]\n",
    "def isBadVersion(k):\n",
    "    return badVersions[k-1]\n",
    "binary_search(1, 2)"
   ]
  },
  {
   "cell_type": "code",
   "execution_count": 42,
   "metadata": {
    "collapsed": false
   },
   "outputs": [],
   "source": [
    "class SparseMatrix(object):\n",
    "    def __init__(self, m):\n",
    "        self.data = {}\n",
    "        if not m:\n",
    "            return\n",
    "        if type(m) == list:\n",
    "            for i in range(len(m)):\n",
    "                if type(m[0]) == list:\n",
    "                    for j in range(len(m[0])):\n",
    "                        if m[i][j]:\n",
    "                            self.data[(i, j)] = m[i][j]\n",
    "                else:\n",
    "                    self.data[(i, 0)] = m[i]\n",
    "        else:\n",
    "            self.data[(0, 0)] = m\n",
    "\n",
    "def init_matrix(n_rows, n_cols):\n",
    "    return [[0 for j in range(n_cols)] for i in range(n_rows)]\n",
    "\n",
    "class Solution(object):\n",
    "    def multiply(self, A, B):\n",
    "        \"\"\"\n",
    "        :type A: List[List[int]]\n",
    "        :type B: List[List[int]]\n",
    "        :rtype: List[List[int]]\n",
    "        \"\"\"\n",
    "        # (1, 1) = (1, :)(:, 1)\n",
    "        # (1, 2) = (1, :)(:, 2)\n",
    "        \n",
    "        # Special cases\n",
    "        # The input matrices are vectors.\n",
    "        \n",
    "        n_rows_A = len(A)\n",
    "        n_cols_A = len(A[0])\n",
    "        n_rows_B = len(B)\n",
    "        n_cols_B = len(B[0])\n",
    "        A = SparseMatrix(A)\n",
    "        B = SparseMatrix(B)\n",
    "        C = SparseMatrix(None)\n",
    "        n_rows = n_rows_A\n",
    "        n_cols = n_cols_B\n",
    "        for i in sorted([i for (i, _)  in A.data.keys()]):\n",
    "            for j in sorted([j for (_, j) in B.data.keys()]):\n",
    "                sum_ = 0\n",
    "                for j_inner in range(n_cols_A):\n",
    "                    if (i, j_inner) in A.data and (j_inner, j) in B.data:\n",
    "                        sum_ += A.data[(i, j_inner)]*B.data[(j_inner, j)]\n",
    "                C.data[(i, j)] = sum_\n",
    "        result = init_matrix(n_rows, n_cols)        \n",
    "        for (i, j), v in C.data.iteritems():\n",
    "            result[i][j] = v\n",
    "        return result\n",
    "\n",
    "A = [[1,0,0],[-1,0,3]]\n",
    "B = [[7,0,0],[0,0,0],[0,0,1]]\n",
    "sol = Solution()\n",
    "assert sol.multiply(A, B) == [[7, 0, 0], [-7, 0, 3]]"
   ]
  },
  {
   "cell_type": "code",
   "execution_count": 10,
   "metadata": {
    "collapsed": false
   },
   "outputs": [
    {
     "data": {
      "text/plain": [
       "1"
      ]
     },
     "execution_count": 10,
     "metadata": {},
     "output_type": "execute_result"
    }
   ],
   "source": [
    "class Solution(object):\n",
    "    def diameterOfBinaryTree(self, root):\n",
    "        \"\"\"\n",
    "        :type root: TreeNode\n",
    "        :rtype: int\n",
    "        \"\"\"\n",
    "        # graph with single node\n",
    "        # linear graph\n",
    "        if not root:\n",
    "            return 0\n",
    "        self.max_diameter = 0\n",
    "        def height(tree):\n",
    "            if not tree:\n",
    "                return -1\n",
    "\n",
    "            h1 = max(0, height(tree.left))\n",
    "            h2 = max(0, height(tree.right))\n",
    "            n_children = h1 > 0 + h2 > 0\n",
    "            self.max_diameter =  max(self.max_diameter, h1 + h2 + n_children)\n",
    "            return max(h1, h2) + 1\n",
    "        height(root)\n",
    "        return self.max_diameter\n",
    "\n",
    "class Tree(object):\n",
    "    left = None\n",
    "    right = None\n",
    "\n",
    "tree = Tree()\n",
    "tree.left = Tree()\n",
    "\n",
    "sol = Solution()\n",
    "sol.diameterOfBinaryTree(tree)"
   ]
  },
  {
   "cell_type": "markdown",
   "metadata": {},
   "source": [
    "### Check if a linked list is a palindrome\n",
    "\n",
    "Find a median. While doing so revers the first half. Progress the reversed first half and the second half to compare each node. While doing so reverse the first half back to the original order."
   ]
  },
  {
   "cell_type": "code",
   "execution_count": 29,
   "metadata": {
    "collapsed": false
   },
   "outputs": [
    {
     "data": {
      "text/plain": [
       "True"
      ]
     },
     "execution_count": 29,
     "metadata": {},
     "output_type": "execute_result"
    }
   ],
   "source": [
    "class Solution(object):\n",
    "    def isPalindrome(self, head):\n",
    "        \"\"\"\n",
    "        :type head: ListNode\n",
    "        :rtype: bool\n",
    "        \"\"\"\n",
    "        # single node\n",
    "        # two nodes\n",
    "        # odd no. of nodes\n",
    "        # even no. nodes\n",
    "        \n",
    "        # Reverse a linked list\n",
    "        #\n",
    "        # l = head\n",
    "        # while l:\n",
    "        #     next_ = l.next\n",
    "        #     l.next = prev\n",
    "        #     prev = l\n",
    "        #     l = next_\n",
    "\n",
    "        # a\n",
    "        # a a\n",
    "        # a b a\n",
    "        # a b c\n",
    "        # a b b a\n",
    "        # a b b c\n",
    "        \n",
    "        if not head:\n",
    "            return True\n",
    "\n",
    "        if not head.next:\n",
    "            return True\n",
    "\n",
    "        isPalindrome = True\n",
    "        slow = head\n",
    "        fast = head\n",
    "        prev = None\n",
    "        while slow and fast and fast.next:\n",
    "            fast = fast.next.next\n",
    "            next_ = slow.next\n",
    "            slow.next = prev\n",
    "            prev = slow\n",
    "            slow = next_\n",
    "        \n",
    "        l1 = prev\n",
    "        prev = slow\n",
    "        if fast: # Odd no of nodes\n",
    "            l2 = slow.next\n",
    "        else:\n",
    "            l2 = slow\n",
    "        while l1 and l2:\n",
    "            if not l1.val == l2.val:\n",
    "                isPalindrome = False\n",
    "            next_ = l1.next\n",
    "            l1.next = prev\n",
    "            prev = l1\n",
    "            l1 = l1.next\n",
    "            l2 = l2.next\n",
    "            \n",
    "        return isPalindrome\n",
    "    \n",
    "class ListNode(object):\n",
    "    def __init__(self, x):\n",
    "        self.val = x\n",
    "        self.next = None\n",
    "        \n",
    "l = ListNode(1)\n",
    "l.next = ListNode(2)\n",
    "l.next.next = ListNode(2)\n",
    "l.next.next = ListNode(1)\n",
    "sol = Solution()\n",
    "sol.isPalindrome(l)"
   ]
  },
  {
   "cell_type": "markdown",
   "metadata": {},
   "source": [
    "### Level-order serialization\n",
    "\n",
    "Similar to level-order printing.\n",
    "\n",
    "No trailing null's necessary.\n",
    "\n",
    "The deserialization logic should be same as the serialization."
   ]
  },
  {
   "cell_type": "code",
   "execution_count": 1,
   "metadata": {
    "collapsed": false
   },
   "outputs": [
    {
     "data": {
      "text/plain": [
       "'[5,2,3,null,null,2,4,3,1]'"
      ]
     },
     "execution_count": 1,
     "metadata": {},
     "output_type": "execute_result"
    }
   ],
   "source": [
    "# Definition for a binary tree node.\n",
    "class TreeNode(object):\n",
    "    def __init__(self, x):\n",
    "        self.val = x\n",
    "        self.left = None\n",
    "        self.right = None\n",
    "\n",
    "class Codec:\n",
    "\n",
    "    def serialize(self, root):\n",
    "        \"\"\"Encodes a tree to a single string.\n",
    "        \n",
    "        :type root: TreeNode\n",
    "        :rtype: str\n",
    "        \"\"\"\n",
    "        result = []\n",
    "        queue = [root]\n",
    "        while queue:\n",
    "            tree = queue.pop(0)\n",
    "            if tree:\n",
    "                result.append(str(tree.val))\n",
    "                for child in [tree.left, tree.right]:\n",
    "                    queue.append(child)\n",
    "            else:\n",
    "                result.append('null')\n",
    "        for i, item in enumerate(reversed(result)):\n",
    "            if not item == 'null':\n",
    "                break\n",
    "        trailing_null_start = -i\n",
    "        if trailing_null_start:\n",
    "            result = result[:trailing_null_start]\n",
    "        result = '[' + ','.join(result) + ']'\n",
    "        return result\n",
    "        \n",
    "\n",
    "    def deserialize(self, data):\n",
    "        \"\"\"Decodes your encoded data to tree.\n",
    "        \n",
    "        :type data: str\n",
    "        :rtype: TreeNode\n",
    "        \"\"\"\n",
    "        data = data[1:-1].split(',')\n",
    "        return deserialize_util(data, 0)\n",
    "\n",
    "        \n",
    "def deserialize_util(data, index):\n",
    "    if not data:\n",
    "        return\n",
    "    val = data.pop(0)\n",
    "    if val == 'null':\n",
    "        return\n",
    "    root = TreeNode(int(val))\n",
    "    queue = [root]\n",
    "    while data:\n",
    "        tree = queue.pop(0)\n",
    "        if data:\n",
    "            val = data.pop(0)\n",
    "            if not val == 'null':\n",
    "                tree.left = TreeNode(int(val))\n",
    "                queue.append(tree.left)\n",
    "        if data:\n",
    "            val = data.pop(0)\n",
    "            if not val == 'null':\n",
    "                tree.right = TreeNode(int(val))\n",
    "                queue.append(tree.right)\n",
    "    return root\n",
    "        \n",
    "# Your Codec object will be instantiated and called as such:\n",
    "\n",
    "codec = Codec()\n",
    "tree5 = TreeNode(5)\n",
    "tree2 = TreeNode(2)\n",
    "tree3 = TreeNode(3)\n",
    "tree4 = TreeNode(4)\n",
    "tree5.left = tree2\n",
    "tree5.right = tree3\n",
    "tree22 = TreeNode(2)\n",
    "tree3.left = tree22\n",
    "tree44 = TreeNode(4)\n",
    "tree3.right = tree44\n",
    "tree33 = TreeNode(3)\n",
    "tree22.left = tree33\n",
    "tree22.right = TreeNode(1)\n",
    "\n",
    "tree = codec.deserialize(codec.serialize(tree5))\n",
    "codec.serialize(tree)"
   ]
  },
  {
   "cell_type": "markdown",
   "metadata": {},
   "source": [
    "### 238. Product of Array Except Self\n",
    "The alogorithm below won't scale."
   ]
  },
  {
   "cell_type": "code",
   "execution_count": 1,
   "metadata": {
    "collapsed": false
   },
   "outputs": [
    {
     "data": {
      "text/plain": [
       "[-51438240,\n",
       " -28576800,\n",
       " -128595600,\n",
       " 28576800,\n",
       " 28576800,\n",
       " 36741600,\n",
       " 32148900,\n",
       " -36741600,\n",
       " 28576800,\n",
       " -25719120]"
      ]
     },
     "execution_count": 1,
     "metadata": {},
     "output_type": "execute_result"
    }
   ],
   "source": [
    "class Solution(object):\n",
    "    def productExceptSelf(self, nums):\n",
    "        \"\"\"\n",
    "        :type nums: List[int]\n",
    "        :rtype: List[int]\n",
    "        \"\"\"\n",
    "        \n",
    "        # 1 0 2\n",
    "        # 0 1 2\n",
    "        # 0 0 2\n",
    "        # 1 -1\n",
    "        # -1 -1\n",
    "        # 1 -1 -1\n",
    "        \n",
    "        zero_count = 0\n",
    "        prod = 1\n",
    "        n = len(nums)\n",
    "        for i, x in enumerate(nums):\n",
    "            if x == 0:\n",
    "                zero_count += 1\n",
    "                zero_index = i\n",
    "                continue\n",
    "            prod *= x\n",
    "        \n",
    "        if zero_count == 1:\n",
    "            result =n*[0]\n",
    "            result[zero_index] = prod\n",
    "            return result\n",
    "        elif zero_count > 1:\n",
    "            return n*[0]\n",
    "\n",
    "        result = []\n",
    "        for x in nums:\n",
    "            count = 0\n",
    "            sum_ = 0\n",
    "            while not sum_ == abs(prod):\n",
    "                sum_ += abs(x)\n",
    "                count += 1\n",
    "            result.append(-count if (prod < 0 and x > 0) or (prod > 0 and x < 0) else count)\n",
    "        return result\n",
    "    \n",
    "nums = [5,9,2,-9,-9,-7,-8,7,-9,10]\n",
    "sol = Solution()\n",
    "sol.productExceptSelf(nums)"
   ]
  },
  {
   "cell_type": "code",
   "execution_count": 8,
   "metadata": {
    "collapsed": false
   },
   "outputs": [
    {
     "name": "stdout",
     "output_type": "stream",
     "text": [
      "[1, 0]\n",
      "[1, 1]\n",
      "[1, 1]\n"
     ]
    },
    {
     "data": {
      "text/plain": [
       "[0, 1]"
      ]
     },
     "execution_count": 8,
     "metadata": {},
     "output_type": "execute_result"
    }
   ],
   "source": [
    "class Solution(object):\n",
    "    def productExceptSelf(self, nums):\n",
    "        \"\"\"\n",
    "        :type nums: List[int]\n",
    "        :rtype: List[int]\n",
    "        \"\"\"\n",
    "        \n",
    "        # 1 0 2\n",
    "        # 0 1 2\n",
    "        # 0 0 2\n",
    "        # 1 -1\n",
    "        # -1 -1\n",
    "        # 1 -1 -1\n",
    "        \n",
    "    \n",
    "        n = len(nums)\n",
    "        result = n*[0]\n",
    "        tmp = 1\n",
    "        i = 0\n",
    "        while i < n:\n",
    "            result[i] = tmp\n",
    "            tmp *= nums[i]\n",
    "            print result\n",
    "            i += 1\n",
    "        print result\n",
    "\n",
    "        i = n - 1\n",
    "        tmp = 1\n",
    "        while i >= 0:\n",
    "            result[i] *= tmp\n",
    "            tmp *= nums[i]\n",
    "            i -= 1\n",
    "\n",
    "        return result\n",
    "    \n",
    "# nums = [5,9,2,-9,-9,-7,-8,7,-9,10]\n",
    "nums = [1, 0]\n",
    "sol = Solution()\n",
    "sol.productExceptSelf(nums)"
   ]
  },
  {
   "cell_type": "markdown",
   "metadata": {},
   "source": [
    "### 127. Word Ladder\n",
    "\n",
    "BFS. The words with the distance of one are neighbors. Note that the end word is added to the word list in the beginning and that the number of levels to the endWord is counted."
   ]
  },
  {
   "cell_type": "code",
   "execution_count": 12,
   "metadata": {
    "collapsed": false
   },
   "outputs": [
    {
     "data": {
      "text/plain": [
       "5"
      ]
     },
     "execution_count": 12,
     "metadata": {},
     "output_type": "execute_result"
    }
   ],
   "source": [
    "class Solution(object):\n",
    "    def ladderLength(self, beginWord, endWord, wordList):\n",
    "        \"\"\"\n",
    "        :type beginWord: str\n",
    "        :type endWord: str\n",
    "        :type wordList: List[str]\n",
    "        :rtype: int\n",
    "        \"\"\"\n",
    "        if not wordList:\n",
    "            return 0\n",
    "        queue = [beginWord]\n",
    "        result = [beginWord]\n",
    "        dist = 0\n",
    "        if endWord not in wordList:\n",
    "            wordList.append(endWord)\n",
    "        while queue:\n",
    "            count = len(queue)\n",
    "            u = queue.pop(0)\n",
    "            indices = []\n",
    "            while count:\n",
    "                for i, word in enumerate(wordList):\n",
    "                    if distanceOne(u, word):\n",
    "                        if word == endWord:\n",
    "                            result.append(endWord)\n",
    "                            return dist + 1\n",
    "                        queue.append(word)\n",
    "                        indices.append(i)\n",
    "                count -= 1\n",
    "            dist += 1\n",
    "            wordList = [word for i, word in enumerate(wordList) if i not in indices]\n",
    "        return 0\n",
    "\n",
    "from collections import Counter            \n",
    "\n",
    "def distanceOne(w1, w2):\n",
    "    count = 0\n",
    "    for i, _ in enumerate(w1):\n",
    "        if not w1[i] == w2[i]:\n",
    "            count += 1\n",
    "    return count <= 1\n",
    "\n",
    "wordList = [\"hot\",\"dot\",\"dog\",\"lot\",\"log\",\"cog\"]\n",
    "sol = Solution()\n",
    "sol.ladderLength('hit', 'cog', wordList)"
   ]
  },
  {
   "cell_type": "markdown",
   "metadata": {},
   "source": [
    "### Sparse Matrix Multiplication"
   ]
  },
  {
   "cell_type": "code",
   "execution_count": null,
   "metadata": {
    "collapsed": true
   },
   "outputs": [],
   "source": [
    "class SparseMatrix(object):\n",
    "    def __init__(self, m):\n",
    "        self.data = {}\n",
    "        if not m:\n",
    "            return\n",
    "        if type(m) == list:\n",
    "            for i in range(len(m)):\n",
    "                if type(m[0]) == list:\n",
    "                    for j in range(len(m[0])):\n",
    "                        if m[i][j]:\n",
    "                            self.data[(i, j)] = m[i][j]\n",
    "                else:\n",
    "                    self.data[(i, 0)] = m[i]\n",
    "        else:\n",
    "            self.data[(0, 0)] = m\n",
    "\n",
    "def init_matrix(n_rows, n_cols):\n",
    "    return [[0 for j in range(n_cols)] for i in range(n_rows)]\n",
    "\n",
    "class Solution(object):\n",
    "    def multiply(self, A, B):\n",
    "        \"\"\"\n",
    "        :type A: List[List[int]]\n",
    "        :type B: List[List[int]]\n",
    "        :rtype: List[List[int]]\n",
    "        \"\"\"\n",
    "        # (1, 1) = (1, :)(:, 1)\n",
    "        # (1, 2) = (1, :)(:, 2)\n",
    "        \n",
    "        # Special cases\n",
    "        # The input matrices are vectors.\n",
    "        \n",
    "        n_rows_A = len(A)\n",
    "        n_cols_A = len(A[0])\n",
    "        n_rows_B = len(B)\n",
    "        n_cols_B = len(B[0])\n",
    "        A = SparseMatrix(A)\n",
    "        B = SparseMatrix(B)\n",
    "        C = SparseMatrix(None)\n",
    "        n_rows = n_rows_A\n",
    "        n_cols = n_cols_B\n",
    "        for i in sorted([i for (i, _)  in A.data.keys()]):\n",
    "            for j in sorted([j for (_, j) in B.data.keys()]):\n",
    "                sum_ = 0\n",
    "                for j_inner in range(n_cols_A):\n",
    "                    if (i, j_inner) in A.data and (j_inner, j) in B.data:\n",
    "                        sum_ += A.data[(i, j_inner)]*B.data[(j_inner, j)]\n",
    "                C.data[(i, j)] = sum_\n",
    "        result = init_matrix(n_rows, n_cols)        \n",
    "        for (i, j), v in C.data.iteritems():\n",
    "            result[i][j] = v\n",
    "        return result"
   ]
  },
  {
   "cell_type": "code",
   "execution_count": 14,
   "metadata": {
    "collapsed": false
   },
   "outputs": [
    {
     "name": "stdout",
     "output_type": "stream",
     "text": [
      "[[(0, 1), (1, 2)], [], [(0, 3), (1, 4)]]\n",
      "[[(0, 1), (2, 3)], [(0, 2), (2, 4)]]\n"
     ]
    },
    {
     "data": {
      "text/plain": [
       "[[(0, 5), (2, 11)], [], [(0, 11), (2, 25)]]"
      ]
     },
     "execution_count": 14,
     "metadata": {},
     "output_type": "execute_result"
    }
   ],
   "source": [
    "# A sparse matrix as a sequance of (index, value)\n",
    "# Assume that the sequance is sorted by indices.\n",
    "\n",
    "# max_col can be incorrect if there are trailing zero columns.\n",
    "def transpose(sm):\n",
    "    max_col = 0\n",
    "    for row in sm:\n",
    "        for col, _ in row:\n",
    "            max_col = max(max_col, col)\n",
    "\n",
    "    smt = [[] for i in range(max_col+1)]\n",
    "    for i, row in enumerate(sm):\n",
    "        for col, v in row:\n",
    "            smt[col].append((i, v))\n",
    "    return smt\n",
    "\n",
    "def dot_product(x, y):\n",
    "    sum_ = 0\n",
    "    i, j = 0, 0\n",
    "    while i < len(x) and j < len(y):\n",
    "        index1, value1 = x[i]\n",
    "        index2, value2 = y[j]\n",
    "        if index1 == index2:\n",
    "            sum_ += value1*value2\n",
    "            i += 1\n",
    "            j += 1\n",
    "        elif index1 > index2:\n",
    "            j += 1\n",
    "        else:\n",
    "            i += 1\n",
    "    return sum_\n",
    "\n",
    "def multiply(sm1, sm2):\n",
    "    new_matrix = []\n",
    "    sm2t = transpose(sm2)\n",
    "    for i, row in enumerate(sm1):\n",
    "        new_row = []\n",
    "        if row:\n",
    "            for j, col in enumerate(sm2t):\n",
    "                product = dot_product(row, col)\n",
    "                if product:\n",
    "                    new_row.append((j, product))\n",
    "        new_matrix.append(new_row)\n",
    "    return new_matrix\n",
    "\n",
    "sm = [[(0, 1), (1, 2)],[],[(0, 3), (1, 4)]]\n",
    "smt = transpose(sm)\n",
    "print sm\n",
    "print smt\n",
    "                               \n",
    "multiply(sm, smt)"
   ]
  },
  {
   "cell_type": "markdown",
   "metadata": {},
   "source": [
    "###  Longest pair chain\n",
    "\n",
    "You are given n pairs of numbers. In every pair, the first number is always smaller than the second number.\n",
    "\n",
    "Now, we define a pair (c, d) can follow another pair (a, b) if and only if b < c. Chain of pairs can be formed in this fashion.\n",
    "\n",
    "Given a set of pairs, find the length longest chain which can be formed. You needn't use up all the given pairs. You can select pairs in any order.\n",
    "\n",
    "This is a variation of the longest increasing subsequence problem. Note that the pairs has to be sorted first because, unlike the longest increasing subsequence, pairs can be selected in any order. Sort maybe by the frist element. Not quite sure."
   ]
  },
  {
   "cell_type": "code",
   "execution_count": 12,
   "metadata": {
    "collapsed": false
   },
   "outputs": [
    {
     "data": {
      "text/plain": [
       "2"
      ]
     },
     "execution_count": 12,
     "metadata": {},
     "output_type": "execute_result"
    }
   ],
   "source": [
    "class Solution(object):\n",
    "    def findLongestChain(self, pairs):\n",
    "        \"\"\"\n",
    "        :type pairs: List[List[int]]\n",
    "        :rtype: int\n",
    "        \"\"\"\n",
    "        n = len(pairs)\n",
    "        l = n*[1]\n",
    "        pairs = sorted(pairs, key=lambda (x, y): x)\n",
    "        for i in range(1, n):\n",
    "            max_length = 0\n",
    "            for j in range(i):\n",
    "                if pairs[i][0] > pairs[j][1]:\n",
    "                    max_length = max(max_length, l[j])\n",
    "            l[i] = max_length + 1\n",
    "        return max(l)\n",
    "\n",
    "pairs = [[1,2], [2,3], [3,4]]\n",
    "sol = Solution()\n",
    "sol.findLongestChain(pairs)"
   ]
  },
  {
   "cell_type": "markdown",
   "metadata": {},
   "source": [
    "### Longest palindrome subsequence\n",
    "\n",
    "Does this work?"
   ]
  },
  {
   "cell_type": "code",
   "execution_count": 26,
   "metadata": {
    "collapsed": false
   },
   "outputs": [
    {
     "data": {
      "text/plain": [
       "49"
      ]
     },
     "execution_count": 26,
     "metadata": {},
     "output_type": "execute_result"
    }
   ],
   "source": [
    "class Solution(object):\n",
    "    def longestPalindromeSubseq(self, s):\n",
    "        \"\"\"\n",
    "        :type s: str\n",
    "        :rtype: int\n",
    "        \"\"\"\n",
    "        n = len(s)\n",
    "        if n == 1:\n",
    "            return 1\n",
    "        l = [[0 for i in range(n)] for j in range(n)]\n",
    "        for i in range(n):\n",
    "            l[i][i] = 1\n",
    "        for j in range(n):\n",
    "            for i in range(j):\n",
    "                if s[i] == s[j]:\n",
    "                    l[i][j] = l[i+1][j-1] + 2\n",
    "                else:\n",
    "                    l[i][j] = max(l[i+1][j], l[i][j-1])\n",
    "                    \n",
    "#         print l\n",
    "        return max([l[i][j] for i in range(n) for j in range(n)])\n",
    "    \n",
    "s = \"cbbd\"\n",
    "s = \"euazbipzncptldueeuechubrcourfpftcebikrxhybkymimgvldiwqvkszfycvqyvtiwfckexmowcxztkfyzqovbtmzpxojfofbvwnncajvrvdbvjhcrameamcfmcoxryjukhpljwszknhiypvyskmsujkuggpztltpgoczafmfelahqwjbhxtjmebnymdyxoeodqmvkxittxjnlltmoobsgzdfhismogqfpfhvqnxeuosjqqalvwhsidgiavcatjjgeztrjuoixxxoznklcxolgpuktirmduxdywwlbikaqkqajzbsjvdgjcnbtfksqhquiwnwflkldgdrqrnwmshdpykicozfowmumzeuznolmgjlltypyufpzjpuvucmesnnrwppheizkapovoloneaxpfinaontwtdqsdvzmqlgkdxlbeguackbdkftzbnynmcejtwudocemcfnuzbttcoew\"\n",
    "sol = Solution()\n",
    "sol.longestPalindromeSubseq(s)"
   ]
  },
  {
   "cell_type": "markdown",
   "metadata": {},
   "source": [
    "### Sliding window maximum\n",
    "\n",
    "Given an array nums, there is a sliding window of size k which is moving from the very left of the array to the very right. You can only see the k numbers in the window. Each time the sliding window moves right by one position."
   ]
  },
  {
   "cell_type": "code",
   "execution_count": 34,
   "metadata": {
    "collapsed": false
   },
   "outputs": [
    {
     "data": {
      "text/plain": [
       "[]"
      ]
     },
     "execution_count": 34,
     "metadata": {},
     "output_type": "execute_result"
    }
   ],
   "source": [
    "from collections import deque\n",
    "class Solution(object):\n",
    "    def maxSlidingWindow(self, nums, k):\n",
    "        \"\"\"\n",
    "        :type nums: List[int]\n",
    "        :type k: int\n",
    "        :rtype: List[int]\n",
    "        \"\"\"\n",
    "        dq = deque()\n",
    "        n = len(nums)\n",
    "        result = []\n",
    "        for i in range(n):\n",
    "            # Clean up the leftover from the last window\n",
    "            while dq and dq[0] < (i - k + 1):\n",
    "                dq.popleft()\n",
    "            # Have the current max in the window be at the head of dq.\n",
    "            while dq and nums[i] > nums[dq[-1]]:\n",
    "                dq.pop()\n",
    "            dq.append(i)\n",
    "            # Once reach to the end of the current window, collect the max in the window.\n",
    "            if i - k + 1 >= 0:\n",
    "                result.append(nums[dq[0]])\n",
    "        return result"
   ]
  },
  {
   "cell_type": "markdown",
   "metadata": {
    "collapsed": false
   },
   "source": [
    "### Best time to buy and sell a stock"
   ]
  },
  {
   "cell_type": "code",
   "execution_count": 7,
   "metadata": {
    "collapsed": false
   },
   "outputs": [],
   "source": [
    "import sys\n",
    "\n",
    "def stock_trade(prices):\n",
    "    min_price = sys.maxint\n",
    "    min_price_index = -1\n",
    "    max_profit = -sys.maxint - 1\n",
    "    max_price_index = -1\n",
    "    for i, price in enumerate(prices):\n",
    "        if price < min_price:\n",
    "            min_price = price\n",
    "            min_price_index = i\n",
    "        profit = price - min_price\n",
    "        if profit > max_profit:\n",
    "            max_profit = profit\n",
    "            max_profit_index = i\n",
    "    \n",
    "    if max_profit == 0: # if the trend is monotonically downward\n",
    "        return 0, 0\n",
    "    else:\n",
    "        return min_price_index, max_profit_index\n",
    "\n",
    "prices = [7, 1, 5, 3, 6, 4]\n",
    "assert stock_trade(prices) == (1, 4)\n",
    "\n",
    "prices = [7, 6, 4, 3, 1]\n",
    "assert stock_trade(prices) == (0, 0)"
   ]
  },
  {
   "cell_type": "code",
   "execution_count": 20,
   "metadata": {
    "collapsed": false
   },
   "outputs": [],
   "source": [
    "from collections import defaultdict\n",
    "\n",
    "def word_pattern(s, i, p, j, table):\n",
    "    if i == len(s) and j == len(p):\n",
    "        return True\n",
    "    elif i == len(s) or j == len(p):\n",
    "        return False\n",
    "    \n",
    "    if table[p[j]]:\n",
    "        if s[i:i+len(table[p[j]])] == table[p[j]]:\n",
    "            return word_pattern(s, i+len(table[p[j]]), p, j+1, table)\n",
    "        else:\n",
    "            return False\n",
    "    else:\n",
    "        for k in range(i, len(s)):\n",
    "            table[p[j]] = s[i:k+1]\n",
    "            if word_pattern(s, k+1, p, j+1, table):\n",
    "                return True\n",
    "            table[p[j]] = None # For backtracking\n",
    "        return False\n",
    "\n",
    "s = \"redblueredblue\"\n",
    "p = 'abab'\n",
    "table = defaultdict(lambda: None)\n",
    "assert word_pattern(s, 0, p, 0, table) == True\n",
    "\n",
    "p = \"aaaa\"\n",
    "s = \"asdasdasdasd\"\n",
    "table = defaultdict(lambda: None)\n",
    "assert word_pattern(s, 0, p, 0, table) == True\n",
    "\n",
    "p = \"aabb\"\n",
    "s = \"xyzabcxzyabc\"\n",
    "table = defaultdict(lambda: None)\n",
    "assert word_pattern(s, 0, p, 0, table) == False"
   ]
  },
  {
   "cell_type": "markdown",
   "metadata": {},
   "source": [
    "reusable"
   ]
  },
  {
   "cell_type": "code",
   "execution_count": 3,
   "metadata": {
    "collapsed": false
   },
   "outputs": [
    {
     "data": {
      "text/plain": [
       "[[2, 2, 3], [7]]"
      ]
     },
     "execution_count": 3,
     "metadata": {},
     "output_type": "execute_result"
    }
   ],
   "source": [
    "def backtrack(result, temp_list, nums, remain, start):\n",
    "    if remain < 0:\n",
    "        return\n",
    "    elif remain == 0:\n",
    "        result.append(list(temp_list))\n",
    "    else:\n",
    "        i = start\n",
    "        while i < len(nums) and nums[i] <= target:\n",
    "            temp_list.append(nums[i])\n",
    "            backtrack(result, temp_list, nums, remain - nums[i], i)\n",
    "            temp_list.pop()\n",
    "            i += 1\n",
    "            \n",
    "def combination_sum(nums, target):\n",
    "    nums = sorted(nums)\n",
    "    result = []\n",
    "    temp_list = []\n",
    "    backtrack(result, temp_list, nums, target, 0)\n",
    "    return result\n",
    "\n",
    "nums = [2, 6, 3, 7]\n",
    "target = 7\n",
    "combination_sum(nums, target)"
   ]
  },
  {
   "cell_type": "markdown",
   "metadata": {},
   "source": [
    "not reusable"
   ]
  },
  {
   "cell_type": "code",
   "execution_count": 8,
   "metadata": {
    "collapsed": false
   },
   "outputs": [
    {
     "data": {
      "text/plain": [
       "[[6]]"
      ]
     },
     "execution_count": 8,
     "metadata": {},
     "output_type": "execute_result"
    }
   ],
   "source": [
    "def backtrack(result, temp_list, nums, remain, start):\n",
    "    if remain < 0:\n",
    "        return\n",
    "    elif remain == 0:\n",
    "        result.append(list(temp_list))\n",
    "    else:\n",
    "        i = start\n",
    "        while i < len(nums) and nums[i] <= target:\n",
    "            if not nums[i] == nums[i-1]:\n",
    "                temp_list.append(nums[i])\n",
    "                backtrack(result, temp_list, nums, remain - nums[i], i+1)\n",
    "                temp_list.pop()\n",
    "            i += 1\n",
    "            \n",
    "def combination_sum(nums, target):\n",
    "    nums = sorted(nums)\n",
    "    result = []\n",
    "    temp_list = []\n",
    "    backtrack(result, temp_list, nums, target, 0)\n",
    "    return result\n",
    "\n",
    "nums = [2, 6, 3, 2, 7]\n",
    "target = 7\n",
    "combination_sum(nums, target)"
   ]
  },
  {
   "cell_type": "code",
   "execution_count": 11,
   "metadata": {
    "collapsed": false
   },
   "outputs": [
    {
     "name": "stdout",
     "output_type": "stream",
     "text": [
      "[[2, 6], [2, 2, 3], [3, 4]]\n"
     ]
    }
   ],
   "source": [
    "def factor_combinations(result, combi, n):\n",
    "    i = 2 if not combi else combi[-1]\n",
    "    while i <= n//i:\n",
    "        if n%i == 0:\n",
    "            combi.append(i)\n",
    "            combi.append(n/i)\n",
    "            result.append(list(combi))\n",
    "            combi.pop()\n",
    "            factor_combinations(result, combi, n//i)\n",
    "            combi.pop()\n",
    "        i += 1\n",
    "\n",
    "result = []\n",
    "factor_combinations(result, [], 12)\n",
    "print result"
   ]
  },
  {
   "cell_type": "code",
   "execution_count": null,
   "metadata": {
    "collapsed": true
   },
   "outputs": [],
   "source": [
    "def sudoku(board):\n",
    "    n_rows = len(board)\n",
    "    n_cols = len(board[0])\n",
    "    used_rows = [[]]\n",
    "    used_cols = {}\n",
    "    used_inner = {}\n",
    "    for i in range(n_rows):\n",
    "        for j in range(n_cols):\n",
    "            if not board[i][j] == '.':\n",
    "                num = int(board[i][j])\n",
    "                k = i/3*3 + j/3\n",
    "                if used_rows[i][num] or user_cols[j][num] or used_inner[k][num]:\n",
    "                    return False\n",
    "                used_rows[i][num] = used_cols[j][num] = used_inner[k][num] = True\n",
    "    return True"
   ]
  },
  {
   "cell_type": "code",
   "execution_count": 54,
   "metadata": {
    "collapsed": false
   },
   "outputs": [],
   "source": [
    "def word_break(s, words):\n",
    "    n = len(s)\n",
    "    dp = n*[0]\n",
    "    for i in range(n):\n",
    "        for w in words:\n",
    "            if s[i-len(w)+1:i+1] == w and (i-len(w)+1 == 0 or dp[i-len(w)]):\n",
    "                dp[i] = True\n",
    "                break\n",
    "    return dp[-1]\n",
    "\n",
    "words = ['leet', 'code']\n",
    "assert word_break('leetcode', words) == True\n",
    "assert word_break('leetcod', words) == False"
   ]
  }
 ],
 "metadata": {
  "kernelspec": {
   "display_name": "Python 2",
   "language": "python",
   "name": "python2"
  },
  "language_info": {
   "codemirror_mode": {
    "name": "ipython",
    "version": 2
   },
   "file_extension": ".py",
   "mimetype": "text/x-python",
   "name": "python",
   "nbconvert_exporter": "python",
   "pygments_lexer": "ipython2",
   "version": "2.7.12"
  }
 },
 "nbformat": 4,
 "nbformat_minor": 2
}
