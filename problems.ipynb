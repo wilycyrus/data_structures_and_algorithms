{
 "cells": [
  {
   "cell_type": "markdown",
   "metadata": {
    "deletable": true,
    "editable": true
   },
   "source": [
    "## Find the lowest common ancestor of two nodes in a binary tree"
   ]
  },
  {
   "cell_type": "markdown",
   "metadata": {
    "deletable": true,
    "editable": true
   },
   "source": [
    "Find the paths to the two nodes from the root. The last common node in the two pathes is lca. For example, if one path is a-b-c and the other is a-b-d, b is the lca. Or the first interecting element in the two paths from the two nodes to the root."
   ]
  },
  {
   "cell_type": "code",
   "execution_count": 2,
   "metadata": {
    "collapsed": true,
    "deletable": true,
    "editable": true
   },
   "outputs": [],
   "source": [
    "class Tree(object):\n",
    "    def __init__(self, key):\n",
    "        self.key = key\n",
    "        self.left = None\n",
    "        self.right = None\n",
    "        self.parent = None\n",
    "        \n",
    "    def __str__(self):\n",
    "        return str(self.key)\n",
    "    \n",
    "    def set_left(self, tree):\n",
    "        self.left = tree\n",
    "        tree.parent = self\n",
    "\n",
    "    def set_right(self, tree):\n",
    "        self.right = tree\n",
    "        tree.parent = self\n",
    "\n",
    "def search_tree(tree, key):\n",
    "    if not tree:\n",
    "        return None\n",
    "    if tree.key == key:\n",
    "        return tree\n",
    "    left = search_tree(tree.left, key)\n",
    "    right = search_tree(tree.right, key)\n",
    "    return left if left else right"
   ]
  },
  {
   "cell_type": "code",
   "execution_count": 3,
   "metadata": {
    "collapsed": false,
    "deletable": true,
    "editable": true
   },
   "outputs": [
    {
     "name": "stdout",
     "output_type": "stream",
     "text": [
      "b\n",
      "c\n",
      "None\n"
     ]
    }
   ],
   "source": [
    "a = Tree('a')\n",
    "b = Tree('b')\n",
    "c = Tree('c')\n",
    "d = Tree('d')\n",
    "e = Tree('e')\n",
    "a.set_left(b)\n",
    "a.set_right(c)\n",
    "b.set_left(d)\n",
    "b.set_right(e)\n",
    "\n",
    "print(search_tree(a, 'b'))\n",
    "print(search_tree(a, 'c'))\n",
    "print(search_tree(a, 'z'))"
   ]
  },
  {
   "cell_type": "code",
   "execution_count": 4,
   "metadata": {
    "collapsed": true,
    "deletable": true,
    "editable": true
   },
   "outputs": [],
   "source": [
    "def path_from_root(tree, path):\n",
    "    if tree.parent:\n",
    "        path_from_root(tree.parent, path)\n",
    "    path.append(tree)\n",
    "    \n",
    "def print_path(path):\n",
    "    print 'path:',\n",
    "    for tree in path:\n",
    "        print tree,\n",
    "    print"
   ]
  },
  {
   "cell_type": "code",
   "execution_count": 5,
   "metadata": {
    "collapsed": false,
    "deletable": true,
    "editable": true
   },
   "outputs": [],
   "source": [
    "def find_lca(tree, x, y):\n",
    "    tree_x = search_tree(tree, x)\n",
    "    path_x = []\n",
    "    path_from_root(tree_x, path_x)\n",
    "    tree_y = search_tree(tree, y)\n",
    "    path_y = []\n",
    "    path_from_root(tree_y, path_y)\n",
    "    for tree1, tree2 in zip(path_x, path_y):\n",
    "        if not tree1 == tree2:\n",
    "            break\n",
    "        lca = tree1\n",
    "    return lca"
   ]
  },
  {
   "cell_type": "code",
   "execution_count": 6,
   "metadata": {
    "collapsed": false,
    "deletable": true,
    "editable": true
   },
   "outputs": [
    {
     "name": "stdout",
     "output_type": "stream",
     "text": [
      "lca: a\n",
      "lca: b\n"
     ]
    }
   ],
   "source": [
    "lca = find_lca(a, 'c', 'e')\n",
    "print('lca: {}'.format(lca))\n",
    "lca = find_lca(a, 'd', 'e')\n",
    "print('lca: {}'.format(lca))"
   ]
  },
  {
   "cell_type": "code",
   "execution_count": 7,
   "metadata": {
    "collapsed": false,
    "deletable": true,
    "editable": true
   },
   "outputs": [],
   "source": [
    "# A more efficient, recursive approach, O(n)\n",
    "def find_lca(tree, x, y):\n",
    "    if not tree:\n",
    "        return None\n",
    "    \n",
    "    if tree.key == x or tree.key == y:\n",
    "        return tree\n",
    "    \n",
    "    left = find_lca(tree.left, x, y)\n",
    "    right = find_lca(tree.right, x, y)\n",
    "    \n",
    "    if left and right:\n",
    "        return tree\n",
    "    \n",
    "    return left if left else right"
   ]
  },
  {
   "cell_type": "code",
   "execution_count": 8,
   "metadata": {
    "collapsed": false,
    "deletable": true,
    "editable": true
   },
   "outputs": [
    {
     "name": "stdout",
     "output_type": "stream",
     "text": [
      "a\n",
      "b\n"
     ]
    }
   ],
   "source": [
    "lca = find_lca(a, 'c', 'e')\n",
    "print(lca)\n",
    "lca = find_lca(a, 'd', 'e')\n",
    "print(lca)"
   ]
  },
  {
   "cell_type": "markdown",
   "metadata": {
    "deletable": true,
    "editable": true
   },
   "source": [
    "## Find the lowest common ancestor of two nodes in a binary search tree"
   ]
  },
  {
   "cell_type": "markdown",
   "metadata": {
    "deletable": true,
    "editable": true
   },
   "source": [
    "The first algorithm for binary trees above works for binary search trees as well. There is a more efficient algorithm based on a property of binary search trees, the keys in the left subtree is always less than those of the right subtree. Recursively check the key of each node. The first node whose key is between x and y or equals to x or y is the lca."
   ]
  },
  {
   "cell_type": "code",
   "execution_count": 9,
   "metadata": {
    "collapsed": true,
    "deletable": true,
    "editable": true
   },
   "outputs": [],
   "source": [
    "def insert(tree, x, parent=None):\n",
    "    if not tree:\n",
    "        tree = Tree(x)\n",
    "        tree.parent = parent\n",
    "        if parent.key > x:\n",
    "            parent.left = tree\n",
    "        else:\n",
    "            parent.right = tree\n",
    "    else:\n",
    "        if tree.key > x:\n",
    "            insert(tree.left, x, tree)\n",
    "        else:\n",
    "            insert(tree.right, x, tree)\n",
    "            \n",
    "def inorder_traverse(tree):\n",
    "    if tree:\n",
    "        inorder_traverse(tree.left)\n",
    "        process_tree(tree)\n",
    "        inorder_traverse(tree.right)\n",
    "\n",
    "def process_tree(tree):\n",
    "    print(tree.key)"
   ]
  },
  {
   "cell_type": "code",
   "execution_count": 26,
   "metadata": {
    "collapsed": false,
    "deletable": true,
    "editable": true
   },
   "outputs": [
    {
     "name": "stdout",
     "output_type": "stream",
     "text": [
      "a\n",
      "b\n",
      "c\n",
      "d\n",
      "e\n"
     ]
    }
   ],
   "source": [
    "c = Tree('c')\n",
    "tree = c\n",
    "insert(tree, 'a')\n",
    "insert(tree, 'b')\n",
    "insert(tree, 'd')\n",
    "insert(tree, 'e')\n",
    "inorder_traverse(tree) # This is for validating if the tree is a BST."
   ]
  },
  {
   "cell_type": "code",
   "execution_count": 31,
   "metadata": {
    "collapsed": true,
    "deletable": true,
    "editable": true
   },
   "outputs": [],
   "source": [
    "def find_lca(tree, x, y):\n",
    "    if not tree:\n",
    "        return None\n",
    "    if tree.key > min(x, y) and tree.key < max(x, y):\n",
    "        return tree\n",
    "    if tree.key == x or tree.key == y:\n",
    "        return tree\n",
    "    left = find_lca(tree.left, x, y)\n",
    "    right = find_lca(tree.right, x, y)\n",
    "    return left if left else right"
   ]
  },
  {
   "cell_type": "code",
   "execution_count": 32,
   "metadata": {
    "collapsed": false
   },
   "outputs": [
    {
     "name": "stdout",
     "output_type": "stream",
     "text": [
      "c\n",
      "d\n"
     ]
    }
   ],
   "source": [
    "lca = find_lca(tree, 'c', 'e')\n",
    "print(lca)\n",
    "lca = find_lca(tree, 'd', 'e')\n",
    "print(lca)"
   ]
  },
  {
   "cell_type": "markdown",
   "metadata": {},
   "source": [
    "## Print a binary search tree level by level"
   ]
  },
  {
   "cell_type": "markdown",
   "metadata": {},
   "source": [
    "BFS but with two queues."
   ]
  },
  {
   "cell_type": "code",
   "execution_count": 39,
   "metadata": {
    "collapsed": true
   },
   "outputs": [],
   "source": [
    "from Queue import Queue\n",
    "\n",
    "def print_bst(tree):\n",
    "    current_level = Queue()\n",
    "    current_level.put(tree)\n",
    "    next_level = Queue()\n",
    "    while not current_level.empty():\n",
    "        node = current_level.get()\n",
    "        print node.key,\n",
    "        if node.left:\n",
    "            next_level.put(node.left)\n",
    "        if node.right:\n",
    "            next_level.put(node.right)\n",
    "        if current_level.empty():\n",
    "            current_level = next_level\n",
    "            next_level = Queue()\n",
    "            print"
   ]
  },
  {
   "cell_type": "code",
   "execution_count": 40,
   "metadata": {
    "collapsed": false
   },
   "outputs": [
    {
     "name": "stdout",
     "output_type": "stream",
     "text": [
      "c\n",
      "a d\n",
      "b e\n"
     ]
    }
   ],
   "source": [
    "print_bst(tree)"
   ]
  },
  {
   "cell_type": "markdown",
   "metadata": {},
   "source": [
    "## Validate a binary search tree"
   ]
  },
  {
   "cell_type": "markdown",
   "metadata": {},
   "source": [
    "Algorithm 1:\n",
    "Do in-order traverse. The current node should be greater than the previously processed node.\n",
    "O(n)\n",
    "\n",
    "Algorithm 2: min-max\n",
    "The root, a, must be in [-inf, inf].\n",
    "The left child, b, of the root must be in [-inf, a].\n",
    "The right child, c, of the root must be in [a, inf].\n",
    "The left child, d, of b must be in [-inf, b].\n",
    "The right child, e, of b must be in [b, a].\n",
    "The left child, f, of c must be in [a, c].\n",
    "The right child, g, of c must be in [c, inf]\n",
    "...\n",
    "O(n)"
   ]
  },
  {
   "cell_type": "code",
   "execution_count": null,
   "metadata": {
    "collapsed": true
   },
   "outputs": [],
   "source": []
  }
 ],
 "metadata": {
  "kernelspec": {
   "display_name": "Python 2",
   "language": "python",
   "name": "python2"
  },
  "language_info": {
   "codemirror_mode": {
    "name": "ipython",
    "version": 2
   },
   "file_extension": ".py",
   "mimetype": "text/x-python",
   "name": "python",
   "nbconvert_exporter": "python",
   "pygments_lexer": "ipython2",
   "version": "2.7.12"
  }
 },
 "nbformat": 4,
 "nbformat_minor": 2
}
