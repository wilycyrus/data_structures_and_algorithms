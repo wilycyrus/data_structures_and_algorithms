{
 "cells": [
  {
   "cell_type": "markdown",
   "metadata": {
    "deletable": true,
    "editable": true
   },
   "source": [
    "## Find the lowest common ancestor of two nodes in a binary tree"
   ]
  },
  {
   "cell_type": "markdown",
   "metadata": {
    "deletable": true,
    "editable": true
   },
   "source": [
    "Find the paths to the two nodes from the root. The last common node in the two pathes is lca. For example, if one path is a-b-c and the other is a-b-d, b is the lca. Or the first intersecting element in the two paths from the two nodes to the root."
   ]
  },
  {
   "cell_type": "code",
   "execution_count": 86,
   "metadata": {
    "collapsed": true,
    "deletable": true,
    "editable": true
   },
   "outputs": [],
   "source": [
    "class Tree(object):\n",
    "    def __init__(self, key):\n",
    "        self.key = key\n",
    "        self.left = None\n",
    "        self.right = None\n",
    "        self.parent = None\n",
    "        \n",
    "    def __str__(self):\n",
    "        return str(self.key)\n",
    "    \n",
    "    def set_left(self, tree):\n",
    "        self.left = tree\n",
    "        tree.parent = self\n",
    "\n",
    "    def set_right(self, tree):\n",
    "        self.right = tree\n",
    "        tree.parent = self\n",
    "\n",
    "def search_tree(tree, key):\n",
    "    if not tree:\n",
    "        return None\n",
    "    if tree.key == key:\n",
    "        return tree\n",
    "    left = search_tree(tree.left, key)\n",
    "    right = search_tree(tree.right, key)\n",
    "    return left if left else right"
   ]
  },
  {
   "cell_type": "code",
   "execution_count": 87,
   "metadata": {
    "collapsed": false,
    "deletable": true,
    "editable": true
   },
   "outputs": [
    {
     "name": "stdout",
     "output_type": "stream",
     "text": [
      "2\n",
      "3\n",
      "None\n"
     ]
    }
   ],
   "source": [
    "a = Tree(1)\n",
    "b = Tree(2)\n",
    "c = Tree(3)\n",
    "d = Tree(4)\n",
    "e = Tree(5)\n",
    "a.set_left(b)\n",
    "a.set_right(c)\n",
    "b.set_left(d)\n",
    "b.set_right(e)\n",
    "binary_tree = a\n",
    "print(search_tree(a, 2))\n",
    "print(search_tree(a, 3))\n",
    "print(search_tree(a, 6))"
   ]
  },
  {
   "cell_type": "code",
   "execution_count": 88,
   "metadata": {
    "collapsed": true,
    "deletable": true,
    "editable": true
   },
   "outputs": [],
   "source": [
    "def path_from_root(tree, path):\n",
    "    if tree.parent:\n",
    "        path_from_root(tree.parent, path)\n",
    "    path.append(tree)\n",
    "    \n",
    "def print_path(path):\n",
    "    print 'path:',\n",
    "    for tree in path:\n",
    "        print tree,\n",
    "    print"
   ]
  },
  {
   "cell_type": "code",
   "execution_count": 89,
   "metadata": {
    "collapsed": false,
    "deletable": true,
    "editable": true
   },
   "outputs": [],
   "source": [
    "def find_lca(tree, x, y):\n",
    "    tree_x = search_tree(tree, x)\n",
    "    path_x = []\n",
    "    path_from_root(tree_x, path_x)\n",
    "    tree_y = search_tree(tree, y)\n",
    "    path_y = []\n",
    "    path_from_root(tree_y, path_y)\n",
    "    for tree1, tree2 in zip(path_x, path_y):\n",
    "        if not tree1 == tree2:\n",
    "            break\n",
    "        lca = tree1\n",
    "    return lca"
   ]
  },
  {
   "cell_type": "code",
   "execution_count": 90,
   "metadata": {
    "collapsed": false,
    "deletable": true,
    "editable": true
   },
   "outputs": [
    {
     "name": "stdout",
     "output_type": "stream",
     "text": [
      "lca: 1\n",
      "lca: 2\n"
     ]
    }
   ],
   "source": [
    "lca = find_lca(a, 3, 5)\n",
    "print('lca: {}'.format(lca))\n",
    "lca = find_lca(a, 4, 5)\n",
    "print('lca: {}'.format(lca))"
   ]
  },
  {
   "cell_type": "code",
   "execution_count": 102,
   "metadata": {
    "collapsed": false,
    "deletable": true,
    "editable": true
   },
   "outputs": [],
   "source": [
    "# A more efficient, recursive approach, O(n)\n",
    "def find_lca(tree, x, y):\n",
    "    if not tree:\n",
    "        return None\n",
    "    \n",
    "    if tree.key == x or tree.key == y:\n",
    "        return tree\n",
    "    \n",
    "    left = find_lca(tree.left, x, y)\n",
    "    right = find_lca(tree.right, x, y)\n",
    "    \n",
    "    if left and right:\n",
    "        return tree\n",
    "    \n",
    "    return left if left else right"
   ]
  },
  {
   "cell_type": "code",
   "execution_count": 103,
   "metadata": {
    "collapsed": false,
    "deletable": true,
    "editable": true
   },
   "outputs": [
    {
     "name": "stdout",
     "output_type": "stream",
     "text": [
      "1\n",
      "2\n"
     ]
    }
   ],
   "source": [
    "lca = find_lca(a, 3, 5)\n",
    "print(lca)\n",
    "lca = find_lca(a, 4, 5)\n",
    "print(lca)"
   ]
  },
  {
   "cell_type": "markdown",
   "metadata": {
    "deletable": true,
    "editable": true
   },
   "source": [
    "## Find the lowest common ancestor of two nodes in a binary search tree"
   ]
  },
  {
   "cell_type": "markdown",
   "metadata": {
    "deletable": true,
    "editable": true
   },
   "source": [
    "The first algorithm for binary trees above works for binary search trees as well. There is a more efficient algorithm based on a property of binary search trees, the keys in the left subtree is always less than those of the right subtree. Recursively check the key of each node. The first node whose key is between x and y or equals to x or y is the lca."
   ]
  },
  {
   "cell_type": "code",
   "execution_count": 93,
   "metadata": {
    "collapsed": true,
    "deletable": true,
    "editable": true
   },
   "outputs": [],
   "source": [
    "def insert(tree, x, parent=None):\n",
    "    if not tree:\n",
    "        tree = Tree(x)\n",
    "        tree.parent = parent\n",
    "        if parent.key > x:\n",
    "            parent.left = tree\n",
    "        else:\n",
    "            parent.right = tree\n",
    "    else:\n",
    "        if tree.key > x:\n",
    "            insert(tree.left, x, tree)\n",
    "        else:\n",
    "            insert(tree.right, x, tree)\n",
    "            \n",
    "def inorder_traverse(tree):\n",
    "    if tree:\n",
    "        inorder_traverse(tree.left)\n",
    "        process_tree(tree)\n",
    "        inorder_traverse(tree.right)\n",
    "\n",
    "def process_tree(tree):\n",
    "    print(tree.key)"
   ]
  },
  {
   "cell_type": "code",
   "execution_count": 94,
   "metadata": {
    "collapsed": false,
    "deletable": true,
    "editable": true
   },
   "outputs": [
    {
     "name": "stdout",
     "output_type": "stream",
     "text": [
      "1\n",
      "2\n",
      "3\n",
      "4\n",
      "5\n"
     ]
    }
   ],
   "source": [
    "tree = Tree(3)\n",
    "bst = tree\n",
    "insert(tree, 1)\n",
    "insert(tree, 2)\n",
    "insert(tree, 4)\n",
    "insert(tree, 5)\n",
    "inorder_traverse(tree) # This is for validating if the tree is a BST."
   ]
  },
  {
   "cell_type": "code",
   "execution_count": 95,
   "metadata": {
    "collapsed": true,
    "deletable": true,
    "editable": true
   },
   "outputs": [],
   "source": [
    "def find_lca(tree, x, y):\n",
    "    if not tree:\n",
    "        return None\n",
    "    if tree.key > min(x, y) and tree.key < max(x, y):\n",
    "        return tree\n",
    "    if tree.key == x or tree.key == y:\n",
    "        return tree\n",
    "    left = find_lca(tree.left, x, y)\n",
    "    right = find_lca(tree.right, x, y)\n",
    "    return left if left else right"
   ]
  },
  {
   "cell_type": "code",
   "execution_count": 96,
   "metadata": {
    "collapsed": false,
    "deletable": true,
    "editable": true
   },
   "outputs": [
    {
     "name": "stdout",
     "output_type": "stream",
     "text": [
      "3\n",
      "4\n"
     ]
    }
   ],
   "source": [
    "lca = find_lca(tree, 3, 5)\n",
    "print(lca)\n",
    "lca = find_lca(tree, 4, 5)\n",
    "print(lca)"
   ]
  },
  {
   "cell_type": "markdown",
   "metadata": {
    "deletable": true,
    "editable": true
   },
   "source": [
    "## Print a binary search tree level by level"
   ]
  },
  {
   "cell_type": "markdown",
   "metadata": {
    "deletable": true,
    "editable": true
   },
   "source": [
    "BFS but with two queues."
   ]
  },
  {
   "cell_type": "code",
   "execution_count": 97,
   "metadata": {
    "collapsed": true,
    "deletable": true,
    "editable": true
   },
   "outputs": [],
   "source": [
    "from Queue import Queue\n",
    "\n",
    "def print_bst(tree):\n",
    "    current_level = Queue()\n",
    "    current_level.put(tree)\n",
    "    next_level = Queue()\n",
    "    while not current_level.empty():\n",
    "        node = current_level.get()\n",
    "        print node.key,\n",
    "        if node.left:\n",
    "            next_level.put(node.left)\n",
    "        if node.right:\n",
    "            next_level.put(node.right)\n",
    "        if current_level.empty():\n",
    "            current_level = next_level\n",
    "            next_level = Queue()\n",
    "            print"
   ]
  },
  {
   "cell_type": "code",
   "execution_count": 98,
   "metadata": {
    "collapsed": false,
    "deletable": true,
    "editable": true
   },
   "outputs": [
    {
     "name": "stdout",
     "output_type": "stream",
     "text": [
      "3\n",
      "1 4\n",
      "2 5\n"
     ]
    }
   ],
   "source": [
    "print_bst(tree)"
   ]
  },
  {
   "cell_type": "markdown",
   "metadata": {
    "deletable": true,
    "editable": true
   },
   "source": [
    "## Validate a binary search tree"
   ]
  },
  {
   "cell_type": "markdown",
   "metadata": {
    "deletable": true,
    "editable": true
   },
   "source": [
    "Algorithm 1:\n",
    "Do in-order traverse. The current node should be greater than the previously processed node.\n",
    "O(n)\n",
    "\n",
    "Algorithm 2: min-max\n",
    "The root, a, must be in [-inf, inf].\n",
    "The left child, b, of the root must be in [-inf, a].\n",
    "The right child, c, of the root must be in [a, inf].\n",
    "The left child, d, of b must be in [-inf, b].\n",
    "The right child, e, of b must be in [b, a].\n",
    "The left child, f, of c must be in [a, c].\n",
    "The right child, g, of c must be in [c, inf]\n",
    "...\n",
    "O(n)"
   ]
  },
  {
   "cell_type": "code",
   "execution_count": 99,
   "metadata": {
    "collapsed": false,
    "deletable": true,
    "editable": true
   },
   "outputs": [],
   "source": [
    "def process_tree(tree):\n",
    "    global stack\n",
    "    stack.append(tree.key)\n",
    "\n",
    "def validate_bst(tree):\n",
    "    global stack\n",
    "    inorder_traverse(tree)\n",
    "    prev_key = -float('inf')\n",
    "    for key in stack:\n",
    "        if key < prev_key:\n",
    "            return False\n",
    "        prev_key = key\n",
    "    return True\n",
    "stack = []\n",
    "assert validate_bst(bst) is True\n",
    "stack = []\n",
    "assert validate_bst(binary_tree) is False"
   ]
  },
  {
   "cell_type": "code",
   "execution_count": 105,
   "metadata": {
    "collapsed": false,
    "deletable": true,
    "editable": true
   },
   "outputs": [],
   "source": [
    "def validate_bst(tree, min_value, max_value):\n",
    "    if not tree:\n",
    "        return True\n",
    "    if tree.key < min_value or tree.key > max_value:\n",
    "        return False\n",
    "    return validate_bst(tree.left, min_value, tree.key) and validate_bst(tree.right, tree.key, max_value)\n",
    "min_value = -float('inf')\n",
    "max_value = float('inf')\n",
    "assert validate_bst(bst, min_value, max_value)\n",
    "assert not validate_bst(binary_tree, min_value, max_value)"
   ]
  },
  {
   "cell_type": "markdown",
   "metadata": {
    "deletable": true,
    "editable": true
   },
   "source": [
    "## Two Sum\n",
    "\n",
    "O(n) using a hash table"
   ]
  },
  {
   "cell_type": "code",
   "execution_count": 3,
   "metadata": {
    "collapsed": false,
    "deletable": true,
    "editable": true
   },
   "outputs": [
    {
     "name": "stdout",
     "output_type": "stream",
     "text": [
      "[(1, 2), (0, 4)]\n"
     ]
    }
   ],
   "source": [
    "def find_twosum(target, data):\n",
    "    dict_ = {}\n",
    "    result = []\n",
    "    for i, _ in enumerate(data):\n",
    "        if data[i] in dict_:\n",
    "            result.append((dict_[data[i]], i))\n",
    "        else:\n",
    "            dict_[target - data[i]] = i\n",
    "    return result\n",
    "\n",
    "data = [1, 7, 3, 8, 9]\n",
    "target = 10\n",
    "print find_twosum(target, data)"
   ]
  },
  {
   "cell_type": "markdown",
   "metadata": {
    "deletable": true,
    "editable": true
   },
   "source": [
    "## Three Sum\n",
    "\n",
    "```\n",
    "sort(s)\n",
    "for i = 0 to n-3\n",
    "    a = s[i]\n",
    "    start = i + 1\n",
    "    end = n - 1\n",
    "    while start < end\n",
    "        b = s[start]\n",
    "        c = s[end]\n",
    "        if a + b + c = 0 then\n",
    "            output a, b, c\n",
    "            end -= 1\n",
    "        else if a + b + c > 0 then\n",
    "            end -= 1\n",
    "        else\n",
    "            start += 1\n",
    "```\n",
    "Worst case O(n^2)"
   ]
  },
  {
   "cell_type": "code",
   "execution_count": 11,
   "metadata": {
    "collapsed": false,
    "deletable": true,
    "editable": true
   },
   "outputs": [
    {
     "name": "stdout",
     "output_type": "stream",
     "text": [
      "[(1, 2, 7), (1, 4, 5), (2, 3, 5)]\n"
     ]
    }
   ],
   "source": [
    "def find_threesum(target, data):\n",
    "    data = sorted(data)\n",
    "    result = []\n",
    "    n = len(data)\n",
    "    for i in range(n - 2):\n",
    "        a = data[i]\n",
    "        start = i + 1\n",
    "        end = n - 1\n",
    "        while start < end:\n",
    "            b = data[start]\n",
    "            c = data[end]\n",
    "            if a + b + c == target:\n",
    "                result.append((a, b, c))\n",
    "                end -= 1\n",
    "            elif a + b + c > target:\n",
    "                end -= 1\n",
    "            else:\n",
    "                start += 1\n",
    "    return result\n",
    "\n",
    "data = [1, 8, 2, 3, 9, 7, 4, 5]\n",
    "target = 10\n",
    "print(find_threesum(target, data))"
   ]
  },
  {
   "cell_type": "markdown",
   "metadata": {
    "collapsed": false,
    "deletable": true,
    "editable": true
   },
   "source": [
    "## Evaluate infix expressions\n",
    "\n",
    "This is a infix-to-postfix conversion algorithm but the logic is same:\n",
    "\n",
    "```\n",
    "Scan the token list from left to right.\n",
    "If the token is an operand, append it to the end of the output list.\n",
    "If the token is a left parenthesis, push it on the opstack.\n",
    "If the token is a right parenthesis, pop the opstack until the corresponding left parenthesis is removed. Append each operator to the end of the output list.\n",
    "If the token is an operator, *, /, +, or -, push it on the opstack. However, first remove any operators already on the opstack that have higher or equal precedence and append them to the output list.\n",
    "When the input expression has been completely processed, check the opstack. Any operators still on the stack can be removed and appended to the end of the output list.```"
   ]
  },
  {
   "cell_type": "code",
   "execution_count": 44,
   "metadata": {
    "collapsed": false,
    "deletable": true,
    "editable": true
   },
   "outputs": [
    {
     "name": "stdout",
     "output_type": "stream",
     "text": [
      "Compute 0.0 - 1.0\n",
      "Compute -1.0 * 12.0\n",
      "Compute 1.0 * -12.0\n",
      "Compute 1.0 - 9.0\n",
      "Compute 2.0 * -8.0\n",
      "Compute -12.0 + -16.0\n"
     ]
    },
    {
     "data": {
      "text/plain": [
       "-28.0"
      ]
     },
     "execution_count": 44,
     "metadata": {},
     "output_type": "execute_result"
    }
   ],
   "source": [
    "from tokenize import generate_tokens\n",
    "from StringIO import StringIO\n",
    "\n",
    "def validate_expr(expr):\n",
    "    # If expr starts with -, pad with 0.\n",
    "    # All parenteses are balanced.\n",
    "    pass\n",
    "\n",
    "def compute(num2, num1, op):\n",
    "    print 'Compute {} {} {}'.format(num1, op, num2)\n",
    "    if op == '+':\n",
    "        return num1 + num2\n",
    "    elif op == '-':\n",
    "        return num1 - num2\n",
    "    elif op == '*':\n",
    "        return num1 * num2\n",
    "    elif op == '/':\n",
    "        return num1 / num2\n",
    "    else:\n",
    "        print('Invalid operator')\n",
    "        return None\n",
    "    \n",
    "def eval_infix(expr):\n",
    "    num_stack = []\n",
    "    op_stack = []\n",
    "    priority = {'(': 0, ')': 0, '+': 1, '-': 1, '*': 2, '/': 2}\n",
    "\n",
    "    # Handle the leading negative symbol\n",
    "    if expr.startswith('-'):\n",
    "        expr = '1*(0-1)*' + expr[1:]\n",
    "    \n",
    "    tokens = generate_tokens(StringIO(expr).readline)\n",
    "    for token_num, token_val, _, _, _ in tokens:\n",
    "        if not token_val:\n",
    "            break\n",
    "        elif token_val.isdigit():\n",
    "            num_stack.append(float(token_val))\n",
    "        elif token_val == '(':\n",
    "            op_stack.append(token_val)\n",
    "        elif token_val == ')':\n",
    "            while not op_stack[-1] == '(':\n",
    "                num_stack.append(compute(num_stack.pop(), num_stack.pop(), op_stack.pop()))\n",
    "            op_stack.pop()\n",
    "        else: # token_val is an operator.\n",
    "            while op_stack and priority[token_val] < priority[op_stack[-1]]:\n",
    "                num_stack.append(compute(num_stack.pop(), num_stack.pop(), op_stack.pop()))\n",
    "            op_stack.append(token_val)\n",
    "    \n",
    "    while op_stack:\n",
    "        num_stack.append(compute(num_stack.pop(), num_stack.pop(), op_stack.pop()))\n",
    "    \n",
    "    return num_stack[0] if num_stack else 0\n",
    "\n",
    "expr = '-12+2*(1-9)'\n",
    "eval_infix(expr)"
   ]
  },
  {
   "cell_type": "markdown",
   "metadata": {
    "collapsed": false,
    "deletable": true,
    "editable": true
   },
   "source": [
    "## Max. No of Meeting Rooms\n",
    "\n",
    "```\n",
    "Flatten the (start, end) pairs.\n",
    "Sort the times.\n",
    "For each time\n",
    "  If the time is start\n",
    "    count++\n",
    "  else\n",
    "    count--\n",
    "Return max. count\n",
    "```\n",
    "\n",
    "memory O(n)\n",
    "\n",
    "time O(nlogn) for sorting the list\n",
    "\n",
    "where n is the no. of meetings"
   ]
  },
  {
   "cell_type": "code",
   "execution_count": 12,
   "metadata": {
    "collapsed": false,
    "deletable": true,
    "editable": true
   },
   "outputs": [
    {
     "name": "stdout",
     "output_type": "stream",
     "text": [
      "2\n"
     ]
    }
   ],
   "source": [
    "meetings = [(1, 4), (5, 6), (8, 9), (2, 6)]\n",
    "times = []\n",
    "for time in meetings:\n",
    "    times.append((time[0], 0))\n",
    "    times.append((time[1], 1))\n",
    "\n",
    "times.sort(key = lambda time: time[0])\n",
    "\n",
    "count = 0\n",
    "max_count = 0\n",
    "for time, type_ in times:\n",
    "    if type_ == 0:\n",
    "        count += 1\n",
    "    else:\n",
    "        count -= 1\n",
    "    max_count = max(count, max_count)\n",
    "\n",
    "print max_count"
   ]
  },
  {
   "cell_type": "markdown",
   "metadata": {
    "deletable": true,
    "editable": true
   },
   "source": [
    "## Check if a query word with a wildcard exists in a given list of words\n",
    "\n",
    "```\n",
    "Sort the list of words. O(nlogn)\n",
    "Build an inverted index using the first alphabet. O(n)\n",
    "Iterate through the words that have the same first alphabet as the query word. O(nm) worst case if all words start with the same alphabet.\n",
    "```"
   ]
  },
  {
   "cell_type": "code",
   "execution_count": 35,
   "metadata": {
    "collapsed": false,
    "deletable": true,
    "editable": true
   },
   "outputs": [
    {
     "name": "stdout",
     "output_type": "stream",
     "text": [
      "True\n"
     ]
    }
   ],
   "source": [
    "def search_word(query, words):\n",
    "    n = len(words)\n",
    "    words.sort()\n",
    "\n",
    "    # Build index\n",
    "    current_alpha = words[0][0]\n",
    "    start = 0\n",
    "    index = {}\n",
    "    for i in range(1, n):\n",
    "        if not current_alpha == words[i][0]:\n",
    "            end = i - 1\n",
    "            index[current_alpha] = (start, end)\n",
    "            start = i\n",
    "            current_alpha = words[i][0]\n",
    "    end = n - 1\n",
    "    index[current_alpha] = (start, end)\n",
    "\n",
    "    # Search through the words that start with the same alphabet\n",
    "    start, end = index[query[0]]\n",
    "    for i in range(start, end + 1):\n",
    "        match = True\n",
    "        for j, ch in enumerate(query):\n",
    "            if not ch == '.' and not ch == words[i][j]:\n",
    "                match = False\n",
    "                break\n",
    "        if match:\n",
    "            return True\n",
    "    \n",
    "    return False\n",
    "\n",
    "words = ['cat', 'bat', 'bot', 'car', 'rat']\n",
    "query = 'c.r'\n",
    "print(search_word(query, words))"
   ]
  },
  {
   "cell_type": "markdown",
   "metadata": {
    "deletable": true,
    "editable": true
   },
   "source": [
    "## Find the sorted uninon of two sorted lists\n",
    "\n",
    "Something similar to the merge part of the merge sort"
   ]
  },
  {
   "cell_type": "code",
   "execution_count": 3,
   "metadata": {
    "collapsed": false,
    "deletable": true,
    "editable": true
   },
   "outputs": [
    {
     "name": "stdout",
     "output_type": "stream",
     "text": [
      "[1, 2, 3, 4, 5, 6, 7]\n"
     ]
    }
   ],
   "source": [
    "a1 = [1, 3, 5, 7]\n",
    "a2 = [2, 3, 4, 5, 6, 7]\n",
    "n1 = len(a1)\n",
    "n2 = len(a2)\n",
    "result = []\n",
    "i = j = 0\n",
    "while i < n1 and j < n2:\n",
    "    if a1[i] < a2[j]:\n",
    "        result.append(a1[i])\n",
    "        i += 1\n",
    "    elif a1[i] > a2[j]:\n",
    "        result.append(a2[j])\n",
    "        j += 1\n",
    "    else:\n",
    "        result.append(a1[i])\n",
    "        i += 1\n",
    "        j += 1\n",
    "\n",
    "while i < n1:\n",
    "    result.append(a1[i])\n",
    "    i += 1\n",
    "    \n",
    "while j < n2:\n",
    "    result.append(a2[j])\n",
    "    j += 1\n",
    "    \n",
    "print(result)"
   ]
  },
  {
   "cell_type": "markdown",
   "metadata": {
    "deletable": true,
    "editable": true
   },
   "source": [
    "## Palindrome"
   ]
  },
  {
   "cell_type": "code",
   "execution_count": 5,
   "metadata": {
    "collapsed": false,
    "deletable": true,
    "editable": true
   },
   "outputs": [],
   "source": [
    "def palindrome(x, low, high):\n",
    "    if low == high:\n",
    "        return True\n",
    "    return True if x[low] == x[high] else False\n",
    "\n",
    "    palindrome(x, low + 1, high - 1)\n",
    "\n",
    "x = 'madam'\n",
    "assert palindrome(x, 0, len(x) - 1) == True\n",
    "x = 'lonely'\n",
    "assert palindrome(x, 0, len(x) - 1) == False"
   ]
  },
  {
   "cell_type": "markdown",
   "metadata": {
    "deletable": true,
    "editable": true
   },
   "source": [
    "## Maximum Contiguous Sum\n",
    "\n",
    "Iterate through the elements and calculate the contiguous sum. Once the sum becomes negative, it doesn't help increase the contiguous sum. It'd better start over. Return the max. of the contiguous sums."
   ]
  },
  {
   "cell_type": "code",
   "execution_count": 4,
   "metadata": {
    "collapsed": false,
    "deletable": true,
    "editable": true
   },
   "outputs": [],
   "source": [
    "def max_contiguous_sum(x):\n",
    "    n = len(x)\n",
    "    s = n*[0]\n",
    "    s[0] = x[0]\n",
    "    \n",
    "    # The following for-loop can be replaced with the following one liner:\n",
    "    # s[i] = max(s[i - 1] + x[i], x[i])\n",
    "    for i in range(1, n):\n",
    "        if s[i - 1] < 0:\n",
    "            s[i] = x[i]\n",
    "        else:\n",
    "            s[i] = s[i - 1] + x[i]\n",
    "    return max(s)\n",
    "\n",
    "x = [1, 3, -1, 2, -6, 4]\n",
    "assert max_contiguous_sum(x) == 5"
   ]
  },
  {
   "cell_type": "markdown",
   "metadata": {
    "deletable": true,
    "editable": true
   },
   "source": [
    "## Longest Increasing Subsequence\n",
    "\n",
    "The longest increasing subsequence at position i is the longest increasing subsequnce so far at position j added by 1 only if x[i] > x[j].\n"
   ]
  },
  {
   "cell_type": "code",
   "execution_count": 3,
   "metadata": {
    "collapsed": false,
    "deletable": true,
    "editable": true
   },
   "outputs": [],
   "source": [
    "def longest_increasing_subsequence(x):\n",
    "    n = len(x)\n",
    "    l = n*[0]\n",
    "    l[0] = 1\n",
    "    for i in range(1, n):\n",
    "        max_length = 0\n",
    "        for j in range(i):\n",
    "            if x[i] > x[j]:\n",
    "                max_length = max(max_length, l[j])\n",
    "        l[i] = max_length + 1\n",
    "    return max(l)\n",
    "\n",
    "x = [1, 3, -1, 2, -6, 4]\n",
    "assert longest_increasing_subsequence(x) == 3"
   ]
  },
  {
   "cell_type": "markdown",
   "metadata": {
    "deletable": true,
    "editable": true
   },
   "source": [
    "## BFS\n",
    "\n",
    "From the search tree, one can find the shortest path to each vertex from the starting vertex. Note that find_path(u, v, parent) is valid only when bfs is done starting from u. "
   ]
  },
  {
   "cell_type": "code",
   "execution_count": 2,
   "metadata": {
    "collapsed": false,
    "deletable": true,
    "editable": true
   },
   "outputs": [
    {
     "name": "stdout",
     "output_type": "stream",
     "text": [
      "bfs starting from 1\n",
      "1\n",
      "2\n",
      "5\n",
      "6\n",
      "3\n",
      "4\n",
      "Path from 1 to 4:\n",
      "1\n",
      "5\n",
      "4\n",
      "bfs starting from 2\n",
      "2\n",
      "1\n",
      "3\n",
      "5\n",
      "6\n",
      "4\n",
      "Path from 2 to 5:\n",
      "2\n",
      "5\n"
     ]
    }
   ],
   "source": [
    "from collections import defaultdict\n",
    "\n",
    "adj = {}\n",
    "adj[1] = [2, 5, 6]\n",
    "adj[2] = [1, 3, 5]\n",
    "adj[3] = [2, 4]\n",
    "adj[4] = [3, 5]\n",
    "adj[5] = [1, 2, 4]\n",
    "adj[6] = [1]\n",
    "\n",
    "parent = defaultdict(lambda: None)\n",
    "def init_search():\n",
    "    for key in parent.keys():\n",
    "        parent[key] = None\n",
    "\n",
    "def bfs(adj, start):\n",
    "    init_search()\n",
    "    discovered = defaultdict(lambda: False)\n",
    "    processed = defaultdict(lambda: False)\n",
    "    queue = []\n",
    "    \n",
    "    discovered[start] = True\n",
    "    queue.append(start)\n",
    "    while queue:\n",
    "        u = queue.pop(0)\n",
    "        for v in adj[u]:\n",
    "            if not discovered[v]:\n",
    "                discovered[v] = True\n",
    "                parent[v] = u\n",
    "                queue.append(v)\n",
    "        process_vertex(u)\n",
    "        processed[u] = True\n",
    "\n",
    "def process_vertex(v):\n",
    "    print v\n",
    "\n",
    "def find_path(start, end, parent):\n",
    "    stack = []\n",
    "    v = end\n",
    "    while v:\n",
    "        stack.append(v)\n",
    "        v = parent[v]\n",
    "    \n",
    "    print 'Path from {} to {}:'.format(start, end)\n",
    "    while stack:\n",
    "        print stack.pop()\n",
    "\n",
    "print 'bfs starting from 1'\n",
    "bfs(adj, 1)\n",
    "find_path(1, 4, parent)\n",
    "\n",
    "print 'bfs starting from 2'\n",
    "bfs(adj, 2)\n",
    "find_path(2, 5, parent)"
   ]
  },
  {
   "cell_type": "markdown",
   "metadata": {
    "deletable": true,
    "editable": true
   },
   "source": [
    "## DFS\n",
    "\n",
    "BFS with a stack instead of a queue. This is same as the recursive implmentation with printing each vertex in process_vertex_early(). This implementation cannot be used for topological sorting. In topological sorting each vertex should be pushed to a stach in process_vertex late()."
   ]
  },
  {
   "cell_type": "code",
   "execution_count": 3,
   "metadata": {
    "collapsed": false,
    "deletable": true,
    "editable": true
   },
   "outputs": [
    {
     "name": "stdout",
     "output_type": "stream",
     "text": [
      "1\n",
      "6\n",
      "5\n",
      "4\n",
      "3\n",
      "2\n"
     ]
    }
   ],
   "source": [
    "from collections import defaultdict\n",
    "\n",
    "adj = {}\n",
    "adj[1] = [2, 5, 6]\n",
    "adj[2] = [1, 3, 5]\n",
    "adj[3] = [2, 4]\n",
    "adj[4] = [3, 5]\n",
    "adj[5] = [1, 4]\n",
    "adj[6] = [1]\n",
    "\n",
    "def dfs(adj, start):\n",
    "    discovered = defaultdict(lambda: False)\n",
    "    processed = defaultdict(lambda: False)\n",
    "    stack = []\n",
    "    \n",
    "    discovered[start] = True\n",
    "    stack.append(start)\n",
    "    while stack:\n",
    "        u = stack.pop()\n",
    "        for v in adj[u]:\n",
    "            if not discovered[v]:\n",
    "                discovered[v] = True\n",
    "                stack.append(v)\n",
    "        process_vertex(u)\n",
    "        processed[u] = True\n",
    "\n",
    "def process_vertex(v):\n",
    "    print v\n",
    "\n",
    "dfs(adj, 1)"
   ]
  },
  {
   "cell_type": "markdown",
   "metadata": {
    "deletable": true,
    "editable": true
   },
   "source": [
    "This dfs algorithm works for topological sorting. All vertices are initially white. A discovered vertex is grey while A process one is black.\n",
    "1. color all vertices white\n",
    "2. initialize an empty stack S\n",
    "3. while there is still a white vertex u\n",
    "4. color[u] = grey\n",
    "5. vactive = u\n",
    "6. do\n",
    "7. if vactive has a white neighbor v\n",
    "8. color[v] = grey\n",
    "9. insert vactive into S\n",
    "10. vactive = v\n",
    "11. else\n",
    "12. color[vactive ] = black\n",
    "13. pop the top vertex of S, and set it to vactive\n",
    "14. while vactive 6= ∅"
   ]
  },
  {
   "cell_type": "markdown",
   "metadata": {
    "deletable": true,
    "editable": true
   },
   "source": [
    "## Find a postion to insert a number to a sorted array using binary search"
   ]
  },
  {
   "cell_type": "code",
   "execution_count": 27,
   "metadata": {
    "collapsed": false,
    "deletable": true,
    "editable": true
   },
   "outputs": [
    {
     "name": "stdout",
     "output_type": "stream",
     "text": [
      "high - low = 1. low 0, high 1\n",
      "1\n",
      "high - low = 1. low 0, high 1\n",
      "1\n",
      "high - low = 1. low 3, high 4\n",
      "3\n",
      "high - low = 1. low 3, high 4\n",
      "4\n",
      "high - low = 1. low 3, high 4\n",
      "5\n"
     ]
    }
   ],
   "source": [
    "def find_position(x, low, high, key):\n",
    "    if high - low == 1:\n",
    "        print 'high - low = 1. low {}, high {}'.format(low, high)\n",
    "        if key < x[low]:\n",
    "            return low\n",
    "        elif key > x[high]:\n",
    "            return high + 1\n",
    "        else:\n",
    "            return high\n",
    "\n",
    "    if low == high:\n",
    "        if x[low] > key:\n",
    "            return low\n",
    "        else:\n",
    "            return low + 1\n",
    "\n",
    "    if low > high:\n",
    "        return\n",
    "\n",
    "    mid = (low + high)/2\n",
    "    if x[mid] == key:\n",
    "        return mid\n",
    "    if x[mid] > key:\n",
    "        return find_position(x, low, mid - 1, key)\n",
    "    else:\n",
    "        return find_position(x, mid + 1, high, key)\n",
    "        \n",
    "x = [1, 3, 4, 8, 12]\n",
    "n = len(x)\n",
    "print find_position(x, 0, n - 1, 2)\n",
    "print find_position(x, 0, n - 1, 3)\n",
    "print find_position(x, 0, n - 1, 7)\n",
    "print find_position(x, 0, n - 1, 9)\n",
    "print find_position(x, 0, n - 1, 13)"
   ]
  },
  {
   "cell_type": "markdown",
   "metadata": {
    "deletable": true,
    "editable": true
   },
   "source": [
    "## Median of a stream of integers\n",
    "\n",
    "- Unsorted array\n",
    "\n",
    "O(1) for insert, O(n) for median\n",
    "\n",
    "- Sorted array\n",
    "\n",
    "median = x[n/2]\n",
    "\n",
    "O(n) for insert, O(1) for median\n",
    "\n",
    "- Binary search tree\n",
    "\n",
    "In-order traverse. Return the n/2-th node.\n",
    "\n",
    "O(h) for insert, O(n) for median. h is n in the worst case.\n",
    "\n",
    "- Balanced binary search tree\n",
    "\n",
    "Keep the no. of nodes in the left and right trees balanced. Specificaly, keep the left tree height equal or taller than the right tree by 1. The median is the root if the no. of nodes is even. Otherwise, the median is the avg. of the root and the logical predecessor of the root, i.e., the right most node of the left subtree of the root.\n",
    "\n",
    "O(h) for insert, O(h) for median. h is n the worst case.\n",
    "Finding median can be O(1) if update the pointer to the predecessor on each insertion.\n",
    "\n",
    "- Two binary heaps\n",
    "\n",
    "Store an incoming integer to either maxheap or minheap. Similarly to the balanced binary search tree, keep the size of maxheap equal to or greater than the size of minheap by 1. The median is the root of the maxheap when the no. of the integers odd. Otherwise, the avg. of the roots of the two heaps.\n",
    "\n",
    "O(log n) for insertion, O(1) for median."
   ]
  },
  {
   "cell_type": "code",
   "execution_count": 15,
   "metadata": {
    "collapsed": false,
    "deletable": true,
    "editable": true
   },
   "outputs": [
    {
     "name": "stdout",
     "output_type": "stream",
     "text": [
      "Insert 1 to maxheap\n",
      "Insert 3 to maxheap\n",
      "Move 3 from maxheap to minheap\n",
      "Insert 5 to minheap\n",
      "Move 3 to maxheap\n",
      "Insert 9 to minheap\n",
      "Insert 7 to minheap\n",
      "Move 5 to maxheap\n",
      "Insert 5 to maxheap\n",
      "Move 5 from maxheap to minheap\n"
     ]
    }
   ],
   "source": [
    "import heapq\n",
    "\n",
    "def insert(minheap, maxheap, x):\n",
    "    if not minheap or x < minheap[0]: \n",
    "        print 'Insert {} to maxheap'.format(x)\n",
    "        heapq.heappush(maxheap, -x)\n",
    "    else:\n",
    "        print 'Insert {} to minheap'.format(x)\n",
    "        heapq.heappush(minheap, x)\n",
    "        if len(minheap) - len(maxheap) > 0:\n",
    "            y = heapq.heappop(minheap)\n",
    "            print 'Move {} to maxheap'.format(y)\n",
    "            heapq.heappush(maxheap, -y)\n",
    "\n",
    "    if len(maxheap) - len(minheap) > 1: \n",
    "        y = -heapq.heappop(maxheap)\n",
    "        print 'Move {} from maxheap to minheap'.format(y)\n",
    "        heapq.heappush(minheap, y)\n",
    "\n",
    "def find_median(minheap, maxheap):\n",
    "    n1 = len(minheap)\n",
    "    n2 = len(maxheap)\n",
    "    if (n1 + n2) % 2 == 0:\n",
    "        return 0.5*(minheap[0] - maxheap[0])\n",
    "    else:\n",
    "        return maxheap[0]\n",
    "\n",
    "minheap, maxheap = [], []\n",
    "x = [1, 3, 5, 9, 7, 5]\n",
    "for item in x:\n",
    "    insert(minheap, maxheap, item)\n",
    "assert find_median(minheap, maxheap) == 5.0"
   ]
  },
  {
   "cell_type": "markdown",
   "metadata": {
    "deletable": true,
    "editable": true
   },
   "source": [
    "## Write atoi()\n",
    "\n",
    "Iterate from the first character to the end and calculate a running sum. At each digit, (running sum) * 10 + toInt(current character). If the string starts with '-', remember that. The iteration above should start from the frist numerical character. Return the running sum appropriately depending on the starting character. "
   ]
  },
  {
   "cell_type": "code",
   "execution_count": 7,
   "metadata": {
    "collapsed": false,
    "deletable": true,
    "editable": true
   },
   "outputs": [
    {
     "data": {
      "text/plain": [
       "-42"
      ]
     },
     "execution_count": 7,
     "metadata": {},
     "output_type": "execute_result"
    }
   ],
   "source": [
    "def atoi(string):\n",
    "    chToNum = {\"0\": 0, \"1\": 1, \"2\": 2, \"3\": 3, \"4\": 4, \"5\": 5, \"6\": 6, \"7\": 7, \"8\": 8, \"9\": 9}\n",
    "    isPositive = True\n",
    "    if string.startswith('-'):\n",
    "        isPositive = False\n",
    "        string = string[1:]\n",
    "\n",
    "    current_sum = 0\n",
    "    for ch in string:\n",
    "        if ch not in chToNum:\n",
    "            print \"Not a digig.\"\n",
    "            return None\n",
    "        current_sum = current_sum*10 + chToNum[ch]\n",
    "    return current_sum if isPositive else -current_sum\n",
    "\n",
    "atoi('-42')"
   ]
  },
  {
   "cell_type": "markdown",
   "metadata": {
    "deletable": true,
    "editable": true
   },
   "source": [
    "## Linked List"
   ]
  },
  {
   "cell_type": "code",
   "execution_count": 2,
   "metadata": {
    "collapsed": true,
    "deletable": true,
    "editable": true
   },
   "outputs": [],
   "source": [
    "class Node(object):\n",
    "    def __init__(self, x):\n",
    "        self.data = x\n",
    "        self.next = None\n",
    "    \n",
    "    def __str__(self):\n",
    "        return str(self.data)\n",
    "    \n",
    "def traverse_linked_list(l):\n",
    "    result = []\n",
    "    while l:\n",
    "        result.append(l.data)\n",
    "        l = l.next\n",
    "    return result"
   ]
  },
  {
   "cell_type": "markdown",
   "metadata": {
    "deletable": true,
    "editable": true
   },
   "source": [
    "### Unsorted List"
   ]
  },
  {
   "cell_type": "code",
   "execution_count": 3,
   "metadata": {
    "collapsed": false,
    "deletable": true,
    "editable": true
   },
   "outputs": [],
   "source": [
    "# Replace the head with the new node\n",
    "def insert(l, x):\n",
    "    node = Node(x)\n",
    "    node.next = l\n",
    "    return node\n",
    "\n",
    "myList = insert(None, 1)\n",
    "myList = insert(myList, 2)\n",
    "myList = insert(myList, 3)\n",
    "assert traverse_linked_list(myList) == [3, 2, 1]"
   ]
  },
  {
   "cell_type": "code",
   "execution_count": 6,
   "metadata": {
    "collapsed": false,
    "deletable": true,
    "editable": true
   },
   "outputs": [],
   "source": [
    "def search(l, x):\n",
    "    while l:\n",
    "        if l.data == x:\n",
    "            return l\n",
    "        l = l.next\n",
    "    return None\n",
    "\n",
    "myList = Node(1)\n",
    "myList = insert(myList, 2)\n",
    "myList = insert(myList, 3)\n",
    "assert search(myList, 1).data == 1\n",
    "assert search(myList, 2).data == 2\n",
    "assert search(myList, 3).data == 3\n",
    "assert search(myList, 4) is None"
   ]
  },
  {
   "cell_type": "markdown",
   "metadata": {
    "deletable": true,
    "editable": true
   },
   "source": [
    "In finding a predecessor the key is that you iteratively check node.next instead of node."
   ]
  },
  {
   "cell_type": "code",
   "execution_count": 18,
   "metadata": {
    "collapsed": false,
    "deletable": true,
    "editable": true
   },
   "outputs": [],
   "source": [
    "def predecessor(l, x):\n",
    "    # Either head or the end of the list\n",
    "    if not l or not l.next:\n",
    "        return None\n",
    "\n",
    "    while l.next:\n",
    "        if l.next.data == x:\n",
    "            return l\n",
    "        l = l.next\n",
    "    return None\n",
    "\n",
    "# Recursive implentation\n",
    "def predecessor(l, x):\n",
    "    if not l or not l.next:\n",
    "        return None\n",
    "    if l.next.data == x:\n",
    "        return l\n",
    "    else:\n",
    "        return predecessor(l.next, x)\n",
    "\n",
    "myList = Node(1)\n",
    "myList = insert(myList, 2)\n",
    "myList = insert(myList, 3)\n",
    "assert traverse_linked_list(myList) == [3, 2, 1]\n",
    "assert predecessor(myList, 2).data == 3\n",
    "assert predecessor(myList, 1).data == 2\n",
    "assert predecessor(myList, 3) is None"
   ]
  },
  {
   "cell_type": "markdown",
   "metadata": {
    "deletable": true,
    "editable": true
   },
   "source": [
    "Search the target value and its predecessor. Rewire the predecessor to the next of the search result.\n",
    "Think about the following cases:\n",
    "- The given list is empty.\n",
    "- The given list doesn't contain the target value.\n",
    "- The head of the given list contains the target value so that the predecessor is None."
   ]
  },
  {
   "cell_type": "code",
   "execution_count": 30,
   "metadata": {
    "collapsed": false,
    "deletable": true,
    "editable": true
   },
   "outputs": [],
   "source": [
    "def delete(l, x):\n",
    "    if l:\n",
    "        head = l\n",
    "        target = search(l, x)\n",
    "        # If target != None and pred == None, target is the head.\n",
    "        # If target != None and pred != None, target is a node between the head and the tail.\n",
    "        if target:            \n",
    "            pred = predecessor(l, x)\n",
    "            if pred:\n",
    "                pred.next = target.next\n",
    "            else:\n",
    "                head = target.next\n",
    "        return head\n",
    "    return None\n",
    "\n",
    "myList = Node(1)\n",
    "myList = insert(myList, 2)\n",
    "myList = insert(myList, 3)\n",
    "myList = delete(myList, 2)\n",
    "assert traverse_linked_list(myList) == [3, 1]"
   ]
  },
  {
   "cell_type": "code",
   "execution_count": 14,
   "metadata": {
    "collapsed": false,
    "deletable": true,
    "editable": true
   },
   "outputs": [],
   "source": [
    "def split(l, pivot):\n",
    "    lt, gt = None, None\n",
    "    while l:\n",
    "        if l.data < pivot:\n",
    "            lt = insert(lt, l.data)\n",
    "        else:\n",
    "            gt = insert(gt, l.data)\n",
    "        l = l.next\n",
    "        \n",
    "    return lt, gt\n",
    "\n",
    "my_list = insert(None, 3)\n",
    "my_list = insert(my_list, 5)\n",
    "my_list = insert(my_list, 2)\n",
    "my_list = insert(my_list, 1)\n",
    "my_list = insert(my_list, 4)\n",
    "assert traverse_linked_list(my_list) == [4, 1, 2, 5, 3]\n",
    "\n",
    "lt, gt = split(my_list, 3)\n",
    "assert traverse_linked_list(lt) == [2, 1]\n",
    "assert traverse_linked_list(gt) == [3, 5, 4]"
   ]
  },
  {
   "cell_type": "code",
   "execution_count": 21,
   "metadata": {
    "collapsed": false,
    "deletable": true,
    "editable": true
   },
   "outputs": [],
   "source": [
    "# This split implementation is more memory-efficient than the previous one because it re-wires nodes\n",
    "# instead of creating a copy of each node. \n",
    "\n",
    "def insert_node(l, node):\n",
    "    node.next = l\n",
    "    return node\n",
    "\n",
    "def split(l, pivot):\n",
    "    lt, gt = None, None\n",
    "    head = l\n",
    "    while l:\n",
    "        next_ = l.next\n",
    "        if l.data < pivot:\n",
    "            lt = insert_node(lt, l)\n",
    "        else:\n",
    "            gt = insert_node(gt, l)\n",
    "        l = next_\n",
    "    return lt, gt\n",
    "\n",
    "my_list = insert(None, 3)\n",
    "my_list = insert(my_list, 5)\n",
    "my_list = insert(my_list, 2)\n",
    "my_list = insert(my_list, 1)\n",
    "my_list = insert(my_list, 4)\n",
    "assert traverse_linked_list(my_list) == [4, 1, 2, 5, 3]\n",
    "\n",
    "lt, gt = split(my_list, 3)\n",
    "assert traverse_linked_list(lt) == [2, 1]\n",
    "assert traverse_linked_list(gt) == [3, 5, 4]"
   ]
  },
  {
   "cell_type": "markdown",
   "metadata": {
    "deletable": true,
    "editable": true
   },
   "source": [
    "### Sorted List\n",
    "\n",
    "Think about the following cases:\n",
    "- The given list is empty.\n",
    "- The head of the given list is greather than the inserting value.\n",
    "- The inserting value is between the head and the tail."
   ]
  },
  {
   "cell_type": "code",
   "execution_count": 19,
   "metadata": {
    "collapsed": false,
    "deletable": true,
    "editable": true
   },
   "outputs": [],
   "source": [
    "# Insert to a sorted list\n",
    "def insert_sorted(l, x):\n",
    "    new_node = Node(x)\n",
    "    \n",
    "    # If the list is empty...\n",
    "    if not l:\n",
    "        return new_node\n",
    "    \n",
    "    head = l\n",
    "    # If head is greather than x...\n",
    "    if l.data >= x:\n",
    "        new_node.next = l\n",
    "        head = new_node\n",
    "        return head\n",
    "\n",
    "    while l.next:\n",
    "        if l.next.data < x:\n",
    "            l = l.next\n",
    "        else:\n",
    "            l.next, new_node.next = new_node, l.next\n",
    "            return head\n",
    "    \n",
    "    # If all nodes in the list are less than x...\n",
    "    if not l.next:\n",
    "        l.next = new_node\n",
    "        return head\n",
    "\n",
    "myList = Node(2)\n",
    "myList = insert_sorted(myList, 3)\n",
    "myList = insert_sorted(myList, 1)\n",
    "assert traverse_linked_list(myList) == [1, 2, 3]"
   ]
  },
  {
   "cell_type": "markdown",
   "metadata": {
    "collapsed": true,
    "deletable": true,
    "editable": true
   },
   "source": [
    "### Cycle in a Linked List\n",
    "A. Use a hash table. Traverse the list. At each node check if its item is already in the hash table. If yes, the list has a cycle. Otherwise, store the item in the table.\n",
    "B. Traverse with one-node forward and two-node forward. If two traversing reaches to the same node, there is a cycle in the list."
   ]
  },
  {
   "cell_type": "code",
   "execution_count": 19,
   "metadata": {
    "collapsed": false,
    "deletable": true,
    "editable": true
   },
   "outputs": [],
   "source": [
    "def find_cycle(l):\n",
    "    l1 = l\n",
    "    l2 = l\n",
    "    while l1 and l2:\n",
    "        l1 = l1.next        \n",
    "        if l2.next:\n",
    "            l2 = l2.next.next\n",
    "        else:\n",
    "            break\n",
    "        if id(l1) == id(l2):\n",
    "            return True\n",
    "    return False\n",
    "\n",
    "my_list = insert(None, 1)\n",
    "my_list = insert(my_list, 2)\n",
    "my_list = insert(my_list, 3)\n",
    "my_list = insert(my_list, 4)\n",
    "my_list = insert(my_list, 5)\n",
    "node1 = search(my_list, 1)\n",
    "node2 = search(my_list, 2)\n",
    "node5 = search(my_list, 5)\n",
    "node1.next = node5\n",
    "assert find_cycle(my_list) == True"
   ]
  },
  {
   "cell_type": "markdown",
   "metadata": {
    "collapsed": false,
    "deletable": true,
    "editable": true
   },
   "source": [
    "### Middle of a Linked List\n",
    "Traverse the list in two ways: one-step forward and two-step forward. When the two-step forward traversing meets the end of the list, the node where the one-step forward traversing is located is the middle of the list."
   ]
  },
  {
   "cell_type": "code",
   "execution_count": 4,
   "metadata": {
    "collapsed": false,
    "deletable": true,
    "editable": true
   },
   "outputs": [],
   "source": [
    "def find_middle(l):\n",
    "    l1 = l\n",
    "    l2 = l\n",
    "    while l2:\n",
    "        if l2.next:\n",
    "            l2 = l2.next.next\n",
    "            l1 = l1.next\n",
    "        else:\n",
    "            break\n",
    "    return l1.data\n",
    "\n",
    "my_list = insert(None, 1)\n",
    "my_list = insert(my_list, 2)\n",
    "my_list = insert(my_list, 3)\n",
    "my_list = insert(my_list, 4)\n",
    "my_list = insert(my_list, 5)\n",
    "assert find_middle(my_list) == 3"
   ]
  },
  {
   "cell_type": "markdown",
   "metadata": {
    "deletable": true,
    "editable": true
   },
   "source": [
    "### Reverse the Individual Words in a String "
   ]
  },
  {
   "cell_type": "code",
   "execution_count": 4,
   "metadata": {
    "collapsed": false,
    "deletable": true,
    "editable": true
   },
   "outputs": [],
   "source": [
    "def reverse_words(s):\n",
    "    s = list(s)\n",
    "    found_start = False\n",
    "    start = 0\n",
    "    end = 0\n",
    "    for i in range(len(s)):\n",
    "        if not found_start:\n",
    "            if s[i] == ' ':\n",
    "                continue\n",
    "            else:\n",
    "                start = i\n",
    "                found_start = True\n",
    "        else:\n",
    "            if s[i] == ' ':\n",
    "                end = i - 1\n",
    "                reverse(s, start, end)\n",
    "                found_start = False\n",
    "            else:\n",
    "                continue\n",
    "    s = ''.join(s)\n",
    "    return s\n",
    "    \n",
    "def reverse(l, low, high):\n",
    "    while low < high:\n",
    "        l[low], l[high] = l[high], l[low]\n",
    "        low += 1\n",
    "        high -= 1\n",
    "\n",
    "l = list(' hello ')\n",
    "reverse(l, 1, 5)\n",
    "s = ''.join(l)\n",
    "assert s == ' olleh '\n",
    "\n",
    "s = ' hello  world '\n",
    "assert reverse_words(s) == ' olleh  dlrow '"
   ]
  },
  {
   "cell_type": "markdown",
   "metadata": {
    "deletable": true,
    "editable": true
   },
   "source": [
    "### Reverse the order of the words in a String\n",
    "First, reverse the whole string. Second, reverse each word.\n",
    "\n",
    "Clarify how to handle spaces."
   ]
  },
  {
   "cell_type": "code",
   "execution_count": 5,
   "metadata": {
    "collapsed": false,
    "deletable": true,
    "editable": true
   },
   "outputs": [
    {
     "data": {
      "text/plain": [
       "'  world hello '"
      ]
     },
     "execution_count": 5,
     "metadata": {},
     "output_type": "execute_result"
    }
   ],
   "source": [
    "def reverse_words_order(s):\n",
    "    s = ''.join(reversed(s))\n",
    "    return reverse_words(s)\n",
    "\n",
    "s = ' hello world  '\n",
    "reverse_words_order(s)"
   ]
  },
  {
   "cell_type": "markdown",
   "metadata": {
    "deletable": true,
    "editable": true
   },
   "source": [
    "### Strip Whitespaces in a String\n",
    "The initial value for the index of the first space is 0. Iterate over the characters. Swap if the character of the current position is not a space. Move the position of the first space to the right. Similar to Skiena's implementation of quicksort. In the end strip off all trailing spaces. O(n)"
   ]
  },
  {
   "cell_type": "code",
   "execution_count": 2,
   "metadata": {
    "collapsed": false,
    "deletable": true,
    "editable": true
   },
   "outputs": [],
   "source": [
    "def strip_spaces(s):\n",
    "    first_space = 0\n",
    "    s = list(s)\n",
    "    for i, char in enumerate(s):\n",
    "        if not char == ' ':\n",
    "            swap(s, first_space, i)\n",
    "            first_space += 1\n",
    "    s = s[:first_space]\n",
    "    return ''.join(s)\n",
    "\n",
    "def swap(l, i, j):\n",
    "    l[i], l[j] = l[j], l[i]\n",
    "\n",
    "s = ' hello  world '\n",
    "assert strip_spaces(s) == 'helloworld'"
   ]
  },
  {
   "cell_type": "markdown",
   "metadata": {
    "deletable": true,
    "editable": true
   },
   "source": [
    "### Remove duplicate characters in a string\n",
    "'aa  bbb' -> 'a b'"
   ]
  },
  {
   "cell_type": "code",
   "execution_count": 3,
   "metadata": {
    "collapsed": true,
    "deletable": true,
    "editable": true
   },
   "outputs": [],
   "source": [
    "def remove_duplicates(s):\n",
    "    result = [s[0]]\n",
    "    for i in range(1, len(s)):\n",
    "        if not s[i] == s[i-1]:\n",
    "            result.append(s[i])\n",
    "    return ''.join(result)\n",
    "\n",
    "s = 'aa bbb'\n",
    "assert remove_duplicates(s) == 'a b'"
   ]
  },
  {
   "cell_type": "markdown",
   "metadata": {
    "deletable": true,
    "editable": true
   },
   "source": [
    "### Find the first non-repeating character in a string\n",
    "'abca' -> 'b'\n",
    "\n",
    "A.\n",
    "\n",
    "Store the count of each alphabet in a dictionary.\n",
    "\n",
    "Scan the string. For each char, increment its count.\n",
    "\n",
    "Scan again. For each char, return if its count is one.\n",
    "\n",
    "O(len(s)), but have to scan twice.\n",
    "\n",
    "B.\n",
    "\n",
    "If the string is long and the size of alphabets is small, algorithm A is inefficient.\n",
    "\n",
    "Store the (count, the index of the first appearance) tuples in a dictionary.\n",
    "\n",
    "Scan the string. For each char, increment its count.\n",
    "\n",
    "Scan the count dictionary instead of the string. Return the char at the min index among the chars whose counts are one.\n",
    "\n",
    "Still O(len(s)) if len(s) > len(alphabets), but the second scanning is much faster than the first scanning."
   ]
  },
  {
   "cell_type": "code",
   "execution_count": 13,
   "metadata": {
    "collapsed": false,
    "deletable": true,
    "editable": true
   },
   "outputs": [],
   "source": [
    "from collections import defaultdict\n",
    "\n",
    "def unique_char(s):\n",
    "    counts = defaultdict(lambda: (0, 0))\n",
    "    for i, char in enumerate(s):\n",
    "        if counts[char][0] == 0:\n",
    "            counts[char] = (1, i)\n",
    "        else:\n",
    "            count = counts[char][0] + 1\n",
    "            index = counts[char][1]\n",
    "            counts[char] = (count, index)\n",
    "        \n",
    "    min_index = len(s)\n",
    "    for k, (count, index) in counts.iteritems():\n",
    "        if count == 1:\n",
    "            min_index = min(min_index, index)\n",
    "    \n",
    "    return s[min_index]\n",
    "    \n",
    "assert unique_char('abca') == 'b'"
   ]
  },
  {
   "cell_type": "markdown",
   "metadata": {},
   "source": [
    "### Longest increasing subsequence\n",
    "A. Dynamic programming, O(n^2)"
   ]
  },
  {
   "cell_type": "code",
   "execution_count": 9,
   "metadata": {
    "collapsed": false,
    "deletable": true,
    "editable": true
   },
   "outputs": [],
   "source": [
    "def longest_increasing_subsequence(s):\n",
    "    n = len(s)\n",
    "    l = n*[0]\n",
    "    l[0] = 1\n",
    "    for i in range(n):\n",
    "        for j in range(i):\n",
    "            if s[i] > s[j]:                    \n",
    "                l[i] = max(l[i], l[j] + 1)\n",
    "    return max(l)\n",
    "\n",
    "assert longest_increasing_subsequence([1, 3, 2, 7, 8, 5]) == 4"
   ]
  },
  {
   "cell_type": "markdown",
   "metadata": {},
   "source": [
    "Can you return the longest increasing subsequnce, too?"
   ]
  },
  {
   "cell_type": "code",
   "execution_count": 19,
   "metadata": {
    "collapsed": false
   },
   "outputs": [],
   "source": [
    "def longest_increasing_subsequence(s):\n",
    "    n = len(s)\n",
    "    l = n*[0]\n",
    "    l[0] = 1\n",
    "    subseq = [[] for i in range(n)]\n",
    "    subseq[0] = [s[0]]\n",
    "\n",
    "    for i in range(n):\n",
    "        for j in range(i):\n",
    "            if s[i] > s[j]:\n",
    "                length = l[j] + 1\n",
    "                if l[i] < length:\n",
    "                    l[i] = length\n",
    "                    subseq[i] = subseq[j] + [s[i]] \n",
    "    \n",
    "    max_length = max(l)\n",
    "    longest_subseq = subseq[l.index(max_length)] # index returns the first occurence.\n",
    "    return max_length, longest_subseq\n",
    "\n",
    "length, subseq = longest_increasing_subsequence([1, 3, 2, 7, 8, 5])\n",
    "assert length == 4\n",
    "assert subseq == [1, 3, 7, 8]"
   ]
  },
  {
   "cell_type": "markdown",
   "metadata": {},
   "source": [
    "Topological sorting and longest path from each node in DAG. O(n + m) but m ~ O(n^2) so that no efficiency gain."
   ]
  },
  {
   "cell_type": "markdown",
   "metadata": {},
   "source": [
    "### Max contiguous sum\n",
    "Scan the array and calculate the contiguous sum up to the current position. If adding the current item to the contiguous sum up to the previous item doesn't increase the contiguous sum, reset."
   ]
  },
  {
   "cell_type": "code",
   "execution_count": 22,
   "metadata": {
    "collapsed": false
   },
   "outputs": [],
   "source": [
    "def max_countiguous_sum(a):\n",
    "    n = len(a)\n",
    "    s = n*[0]\n",
    "    s[0] = a[0]\n",
    "    for i in range(1, n):\n",
    "        s[i] = max(a[i], s[i-1] + a[i])\n",
    "    return max(s)\n",
    "\n",
    "assert max_countiguous_sum([1, 3, -5, 1, 2]) == 4"
   ]
  }
 ],
 "metadata": {
  "kernelspec": {
   "display_name": "Python 2",
   "language": "python",
   "name": "python2"
  },
  "language_info": {
   "codemirror_mode": {
    "name": "ipython",
    "version": 2
   },
   "file_extension": ".py",
   "mimetype": "text/x-python",
   "name": "python",
   "nbconvert_exporter": "python",
   "pygments_lexer": "ipython2",
   "version": "2.7.12"
  }
 },
 "nbformat": 4,
 "nbformat_minor": 2
}
